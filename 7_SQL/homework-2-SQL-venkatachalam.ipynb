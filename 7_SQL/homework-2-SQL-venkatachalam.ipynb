{
 "cells": [
  {
   "cell_type": "code",
   "execution_count": 6,
   "metadata": {},
   "outputs": [],
   "source": [
    "import pg8000\n",
    "connection = pg8000.connect(database=\"postgres\",user=\"postgres\", password=\"postgress\")\n",
    "cursor=connection.cursor()"
   ]
  },
  {
   "cell_type": "markdown",
   "metadata": {},
   "source": [
    "#### Question 1"
   ]
  },
  {
   "cell_type": "code",
   "execution_count": 22,
   "metadata": {},
   "outputs": [
    {
     "data": {
      "text/plain": [
       "(['Germany', Decimal('36056')],\n",
       " ['United States', Decimal('25764')],\n",
       " ['Japan', Decimal('22952')],\n",
       " ['Italy', Decimal('22306')],\n",
       " ['China', Decimal('15189')],\n",
       " ['Spain', Decimal('13673')],\n",
       " ['France', Decimal('5913')],\n",
       " ['India', Decimal('5020')],\n",
       " ['United Kingdom', Decimal('4054')],\n",
       " ['Australia', Decimal('4010')],\n",
       " ['Greece', Decimal('3792')],\n",
       " ['Belgium', Decimal('2883')],\n",
       " ['Korea, Republic of', Decimal('2557')],\n",
       " ['Czechia', Decimal('2123')],\n",
       " ['Canada', Decimal('2120')])"
      ]
     },
     "execution_count": 22,
     "metadata": {},
     "output_type": "execute_result"
    }
   ],
   "source": [
    "q1=(\"SELECT country, quantity FROM unsolar WHERE year=2014 ORDER BY quantity DESC NULLS LAST LIMIT 15\")\n",
    "cursor.execute(q1)\n",
    "cursor.fetchall()"
   ]
  },
  {
   "cell_type": "markdown",
   "metadata": {},
   "source": [
    "#### Question 2"
   ]
  },
  {
   "cell_type": "code",
   "execution_count": 10,
   "metadata": {},
   "outputs": [
    {
     "data": {
      "text/plain": [
       "(['China', Decimal('20251')],\n",
       " ['Germany', Decimal('8482')],\n",
       " ['India', Decimal('7018')],\n",
       " ['United States', Decimal('6254')],\n",
       " ['Japan', Decimal('5604')],\n",
       " ['Italy', Decimal('4508')],\n",
       " ['Spain', Decimal('3423')],\n",
       " ['South Africa', Decimal('1651')],\n",
       " ['France', Decimal('1439')],\n",
       " ['United Kingdom', Decimal('1431')],\n",
       " ['Greece', Decimal('1369')],\n",
       " ['Czechia', Decimal('1237')],\n",
       " ['Belgium', Decimal('1212')],\n",
       " ['Australia', Decimal('991')],\n",
       " ['Thailand', Decimal('884')],\n",
       " ['Bulgaria', Decimal('789')],\n",
       " ['Chile', Decimal('731')],\n",
       " ['Honduras', Decimal('649')],\n",
       " ['Korea, Republic of', Decimal('633')],\n",
       " ['Romania', Decimal('585')],\n",
       " ['Israel', Decimal('581')])"
      ]
     },
     "execution_count": 10,
     "metadata": {},
     "output_type": "execute_result"
    }
   ],
   "source": [
    "q2=(\"SELECT country, round(avg (quantity)) average_production FROM unsolar GROUP BY country HAVING avg(quantity) >500 ORDER BY avg(quantity) DESC\")\n",
    "cursor.execute(q2)\n",
    "cursor.fetchall()"
   ]
  },
  {
   "cell_type": "markdown",
   "metadata": {},
   "source": [
    "#### Question 3"
   ]
  },
  {
   "cell_type": "code",
   "execution_count": 11,
   "metadata": {},
   "outputs": [
    {
     "data": {
      "text/plain": [
       "([\"Lao People's Dem. Rep.\", 2012],\n",
       " ['American Samoa', 2012],\n",
       " ['Venezuela (Bolivar. Rep.)', 2012],\n",
       " ['Gabon', 2012],\n",
       " ['Mauritius', 2012],\n",
       " ['United Arab Emirates', 2012],\n",
       " ['St. Kitts-Nevis', 2012],\n",
       " ['Marshall Islands', 2012],\n",
       " ['Botswana', 2012],\n",
       " ['South Sudan', 2012],\n",
       " ['Lithuania', 2012],\n",
       " ['Poland', 2012],\n",
       " ['St. Helena and Depend.', 2012])"
      ]
     },
     "execution_count": 11,
     "metadata": {},
     "output_type": "execute_result"
    }
   ],
   "source": [
    "q3=(\"SELECT country, min(year) first_year FROM unsolar GROUP BY country HAVING min(year)=2012 ORDER BY min(year) DESC\")\n",
    "cursor.execute(q3)\n",
    "cursor.fetchall()"
   ]
  },
  {
   "cell_type": "markdown",
   "metadata": {},
   "source": [
    "#### Question 4"
   ]
  },
  {
   "cell_type": "code",
   "execution_count": 12,
   "metadata": {},
   "outputs": [
    {
     "data": {
      "text/plain": [
       "(['Germany', 1991, Decimal('1'), Decimal('215')],\n",
       " ['Germany', 1992, Decimal('4'), Decimal('291')],\n",
       " ['Germany', 1993, Decimal('3'), Decimal('674')],\n",
       " ['Germany', 1994, Decimal('7'), Decimal('1428')],\n",
       " ['Germany', 1995, Decimal('7'), Decimal('1712')],\n",
       " ['Germany', 1996, Decimal('12'), Decimal('2078')],\n",
       " ['Germany', 1997, Decimal('18'), Decimal('3034')],\n",
       " ['Germany', 1998, Decimal('35'), Decimal('4593')],\n",
       " ['Germany', 1999, Decimal('30'), Decimal('5528')],\n",
       " ['Germany', 2000, Decimal('60'), Decimal('9352')],\n",
       " ['Germany', 2001, Decimal('116'), Decimal('10456')],\n",
       " ['Germany', 2002, Decimal('188'), Decimal('15856')],\n",
       " ['Germany', 2003, Decimal('313'), Decimal('18713')],\n",
       " ['Germany', 2004, Decimal('557'), Decimal('25509')],\n",
       " ['Germany', 2005, Decimal('1282'), Decimal('27229')],\n",
       " ['Germany', 2006, Decimal('2220'), Decimal('30710')],\n",
       " ['Germany', 2007, Decimal('3075'), Decimal('39713')],\n",
       " ['Germany', 2008, Decimal('4420'), Decimal('40574')],\n",
       " ['Germany', 2009, Decimal('6584'), Decimal('38647')],\n",
       " ['Germany', 2010, Decimal('11729'), Decimal('37793')],\n",
       " ['Germany', 2011, Decimal('19599'), Decimal('48883')],\n",
       " ['Germany', 2012, Decimal('26380'), Decimal('50670')],\n",
       " ['Germany', 2013, Decimal('31010'), Decimal('51708')],\n",
       " ['Germany', 2014, Decimal('36056'), Decimal('57357')],\n",
       " ['Germany', 2015, Decimal('38726'), Decimal('79206')],\n",
       " ['Germany', 2016, Decimal('38098'), Decimal('78598')])"
      ]
     },
     "execution_count": 12,
     "metadata": {},
     "output_type": "execute_result"
    }
   ],
   "source": [
    "q4=(\"SELECT unsolar.country, unsolar.year, unsolar.quantity solar_production, unwind.quantity wind_production FROM unsolar JOIN unwind ON unsolar.country=unwind.country and unsolar.year=unwind.year WHERE unsolar.country='Germany' ORDER BY unsolar.year\")\n",
    "cursor.execute(q4)\n",
    "cursor.fetchall()"
   ]
  },
  {
   "cell_type": "markdown",
   "metadata": {},
   "source": [
    "#### Question 5"
   ]
  },
  {
   "cell_type": "code",
   "execution_count": 29,
   "metadata": {},
   "outputs": [
    {
     "data": {
      "text/plain": [
       "(['China', Decimal('20251'), Decimal('125454')],\n",
       " ['Germany', Decimal('8482'), Decimal('26174')],\n",
       " ['India', Decimal('7018'), Decimal('31554')],\n",
       " ['United States', Decimal('6254'), Decimal('52771')],\n",
       " ['Japan', Decimal('5604'), Decimal('1906')],\n",
       " ['Italy', Decimal('4508'), Decimal('4556')],\n",
       " ['Spain', Decimal('3423'), Decimal('20006')],\n",
       " ['South Africa', Decimal('1651'), Decimal('1828')],\n",
       " ['France', Decimal('1439'), Decimal('5877')],\n",
       " ['United Kingdom', Decimal('1431'), Decimal('12232')])"
      ]
     },
     "execution_count": 29,
     "metadata": {},
     "output_type": "execute_result"
    }
   ],
   "source": [
    "q5=(\"SELECT unsolar.country, round(avg(unsolar.quantity)) solar_production, round(avg (unwind.quantity)) wind_production FROM unsolar JOIN unwind ON unsolar.country=unwind.country and unsolar.year=unwind.year GROUP BY unsolar.country ORDER BY avg(unsolar.quantity) DESC LIMIT 10\")\n",
    "cursor.execute(q5)\n",
    "cursor.fetchall()"
   ]
  },
  {
   "cell_type": "markdown",
   "metadata": {},
   "source": [
    "#### Question 6"
   ]
  },
  {
   "cell_type": "code",
   "execution_count": 14,
   "metadata": {},
   "outputs": [
    {
     "data": {
      "text/plain": [
       "(['Germany', Decimal('31645'), Decimal('61070')],\n",
       " ['China', Decimal('30279'), Decimal('180028')],\n",
       " ['United States', Decimal('23994'), Decimal('173141')],\n",
       " ['Japan', Decimal('22173'), Decimal('5242')],\n",
       " ['Italy', Decimal('19767'), Decimal('14312')],\n",
       " ['Spain', Decimal('12608'), Decimal('49713')],\n",
       " ['India', Decimal('7018'), Decimal('31554')],\n",
       " ['France', Decimal('5361'), Decimal('17149')],\n",
       " ['United Kingdom', Decimal('4272'), Decimal('28975')],\n",
       " ['Australia', Decimal('3739'), Decimal('9156')])"
      ]
     },
     "execution_count": 14,
     "metadata": {},
     "output_type": "execute_result"
    }
   ],
   "source": [
    "q6=(\"SELECT unsolar.country, round(avg(unsolar.quantity)) solar_production, round(avg (unwind.quantity)) wind_production FROM unsolar JOIN unwind ON unsolar.country=unwind.country and unsolar.year=unwind.year WHERE unsolar.year>2010 GROUP BY unsolar.country ORDER BY avg(unsolar.quantity) DESC LIMIT 10\")\n",
    "cursor.execute(q6)\n",
    "cursor.fetchall()"
   ]
  },
  {
   "cell_type": "markdown",
   "metadata": {},
   "source": [
    "#### Question 7"
   ]
  },
  {
   "cell_type": "code",
   "execution_count": 15,
   "metadata": {},
   "outputs": [
    {
     "data": {
      "text/plain": [
       "(['Italy', 1990, 2016],\n",
       " ['Japan', 1990, 2016],\n",
       " ['Korea, Republic of', 1990, 2016],\n",
       " ['Mexico', 1990, 2016],\n",
       " ['Portugal', 1990, 2016],\n",
       " ['Spain', 1990, 2016],\n",
       " ['Switzerland', 1990, 2016],\n",
       " ['United States', 1990, 2016],\n",
       " ['Finland', 1991, 2016],\n",
       " ['Germany', 1991, 2016],\n",
       " ['Netherlands', 1991, 2016],\n",
       " ['Canada', 1992, 2016],\n",
       " ['Australia', 1993, 2016],\n",
       " ['Austria', 1993, 2016],\n",
       " ['Sweden', 1993, 2016])"
      ]
     },
     "execution_count": 15,
     "metadata": {},
     "output_type": "execute_result"
    }
   ],
   "source": [
    "q7=(\"SELECT unsolar.country, min(unsolar.year), max(unsolar.year) FROM unsolar GROUP BY unsolar.country ORDER BY min(unsolar.year), country LIMIT 15\")\n",
    "cursor.execute(q7)\n",
    "cursor.fetchall()"
   ]
  },
  {
   "cell_type": "markdown",
   "metadata": {},
   "source": [
    "#### Question 8"
   ]
  },
  {
   "cell_type": "code",
   "execution_count": 16,
   "metadata": {},
   "outputs": [
    {
     "data": {
      "text/plain": [
       "(['Australia', 1993, Decimal('11'), 2016, Decimal('6209')],\n",
       " ['Austria', 1993, Decimal('1'), 2016, Decimal('1096')],\n",
       " ['Canada', 1992, Decimal('2'), 2016, Decimal('3031')],\n",
       " ['Finland', 1991, Decimal('1'), 2016, Decimal('17')],\n",
       " ['Germany', 1991, Decimal('1'), 2016, Decimal('38098')],\n",
       " ['Italy', 1990, Decimal('4'), 2016, Decimal('22104')],\n",
       " ['Japan', 1990, Decimal('67'), 2016, Decimal('50952')],\n",
       " ['Korea, Republic of', 1990, Decimal('1'), 2016, Decimal('5123')],\n",
       " ['Mexico', 1990, Decimal('1'), 2016, Decimal('252')],\n",
       " ['Netherlands', 1991, Decimal('1'), 2016, Decimal('1560')],\n",
       " ['Portugal', 1990, Decimal('1'), 2016, Decimal('822')],\n",
       " ['Spain', 1990, Decimal('6'), 2016, Decimal('13649')],\n",
       " ['Sweden', 1993, Decimal('1'), 2016, Decimal('143')],\n",
       " ['Switzerland', 1990, Decimal('1'), 2016, Decimal('1333')],\n",
       " ['United States', 1990, Decimal('666'), 2016, Decimal('50334')])"
      ]
     },
     "execution_count": 16,
     "metadata": {},
     "output_type": "execute_result"
    }
   ],
   "source": [
    "q8= (\"WITH years AS (SELECT unsolar.country, min(unsolar.year) min_year, max(unsolar.year) max_year FROM unsolar GROUP BY unsolar.country ORDER BY min(unsolar.year), country LIMIT 15) SELECT years.country, years.min_year, tab1.quantity, years.max_year, tab2.quantity FROM years JOIN unsolar tab1 ON tab1.country=years.country and tab1.year=years.min_year JOIN unsolar tab2 ON tab2.country=years.country and tab2.year=years.max_year\")\n",
    "cursor.execute(q8)\n",
    "cursor.fetchall()"
   ]
  },
  {
   "cell_type": "markdown",
   "metadata": {},
   "source": [
    "#### Question 9"
   ]
  },
  {
   "cell_type": "code",
   "execution_count": 22,
   "metadata": {},
   "outputs": [
    {
     "data": {
      "text/plain": [
       "(['China', Decimal('20251'), Decimal('125454'), None],\n",
       " ['Germany', Decimal('8482'), Decimal('26174'), None],\n",
       " ['India', Decimal('7018'), Decimal('31554'), None],\n",
       " ['United States', Decimal('6254'), Decimal('52771'), Decimal('16578')],\n",
       " ['Japan', Decimal('5604'), Decimal('1906'), Decimal('2851')],\n",
       " ['Italy', Decimal('4508'), Decimal('4556'), Decimal('4788')],\n",
       " ['Spain', Decimal('3423'), Decimal('20006'), None],\n",
       " ['South Africa', Decimal('1651'), Decimal('1828'), None],\n",
       " ['France', Decimal('1439'), Decimal('5877'), None],\n",
       " ['United Kingdom', Decimal('1431'), Decimal('12232'), None])"
      ]
     },
     "execution_count": 22,
     "metadata": {},
     "output_type": "execute_result"
    }
   ],
   "source": [
    "cursor.execute(\"CREATE VIEW solwind AS (SELECT unsolar.country, round(avg(unsolar.quantity)) solar_production, round(avg (unwind.quantity)) wind_production FROM unsolar JOIN unwind ON unsolar.country=unwind.country and unsolar.year=unwind.year GROUP BY unsolar.country ORDER BY avg(unsolar.quantity) DESC LIMIT 10)\")\n",
    "cursor.execute(\"CREATE VIEW geo AS (SELECT country, round(avg(quantity)) geothermal_production FROM ungeothermal GROUP BY country ORDER BY avg(quantity) DESC LIMIT 10)\")\n",
    "q9=(\"SELECT solwind.country, solwind.solar_production, solwind.wind_production, geo.geothermal_production FROM solwind LEFT JOIN geo ON solwind.country=geo.country\")\n",
    "cursor.execute(q9)\n",
    "cursor.fetchall()"
   ]
  },
  {
   "cell_type": "markdown",
   "metadata": {},
   "source": [
    "#### The End"
   ]
  }
 ],
 "metadata": {
  "kernelspec": {
   "display_name": "Python 3",
   "language": "python",
   "name": "python3"
  },
  "language_info": {
   "codemirror_mode": {
    "name": "ipython",
    "version": 3
   },
   "file_extension": ".py",
   "mimetype": "text/x-python",
   "name": "python",
   "nbconvert_exporter": "python",
   "pygments_lexer": "ipython3",
   "version": "3.7.3"
  }
 },
 "nbformat": 4,
 "nbformat_minor": 2
}
