{
 "cells": [
  {
   "cell_type": "markdown",
   "metadata": {},
   "source": [
    "# SWAPI (Star Wars)\n",
    "\n",
    "Answer the following questions using the [Star Wars](https://swapi.co/). I've added three cells for each question but you're free to use more or less! Hold `Shift` and hit `Enter` to run a cell, and use the `+` on the top left to add a new cell to a notebook.\n",
    "\n",
    "If you spend some time reading the documentation your life will probably be a little bit easier!\n",
    "\n",
    "## 0) Import any libraries you might need\n",
    "\n",
    "- *Tip: We're going to be downloading things from the internet, so we probably need `requests`.*"
   ]
  },
  {
   "cell_type": "code",
   "execution_count": 1,
   "metadata": {},
   "outputs": [],
   "source": [
    "import requests"
   ]
  },
  {
   "cell_type": "markdown",
   "metadata": {},
   "source": [
    "## 1) Make a request to the Star Wars API\n",
    "\n",
    "I've heard there's a new Star Wars film called **Solo**, but it isn't in SWAPI!\n",
    "\n",
    "The most recent film it contains has an ID of 7. Make a request for that film and look at the data."
   ]
  },
  {
   "cell_type": "code",
   "execution_count": 2,
   "metadata": {},
   "outputs": [],
   "source": [
    "films_raw=requests.get('https://swapi.co/api/films/7/')"
   ]
  },
  {
   "cell_type": "code",
   "execution_count": 3,
   "metadata": {},
   "outputs": [],
   "source": [
    "films=films_raw.json()"
   ]
  },
  {
   "cell_type": "code",
   "execution_count": 4,
   "metadata": {},
   "outputs": [
    {
     "name": "stdout",
     "output_type": "stream",
     "text": [
      "{'title': 'The Force Awakens', 'episode_id': 7, 'opening_crawl': \"Luke Skywalker has vanished.\\r\\nIn his absence, the sinister\\r\\nFIRST ORDER has risen from\\r\\nthe ashes of the Empire\\r\\nand will not rest until\\r\\nSkywalker, the last Jedi,\\r\\nhas been destroyed.\\r\\n \\r\\nWith the support of the\\r\\nREPUBLIC, General Leia Organa\\r\\nleads a brave RESISTANCE.\\r\\nShe is desperate to find her\\r\\nbrother Luke and gain his\\r\\nhelp in restoring peace and\\r\\njustice to the galaxy.\\r\\n \\r\\nLeia has sent her most daring\\r\\npilot on a secret mission\\r\\nto Jakku, where an old ally\\r\\nhas discovered a clue to\\r\\nLuke's whereabouts....\", 'director': 'J. J. Abrams', 'producer': 'Kathleen Kennedy, J. J. Abrams, Bryan Burk', 'release_date': '2015-12-11', 'characters': ['https://swapi.co/api/people/1/', 'https://swapi.co/api/people/3/', 'https://swapi.co/api/people/5/', 'https://swapi.co/api/people/13/', 'https://swapi.co/api/people/14/', 'https://swapi.co/api/people/27/', 'https://swapi.co/api/people/84/', 'https://swapi.co/api/people/85/', 'https://swapi.co/api/people/86/', 'https://swapi.co/api/people/87/', 'https://swapi.co/api/people/88/'], 'planets': ['https://swapi.co/api/planets/61/'], 'starships': ['https://swapi.co/api/starships/77/', 'https://swapi.co/api/starships/10/'], 'vehicles': [], 'species': ['https://swapi.co/api/species/3/', 'https://swapi.co/api/species/2/', 'https://swapi.co/api/species/1/'], 'created': '2015-04-17T06:51:30.504780Z', 'edited': '2015-12-17T14:31:47.617768Z', 'url': 'https://swapi.co/api/films/7/'}\n"
     ]
    }
   ],
   "source": [
    "print(films)"
   ]
  },
  {
   "cell_type": "markdown",
   "metadata": {},
   "source": [
    "## 2) What is that film's name, and when was it released?\n",
    "\n",
    "Please print **only** the title and the release date. You can guess at the keys, but I recommend checking the documentation."
   ]
  },
  {
   "cell_type": "code",
   "execution_count": 5,
   "metadata": {},
   "outputs": [
    {
     "name": "stdout",
     "output_type": "stream",
     "text": [
      "dict_keys(['title', 'episode_id', 'opening_crawl', 'director', 'producer', 'release_date', 'characters', 'planets', 'starships', 'vehicles', 'species', 'created', 'edited', 'url'])\n"
     ]
    }
   ],
   "source": [
    "print(films.keys())"
   ]
  },
  {
   "cell_type": "code",
   "execution_count": 6,
   "metadata": {},
   "outputs": [
    {
     "name": "stdout",
     "output_type": "stream",
     "text": [
      "The name of the film is The Force Awakens, and its release date is 2015-12-11\n"
     ]
    }
   ],
   "source": [
    "print(f'The name of the film is {films[\"title\"]}, and its release date is {films[\"release_date\"]}')"
   ]
  },
  {
   "cell_type": "markdown",
   "metadata": {},
   "source": [
    "## 3) But I want Han Solo! Use the API to search for people named \"Solo\"."
   ]
  },
  {
   "cell_type": "code",
   "execution_count": 43,
   "metadata": {
    "scrolled": true
   },
   "outputs": [
    {
     "name": "stdout",
     "output_type": "stream",
     "text": [
      "2 has C3PO\n",
      "14 has Han Solo\n"
     ]
    }
   ],
   "source": [
    "# From the main /people page, I see that the count of people is 87. \n",
    "# Below, I run a loop through all 87 pages under people to look for Han Solo. \n",
    "\n",
    "index=0\n",
    "max=88\n",
    "\n",
    "#range is exclusive, so setting max to 87+1\n",
    "\n",
    "for number in range(1,max):\n",
    "    people_raw=requests.get('https://swapi.co/api/people/'+str(number)+'/')\n",
    "    index=index+1\n",
    "    if people_raw.status_code==404:\n",
    "        continue\n",
    "    people=people_raw.json()\n",
    "    if (\"Solo\") in people[\"name\"]:\n",
    "        print(index, \"has Han Solo\")  \n",
    "    #retrieving this information for Q5 below to avoid sending mutliple API requests.\n",
    "        han_solo=people\n",
    "    #retrieving this information for Q6 below to avoid sending mutliple API requests.\n",
    "    if (\"PO\") in people[\"name\"]:\n",
    "        print(index, \"has C3PO\")\n",
    "        c3po=people"
   ]
  },
  {
   "cell_type": "markdown",
   "metadata": {},
   "source": [
    "## 4) How many results did you get?\n",
    "\n",
    "Show **two different ways** of displaying this number.\n",
    "\n",
    "- *Tip: One uses the API, and one uses a Python function*"
   ]
  },
  {
   "cell_type": "code",
   "execution_count": 8,
   "metadata": {},
   "outputs": [],
   "source": [
    "# 1 result. Person number 14 is Han Solo. See Q4 above for displaying the result using API and Python."
   ]
  },
  {
   "cell_type": "markdown",
   "metadata": {},
   "source": [
    "## 5) Write me a sentence about Han Solo\n",
    "\n",
    "Your sentence should be say `\"____ has _____ hair, is _____cm tall and weighs ____kg.\"` - make sure you have **no spcaes** between the numbers and `cm`/`kg`."
   ]
  },
  {
   "cell_type": "code",
   "execution_count": 9,
   "metadata": {},
   "outputs": [
    {
     "name": "stdout",
     "output_type": "stream",
     "text": [
      "Han Solo has brown is 180cm tall and weighs 80kg.\n"
     ]
    }
   ],
   "source": [
    "print(f'{han_solo[\"name\"]} has {han_solo[\"hair_color\"]} is {han_solo[\"height\"]}cm tall and weighs {han_solo[\"mass\"]}kg.')"
   ]
  },
  {
   "cell_type": "markdown",
   "metadata": {},
   "source": [
    "## 5) Search for C-3PO"
   ]
  },
  {
   "cell_type": "code",
   "execution_count": 10,
   "metadata": {},
   "outputs": [
    {
     "name": "stdout",
     "output_type": "stream",
     "text": [
      "{'name': 'C-3PO', 'height': '167', 'mass': '75', 'hair_color': 'n/a', 'skin_color': 'gold', 'eye_color': 'yellow', 'birth_year': '112BBY', 'gender': 'n/a', 'homeworld': 'https://swapi.co/api/planets/1/', 'films': ['https://swapi.co/api/films/2/', 'https://swapi.co/api/films/5/', 'https://swapi.co/api/films/4/', 'https://swapi.co/api/films/6/', 'https://swapi.co/api/films/3/', 'https://swapi.co/api/films/1/'], 'species': ['https://swapi.co/api/species/2/'], 'vehicles': [], 'starships': [], 'created': '2014-12-10T15:10:51.357000Z', 'edited': '2014-12-20T21:17:50.309000Z', 'url': 'https://swapi.co/api/people/2/'}\n"
     ]
    }
   ],
   "source": [
    "# See Q3 above. C3PO is 2nd in the list of people.\n",
    "print(c3po)"
   ]
  },
  {
   "cell_type": "markdown",
   "metadata": {},
   "source": [
    "## 6) What URL can tell me more about his species? Make a request to the corrent endpoint.\n",
    "\n",
    "Spoiler: he's a **droid**. Are robots a species? I guess so, maybe."
   ]
  },
  {
   "cell_type": "code",
   "execution_count": 12,
   "metadata": {},
   "outputs": [
    {
     "name": "stdout",
     "output_type": "stream",
     "text": [
      "{'name': 'Droid', 'classification': 'artificial', 'designation': 'sentient', 'average_height': 'n/a', 'skin_colors': 'n/a', 'hair_colors': 'n/a', 'eye_colors': 'n/a', 'average_lifespan': 'indefinite', 'homeworld': None, 'language': 'n/a', 'people': ['https://swapi.co/api/people/2/', 'https://swapi.co/api/people/3/', 'https://swapi.co/api/people/8/', 'https://swapi.co/api/people/23/', 'https://swapi.co/api/people/87/'], 'films': ['https://swapi.co/api/films/2/', 'https://swapi.co/api/films/7/', 'https://swapi.co/api/films/5/', 'https://swapi.co/api/films/4/', 'https://swapi.co/api/films/6/', 'https://swapi.co/api/films/3/', 'https://swapi.co/api/films/1/'], 'created': '2014-12-10T15:16:16.259000Z', 'edited': '2015-04-17T06:59:43.869528Z', 'url': 'https://swapi.co/api/species/2/'}\n"
     ]
    }
   ],
   "source": [
    "species_droid_raw=requests.get('https://swapi.co/api/species/2/')\n",
    "species_droid=species_droid_raw.json()\n",
    "print(species_droid)"
   ]
  },
  {
   "cell_type": "markdown",
   "metadata": {},
   "source": [
    "## 7) Print out the URL of every droid\n",
    "\n",
    "* *Tip: life will be easier if you don't say `for droid in...` or `for person in` because you aren't looping through droids or people. What are you looping through?*"
   ]
  },
  {
   "cell_type": "code",
   "execution_count": 13,
   "metadata": {},
   "outputs": [
    {
     "name": "stdout",
     "output_type": "stream",
     "text": [
      "https://swapi.co/api/people/2/\n",
      "https://swapi.co/api/people/3/\n",
      "https://swapi.co/api/people/8/\n",
      "https://swapi.co/api/people/23/\n",
      "https://swapi.co/api/people/87/\n"
     ]
    }
   ],
   "source": [
    "for url in species_droid[\"people\"]:\n",
    "    print(url)"
   ]
  },
  {
   "cell_type": "markdown",
   "metadata": {},
   "source": [
    "## 8) Print out the name of every droid\n",
    "\n",
    "* *Tip: You should start from the last answer, but add more stuff in!*\n",
    "* *Tip: You'll need to make a request every time you're in the loop*\n",
    "* *Tip: Be careful - f you re-use the variable name `data` you'll erase your old `data` variable*"
   ]
  },
  {
   "cell_type": "code",
   "execution_count": 14,
   "metadata": {},
   "outputs": [
    {
     "name": "stdout",
     "output_type": "stream",
     "text": [
      "C-3PO\n",
      "['https://swapi.co/api/films/2/', 'https://swapi.co/api/films/5/', 'https://swapi.co/api/films/4/', 'https://swapi.co/api/films/6/', 'https://swapi.co/api/films/3/', 'https://swapi.co/api/films/1/']\n",
      "C-3PO is in 6 film(s)\n",
      "R2-D2\n",
      "['https://swapi.co/api/films/2/', 'https://swapi.co/api/films/5/', 'https://swapi.co/api/films/4/', 'https://swapi.co/api/films/6/', 'https://swapi.co/api/films/3/', 'https://swapi.co/api/films/1/', 'https://swapi.co/api/films/7/']\n",
      "R2-D2 is in 7 film(s)\n",
      "R5-D4\n",
      "['https://swapi.co/api/films/1/']\n",
      "R5-D4 is in 1 film(s)\n",
      "IG-88\n",
      "['https://swapi.co/api/films/2/']\n",
      "IG-88 is in 1 film(s)\n",
      "BB8\n",
      "['https://swapi.co/api/films/7/']\n",
      "BB8 is in 1 film(s)\n"
     ]
    }
   ],
   "source": [
    "for url in species_droid[\"people\"]:\n",
    "    droidnames_raw=requests.get(url)\n",
    "    droidnames=droidnames_raw.json()\n",
    "    print(droidnames[\"name\"])\n",
    "    print(droidnames[\"films\"])\n",
    "    \n",
    "   #Printing answer for Q9 here, to avoid multiple requests\n",
    "    print(f'{droidnames[\"name\"]} is in {len(droidnames[\"films\"])} film(s)') "
   ]
  },
  {
   "cell_type": "markdown",
   "metadata": {},
   "source": [
    "## 9) Print out more about the droid\n",
    "\n",
    "Count the number of films for each droid, printing `\"___ was in ___ films\"` for each of them\n",
    "\n",
    "* *Tip: You might want to look at a single droid result, or print the data in the for loop, so you know how to get the films. Or read the documentation!*"
   ]
  },
  {
   "cell_type": "code",
   "execution_count": null,
   "metadata": {},
   "outputs": [],
   "source": [
    "#Answers (under Q8) above. "
   ]
  },
  {
   "cell_type": "markdown",
   "metadata": {},
   "source": [
    "## 10) Let's be smart and cache the results *[DIFFICULT, maybe!]*\n",
    "\n",
    "So far we've been using a for loop to go through each droid. Every droid, one more request. Every time we want more data, we run the loops again. I don't want that guy to get angry that we're asking for so much data!\n",
    "\n",
    "We want to our list of **droid urls** and turn it into a **list of dictionaries about those droids**. Save it as a variable called `droids`. If you get it correct, the following code should work if you cut and paste it.\n",
    "\n",
    "```python\n",
    "for droid in droids:\n",
    "    print(droid['name'])\n",
    "```\n",
    "\n",
    "* *Tip: Use a list comprehension*\n",
    "* *Tip: So far we've done `response = requests.get..` and `response.json()` on separate lines. You'll need to combine them!*"
   ]
  },
  {
   "cell_type": "code",
   "execution_count": 37,
   "metadata": {},
   "outputs": [
    {
     "name": "stdout",
     "output_type": "stream",
     "text": [
      "C-3PO\n",
      "R2-D2\n",
      "R5-D4\n",
      "IG-88\n",
      "BB8\n"
     ]
    }
   ],
   "source": [
    "droids=[requests.get(url).json() for url in species_droid[\"people\"]]\n",
    "\n",
    "for droid in droids:\n",
    "    print(droid[\"name\"])"
   ]
  },
  {
   "cell_type": "markdown",
   "metadata": {},
   "source": [
    "## 11) Get a list of every single planet in the Star Wars universe\n",
    "\n",
    "* *Tip: You'll want to use the API documentation for this, I think*"
   ]
  },
  {
   "cell_type": "code",
   "execution_count": 67,
   "metadata": {},
   "outputs": [
    {
     "name": "stdout",
     "output_type": "stream",
     "text": [
      "Tatooine\n",
      "Alderaan\n",
      "Yavin IV\n",
      "Hoth\n",
      "Dagobah\n",
      "Bespin\n",
      "Endor\n",
      "Naboo\n",
      "Coruscant\n",
      "Kamino\n",
      "Geonosis\n",
      "Utapau\n",
      "Mustafar\n",
      "Kashyyyk\n",
      "Polis Massa\n",
      "Mygeeto\n",
      "Felucia\n",
      "Cato Neimoidia\n",
      "Saleucami\n",
      "Stewjon\n",
      "Eriadu\n",
      "Corellia\n",
      "Rodia\n",
      "Nal Hutta\n",
      "Dantooine\n",
      "Bestine IV\n",
      "Ord Mantell\n",
      "unknown\n",
      "Trandosha\n",
      "Socorro\n",
      "Mon Cala\n",
      "Chandrila\n",
      "Sullust\n",
      "Toydaria\n",
      "Malastare\n",
      "Dathomir\n",
      "Ryloth\n",
      "Aleen Minor\n",
      "Vulpter\n",
      "Troiken\n",
      "Tund\n",
      "Haruun Kal\n",
      "Cerea\n",
      "Glee Anselm\n",
      "Iridonia\n",
      "Tholoth\n",
      "Iktotch\n",
      "Quermia\n",
      "Dorin\n",
      "Champala\n",
      "Mirial\n",
      "Serenno\n",
      "Concord Dawn\n",
      "Zolan\n",
      "Ojom\n",
      "Skako\n",
      "Muunilinst\n",
      "Shili\n",
      "Kalee\n",
      "Umbara\n",
      "Jakku\n",
      "Q12-----------\n",
      "There are two ways of printing the number of planets\n",
      "Printing the length of the dictionary yields 14\n",
      "Looping through each name yields 61. This is the actual count of planets\n"
     ]
    }
   ],
   "source": [
    "planets_number=62\n",
    "index=0\n",
    "#There are 61 planets according to the documentation. As range is exclusive, setting planets to 62.\n",
    "\n",
    "for number in range (1,planets_number):\n",
    "    planets_raw=requests.get('https://swapi.co/api/planets/'+ str(number) +'/')\n",
    "    planets=planets_raw.json()\n",
    "    index=index+1\n",
    "    print(planets[\"name\"])    \n",
    "\n",
    "#The commands for Q12 are provided below- to avoid sending multiple requests\n",
    "print(\"Q12-----------\")\n",
    "print(\"There are two ways of printing the number of planets\")\n",
    "print(f\"Printing the length of the dictionary yields {len(planets)}\")\n",
    "print(f\"Looping through each name yields {index}. This is the actual count of planets\")"
   ]
  },
  {
   "cell_type": "markdown",
   "metadata": {},
   "source": [
    "## 12) How many plants are there? Show me two different ways of displaying the answer.\n",
    "\n",
    "* *Tip: They won't match*"
   ]
  },
  {
   "cell_type": "code",
   "execution_count": 68,
   "metadata": {},
   "outputs": [],
   "source": [
    "#See above"
   ]
  },
  {
   "cell_type": "markdown",
   "metadata": {},
   "source": [
    "# These questions are all list comprehension questions, if you'd like\n",
    "\n",
    "## 13) Get the population of each of the planets\n",
    "\n",
    "* *Tip: Only use the 10 results for now*\n",
    "* *Tip: Use a list comprehension*"
   ]
  },
  {
   "cell_type": "code",
   "execution_count": 144,
   "metadata": {},
   "outputs": [
    {
     "name": "stdout",
     "output_type": "stream",
     "text": [
      "[('Alderaan', '2000000000'), ('Yavin IV', '1000'), ('Hoth', 'unknown'), ('Dagobah', 'unknown'), ('Bespin', '6000000'), ('Endor', '30000000'), ('Naboo', '4500000000'), ('Coruscant', '1000000000000'), ('Kamino', '1000000000'), ('Geonosis', '100000000000')]\n"
     ]
    }
   ],
   "source": [
    "planet_dict=requests.get('https://swapi.co/api/planets/').json()\n",
    "population=[(planet[\"name\"], planet[\"population\"]) for planet in planet_dict[\"results\"]]\n",
    "print (population)"
   ]
  },
  {
   "cell_type": "markdown",
   "metadata": {},
   "source": [
    "## 14) Get the population of each of the planets, EXCEPT the ones that have a population of `'unknown'`\n",
    "\n",
    "* *Tip: Use a list comprehension with a filter (that's the `..if..` part at the end)*"
   ]
  },
  {
   "cell_type": "code",
   "execution_count": 136,
   "metadata": {},
   "outputs": [
    {
     "name": "stdout",
     "output_type": "stream",
     "text": [
      "[('Alderaan', 2000000000), ('Yavin IV', 1000), ('Bespin', 6000000), ('Endor', 30000000), ('Naboo', 4500000000), ('Coruscant', 1000000000000), ('Kamino', 1000000000), ('Geonosis', 100000000000)]\n"
     ]
    }
   ],
   "source": [
    "population_unknown=[(planet[\"name\"],int(planet[\"population\"])) for planet in planet_dict[\"results\"] if planet[\"population\"]!=\"unknown\"]\n",
    "print(population_unknown)"
   ]
  },
  {
   "cell_type": "markdown",
   "metadata": {},
   "source": [
    "## 14) Add up the populations\n",
    "\n",
    "* *Tip: They're strings right now, so it isn't going to work unless you change something about them*"
   ]
  },
  {
   "cell_type": "code",
   "execution_count": 141,
   "metadata": {},
   "outputs": [
    {
     "name": "stdout",
     "output_type": "stream",
     "text": [
      "The total population is 1107536001000\n"
     ]
    }
   ],
   "source": [
    "sum=0\n",
    "for population in population_unknown:\n",
    "    sum=sum+population[1]\n",
    "print(f\"The total population is {sum}\")"
   ]
  },
  {
   "cell_type": "markdown",
   "metadata": {},
   "source": [
    "## 15) Print what percentage of the total population each planet has\n",
    "\n",
    "I would like the sentences to be `\"The planet ____ has a population of _____, which is ___% of the total population\"`. If we don't know the planet's population, say `\"We don't know the population of _____\"`.\n",
    "\n",
    "* *Tip: This finally uses a for loop, but also the result of the last question*"
   ]
  },
  {
   "cell_type": "code",
   "execution_count": 159,
   "metadata": {},
   "outputs": [
    {
     "name": "stdout",
     "output_type": "stream",
     "text": [
      "Alderaan has a population of 2000000000, which is 0.18 of the total population\n",
      "Yavin IV has a population of 1000, which is 0.00 of the total population\n",
      "Population is unknown\n",
      "Population is unknown\n",
      "Bespin has a population of 6000000, which is 0.00 of the total population\n",
      "Endor has a population of 30000000, which is 0.00 of the total population\n",
      "Naboo has a population of 4500000000, which is 0.41 of the total population\n",
      "Coruscant has a population of 1000000000000, which is 90.29 of the total population\n",
      "Kamino has a population of 1000000000, which is 0.09 of the total population\n",
      "Geonosis has a population of 100000000000, which is 9.03 of the total population\n"
     ]
    }
   ],
   "source": [
    "for p in population:\n",
    "    if p[1]==\"unknown\":\n",
    "        print(\"Population is unknown\")\n",
    "    else:\n",
    "        print(f\"{p[0]} has a population of {p[1]}, which is {int(p[1])/sum*100:.2f} of the total population\")"
   ]
  }
 ],
 "metadata": {
  "kernelspec": {
   "display_name": "Python 3",
   "language": "python",
   "name": "python3"
  },
  "language_info": {
   "codemirror_mode": {
    "name": "ipython",
    "version": 3
   },
   "file_extension": ".py",
   "mimetype": "text/x-python",
   "name": "python",
   "nbconvert_exporter": "python",
   "pygments_lexer": "ipython3",
   "version": "3.7.3"
  }
 },
 "nbformat": 4,
 "nbformat_minor": 2
}
