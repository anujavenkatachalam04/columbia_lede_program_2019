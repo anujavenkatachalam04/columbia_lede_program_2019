{
 "cells": [
  {
   "cell_type": "markdown",
   "metadata": {},
   "source": [
    "# Dark Sky API (Weather)\n",
    "\n",
    "Answer the following questions using the [Dark Sky API](https://darksky.net/dev/). I've added three cells for each question but you're free to use more or less! Hold `Shift` and hit `Enter` to run a cell, and use the `+` on the top left to add a new cell to a notebook.\n",
    "\n",
    "If you spend some time reading the documentation your life will probably be a little bit easier!\n",
    "\n",
    "## 0) Import any libraries you might need\n",
    "\n",
    "- *Tip: We're going to be downloading things from the internet, so we probably need `requests`.*"
   ]
  },
  {
   "cell_type": "code",
   "execution_count": 27,
   "metadata": {},
   "outputs": [],
   "source": [
    "import requests\n"
   ]
  },
  {
   "cell_type": "code",
   "execution_count": null,
   "metadata": {},
   "outputs": [],
   "source": [
    "import os\n",
    "from dotenv import load_dotenv\n",
    "load_dotenv()\n",
    "\n",
    "key=os.getenv('dark_sky')"
   ]
  },
  {
   "cell_type": "markdown",
   "metadata": {
    "collapsed": true
   },
   "source": [
    "## 1) Make a request from the Dark Sky API for where you were born (or lived, or want to visit!).\n",
    "\n",
    "- *Tip: The URL we used in class was for a place near San Francisco. What was the format of the endpoint that made this happen?*\n",
    "- *Tip: Save the URL as a separate variable, and be sure to not have `[` and `]` inside.*\n",
    "- *Tip: How is north vs. south and east vs. west latitude/longitude represented? Is it the normal North/South/East/West?*\n",
    "- *Tip: You know it's JSON, but Python doesn't! Make sure you aren't trying to deal with plain text.* \n",
    "- *Tip: Once you've imported the JSON into a variable, check the timezone's name to make sure it seems like it got the right part of the world!*"
   ]
  },
  {
   "cell_type": "code",
   "execution_count": 26,
   "metadata": {},
   "outputs": [],
   "source": [
    "forecast_data=requests.get(\"https://api.darksky.net/forecast/\"+key+\"/60.1699,%2024.9384,2018-06-11T19:06:32?units=us\").json()"
   ]
  },
  {
   "cell_type": "markdown",
   "metadata": {},
   "source": [
    "## 2) What's the current wind speed? How much warmer does it feel than it actually is?\n",
    "\n",
    "- *Tip: You can do this by browsing through the dictionaries, but it might be easier to read the documentation*\n",
    "- *Tip: For the second half: it **is** one temperature, and it **feels** a different temperature. Calculate the difference.*"
   ]
  },
  {
   "cell_type": "code",
   "execution_count": 3,
   "metadata": {},
   "outputs": [
    {
     "name": "stdout",
     "output_type": "stream",
     "text": [
      "dict_keys(['latitude', 'longitude', 'timezone', 'currently', 'hourly', 'daily', 'flags', 'offset'])\n"
     ]
    }
   ],
   "source": [
    "print(forecast_data.keys())"
   ]
  },
  {
   "cell_type": "code",
   "execution_count": 4,
   "metadata": {},
   "outputs": [
    {
     "name": "stdout",
     "output_type": "stream",
     "text": [
      "{'time': 1528733192, 'summary': 'Clear', 'icon': 'clear-day', 'precipType': 'rain', 'temperature': 75.37, 'apparentTemperature': 75.37, 'dewPoint': 45.25, 'humidity': 0.34, 'windSpeed': 15.43, 'windBearing': 223, 'visibility': 6.22}\n"
     ]
    }
   ],
   "source": [
    "print(forecast_data[\"currently\"])"
   ]
  },
  {
   "cell_type": "code",
   "execution_count": 5,
   "metadata": {},
   "outputs": [
    {
     "name": "stdout",
     "output_type": "stream",
     "text": [
      "The current wind speed is 15.43\n",
      "The apparent and actual temperature are the same.\n"
     ]
    }
   ],
   "source": [
    "print(f'The current wind speed is {forecast_data[\"currently\"][\"windSpeed\"]}')\n",
    "\n",
    "diff=(forecast_data[\"currently\"][\"apparentTemperature\"])-forecast_data[\"currently\"][\"temperature\"]\n",
    "if diff==0:\n",
    "    print(\"The apparent and actual temperature are the same.\")\n",
    "elif diff>0:\n",
    "    print(f\"It feels {diff}F warmer than it actually is.\")\n",
    "else:\n",
    "    print(f\"It feels {abs(diff)}F colder than it actually is.\")"
   ]
  },
  {
   "cell_type": "markdown",
   "metadata": {},
   "source": [
    "## 3) Today's forecast is the FIRST daily forecast. For the place you decided on above, how much of the moon is currently visible?\n",
    "\n",
    "- *Tip: This does **not** use the `currently` key.*\n",
    "- *Tip: It might be helpful to save the forecast into its own variable*"
   ]
  },
  {
   "cell_type": "code",
   "execution_count": 6,
   "metadata": {},
   "outputs": [
    {
     "name": "stdout",
     "output_type": "stream",
     "text": [
      "The moon visibility for today is 0.91\n"
     ]
    }
   ],
   "source": [
    "daily_forecast=forecast_data[\"daily\"][\"data\"]\n",
    "print(f'The moon visibility for today is {daily_forecast[0][\"moonPhase\"]}')"
   ]
  },
  {
   "cell_type": "markdown",
   "metadata": {},
   "source": [
    "## 4) What's the difference between the high and low temperatures for today?"
   ]
  },
  {
   "cell_type": "code",
   "execution_count": 7,
   "metadata": {},
   "outputs": [
    {
     "name": "stdout",
     "output_type": "stream",
     "text": [
      "The difference between the highest and lowest temperatures for today is 22F.\n"
     ]
    }
   ],
   "source": [
    "print(f'The difference between the highest and lowest temperatures for today is {int(daily_forecast[0][\"temperatureHigh\"])-int(daily_forecast[0][\"temperatureLow\"])}F.')"
   ]
  },
  {
   "cell_type": "markdown",
   "metadata": {},
   "source": [
    "## 5) Go through the daily forecasts, printing out the next week's worth of predictions.\n",
    "\n",
    "I'd like to know the **high temperature** for each day, and whether it's **hot, warm, or cold** (based on what temperatures you think are hot, warm or cold).\n",
    "\n",
    "- *Tip: Is it returning F or C? You can change them by adding `?units=us` or `?units=si` onto the end of the URL.*\n",
    "- *Tip: You'll need to use an `if` statement to say whether it is hot, warm or cold.*"
   ]
  },
  {
   "cell_type": "code",
   "execution_count": 8,
   "metadata": {},
   "outputs": [],
   "source": [
    "count=-1\n",
    "for day in daily_forecast:\n",
    "    count=count+1\n",
    "    if count==0:\n",
    "        continue\n",
    "    if day[\"temperatureHigh\"]<60:\n",
    "        code=\"Cold\"\n",
    "    elif day[\"temperatureHigh\"]>=60 and day[\"temperatureHigh\"]<80:\n",
    "        code=\"Warm\"\n",
    "    else:\n",
    "        code=\"Hot\"\n",
    "    print(f'Day: {count} || Highest temperature: {day[\"temperatureHigh\"]:.2f}F || Classification: {code}')\n"
   ]
  },
  {
   "cell_type": "markdown",
   "metadata": {},
   "source": [
    "# 6) What will be the hottest day in the next week? What is the high temperature on that day?\n",
    "\n",
    "It's okay if your result looks like `1453363200`. If you want to be extra-fancy, though, format it as a **real date** - the weird number is called a **UNIX timestamp**, which might help in googling.\n",
    "\n",
    "- *Tip: It's okay to skip this if it seems too difficult!*"
   ]
  },
  {
   "cell_type": "code",
   "execution_count": 10,
   "metadata": {},
   "outputs": [
    {
     "name": "stdout",
     "output_type": "stream",
     "text": [
      "The hottest day next week will be 1528664400, and the hottest temperature will be 79.19\n"
     ]
    }
   ],
   "source": [
    "import datetime\n",
    "\n",
    "maximum=0\n",
    "for day in daily_forecast:\n",
    "    if day[\"temperatureHigh\"]>maximum:\n",
    "        maximum=day[\"temperatureHigh\"]\n",
    "        maximum_day=day[\"time\"]\n",
    "print(f\"The hottest day next week will be {maximum_day}, and the hottest temperature will be {maximum}\")"
   ]
  },
  {
   "cell_type": "markdown",
   "metadata": {},
   "source": [
    "# 8) For the next 24-ish hours in Miami, what percent of the time is the temperature above 85 degrees?\n",
    "\n",
    "If they give you 48 hours instead of 24, that's okay.\n",
    "\n",
    "- *Tip: You might want to read up on [looping patterns](http://jonathansoma.com/lede/foundations-2017/classes/data%20structures/looping-patterns/)*"
   ]
  },
  {
   "cell_type": "code",
   "execution_count": 26,
   "metadata": {},
   "outputs": [
    {
     "name": "stdout",
     "output_type": "stream",
     "text": [
      "The percentage of hours (out of 24) that will have a temperature above 85 degrees F is expected to be 0.0%\n"
     ]
    }
   ],
   "source": [
    "miami=requests.get(\"https://api.darksky.net/forecast/\"+key+\"/25.7617,-80.1918,2018-06-11T19:06:32?units=us\").json()\n",
    "\n",
    "hours_above=0\n",
    "for hours in miami[\"hourly\"][\"data\"]:\n",
    "    if hours[\"temperature\"]>85:\n",
    "        hours_above=hours_above+1\n",
    "\n",
    "print(f\"The percentage of hours (out of 24) that will have a temperature above 85 degrees F is expected to be {hours_above/24*100}%\")"
   ]
  },
  {
   "cell_type": "markdown",
   "metadata": {},
   "source": [
    "## 9) What was the temperature in Central Park on Christmas Day, 2012? How about 2007? 2005? How far back does the API allow you to go?\n",
    "\n",
    "- *Tip: You'll need to use UNIX time, which is the number of seconds since January 1, 1970. Google can help you convert a normal date!*\n",
    "- *Tip: You'll want to use Forecast.io's \"time machine\" API, [documentation here](https://darksky.net/dev/docs/time-machine)*"
   ]
  },
  {
   "cell_type": "code",
   "execution_count": 36,
   "metadata": {},
   "outputs": [
    {
     "name": "stdout",
     "output_type": "stream",
     "text": [
      "The temperature on 2012-12-25 was 34.25 degrees F.\n",
      "The temperature on 2007-12-25 was 38.57 degrees F.\n",
      "The temperature on 2005-12-25 was 37.16 degrees F.\n"
     ]
    }
   ],
   "source": [
    "dates=[\"2012-12-25\", \"2007-12-25\", \"2005-12-25\"]\n",
    "for date in dates:\n",
    "    new_york=requests.get(\"https://api.darksky.net/forecast/\"+key+\"/40.7829,-73.9654,\"+date+\"T00:00:00?units=us\").json()\n",
    "    print(f'The temperature on {date} was {new_york[\"currently\"][\"temperature\"]} degrees F.')"
   ]
  }
 ],
 "metadata": {
  "kernelspec": {
   "display_name": "Python 3",
   "language": "python",
   "name": "python3"
  },
  "language_info": {
   "codemirror_mode": {
    "name": "ipython",
    "version": 3
   },
   "file_extension": ".py",
   "mimetype": "text/x-python",
   "name": "python",
   "nbconvert_exporter": "python",
   "pygments_lexer": "ipython3",
   "version": "3.7.3"
  }
 },
 "nbformat": 4,
 "nbformat_minor": 1
}
