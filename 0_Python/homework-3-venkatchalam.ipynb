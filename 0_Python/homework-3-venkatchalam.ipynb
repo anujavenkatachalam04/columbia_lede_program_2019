{
 "cells": [
  {
   "cell_type": "markdown",
   "metadata": {},
   "source": [
    "# Homework 3 \n",
    "## Anuja Venkatachalam\n",
    "### 04-June-2019\n",
    "\n",
    "### PART ONE"
   ]
  },
  {
   "cell_type": "markdown",
   "metadata": {},
   "source": [
    "#### Question 1 - Count number of units in the list using the for loop"
   ]
  },
  {
   "cell_type": "code",
   "execution_count": 11,
   "metadata": {},
   "outputs": [],
   "source": [
    "numbers=[4, 5, 1, 10, 200, 34, 22, 19, 43, 56, 32, 11, 40, 82, 23, 43, 12, 65, 10]"
   ]
  },
  {
   "cell_type": "code",
   "execution_count": 12,
   "metadata": {},
   "outputs": [
    {
     "name": "stdout",
     "output_type": "stream",
     "text": [
      "The list has 19 units.\n"
     ]
    }
   ],
   "source": [
    "count=0\n",
    "for number in numbers:\n",
    "    count=count+1\n",
    "print(f\"The list has {count} units.\")"
   ]
  },
  {
   "cell_type": "markdown",
   "metadata": {},
   "source": [
    "#### Question 2 - Add a new number to the list"
   ]
  },
  {
   "cell_type": "code",
   "execution_count": 13,
   "metadata": {},
   "outputs": [],
   "source": [
    "numbers.append(25)"
   ]
  },
  {
   "cell_type": "code",
   "execution_count": 14,
   "metadata": {},
   "outputs": [
    {
     "name": "stdout",
     "output_type": "stream",
     "text": [
      "[4, 5, 1, 10, 200, 34, 22, 19, 43, 56, 32, 11, 40, 82, 23, 43, 12, 65, 10, 25]\n"
     ]
    }
   ],
   "source": [
    "print(numbers)"
   ]
  },
  {
   "cell_type": "code",
   "execution_count": 15,
   "metadata": {},
   "outputs": [
    {
     "name": "stdout",
     "output_type": "stream",
     "text": [
      "20\n"
     ]
    }
   ],
   "source": [
    "print(len(numbers))"
   ]
  },
  {
   "cell_type": "markdown",
   "metadata": {},
   "source": [
    "#### Question 3 - Count the number of even numbers using a for loop"
   ]
  },
  {
   "cell_type": "code",
   "execution_count": 16,
   "metadata": {},
   "outputs": [
    {
     "name": "stdout",
     "output_type": "stream",
     "text": [
      "The total number of even numbers is 11.\n"
     ]
    }
   ],
   "source": [
    "count=0\n",
    "for number in numbers:\n",
    "    if number%2==0:\n",
    "        count=count+1\n",
    "print(f\"The total number of even numbers is {count}.\")"
   ]
  },
  {
   "cell_type": "markdown",
   "metadata": {},
   "source": [
    "#### Question 4 - How many numbers are above the mean and how many are below the mean?"
   ]
  },
  {
   "cell_type": "code",
   "execution_count": 17,
   "metadata": {},
   "outputs": [
    {
     "name": "stdout",
     "output_type": "stream",
     "text": [
      "The total number of numbers above the mean is 529, and the total number of numbers below the mean is 208.\n"
     ]
    }
   ],
   "source": [
    "above=0\n",
    "below=0\n",
    "import statistics\n",
    "for number in numbers:\n",
    "    if number>statistics.mean(numbers):\n",
    "        above=above+number\n",
    "    elif number<statistics.mean(numbers):\n",
    "        below=below+number\n",
    "print(f\"The total number of numbers above the mean is {above}, and the total number of numbers below the mean is {below}.\")\n"
   ]
  },
  {
   "cell_type": "markdown",
   "metadata": {},
   "source": [
    "#### Question 5 - Total up the numbers with a for loop"
   ]
  },
  {
   "cell_type": "code",
   "execution_count": 18,
   "metadata": {},
   "outputs": [
    {
     "name": "stdout",
     "output_type": "stream",
     "text": [
      "The sum of all the numbers in the list is 737\n"
     ]
    }
   ],
   "source": [
    "sum=0\n",
    "for number in numbers:\n",
    "    sum=sum+number\n",
    "print(f\"The sum of all the numbers in the list is {sum}\")"
   ]
  },
  {
   "cell_type": "markdown",
   "metadata": {},
   "source": [
    "#### Question 6 - Total up the numbers that are above the mean, and total up the numbers below the mean using the for loop."
   ]
  },
  {
   "cell_type": "code",
   "execution_count": 19,
   "metadata": {},
   "outputs": [
    {
     "name": "stdout",
     "output_type": "stream",
     "text": [
      "The sum of numbers above the mean is 529, and the sum of numbers below the mean is 208.\n"
     ]
    }
   ],
   "source": [
    "above=0\n",
    "below=0\n",
    "\n",
    "import statistics\n",
    "for number in numbers:\n",
    "    if number>statistics.mean(numbers):\n",
    "        above=above+number\n",
    "    elif number<statistics.mean(numbers):\n",
    "        below=below+number\n",
    "print(f\"The sum of numbers above the mean is {above}, and the sum of numbers below the mean is {below}.\")       "
   ]
  },
  {
   "cell_type": "markdown",
   "metadata": {},
   "source": [
    "#### Question 7 - Find the largest number using the for loop."
   ]
  },
  {
   "cell_type": "code",
   "execution_count": 20,
   "metadata": {},
   "outputs": [
    {
     "name": "stdout",
     "output_type": "stream",
     "text": [
      "The largest number is 200.\n"
     ]
    }
   ],
   "source": [
    "largest=0\n",
    "for number in numbers:\n",
    "    if number>largest:\n",
    "        largest=number\n",
    "print(f\"The largest number is {largest}.\")"
   ]
  },
  {
   "cell_type": "markdown",
   "metadata": {},
   "source": [
    "#### Question 8 - Add a dog, \"Maxwell\" to this list"
   ]
  },
  {
   "cell_type": "code",
   "execution_count": 21,
   "metadata": {},
   "outputs": [],
   "source": [
    "dogs = [\"Sparky\", \"Jane\", \"Matilda\", \"Blartsburg\"]"
   ]
  },
  {
   "cell_type": "code",
   "execution_count": 22,
   "metadata": {},
   "outputs": [],
   "source": [
    "dogs.append(\"Maxwell\")"
   ]
  },
  {
   "cell_type": "code",
   "execution_count": 17,
   "metadata": {},
   "outputs": [
    {
     "name": "stdout",
     "output_type": "stream",
     "text": [
      "['Sparky', 'Jane', 'Matilda', 'Blartsburg', 'Maxwell']\n"
     ]
    }
   ],
   "source": [
    "print(dogs)"
   ]
  },
  {
   "cell_type": "markdown",
   "metadata": {},
   "source": [
    "#### Question 9 - Make a list of all dogs that have names of 5 characters or less using a for loop."
   ]
  },
  {
   "cell_type": "code",
   "execution_count": 23,
   "metadata": {},
   "outputs": [
    {
     "name": "stdout",
     "output_type": "stream",
     "text": [
      "The number of dogs that have names of 5 characters or less is 1.\n"
     ]
    }
   ],
   "source": [
    "count=0\n",
    "for dog in dogs:\n",
    "    if len(dog)<=5:\n",
    "        count=count+1\n",
    "print(f\"The number of dogs that have names of 5 characters or less is {count}.\")"
   ]
  },
  {
   "cell_type": "markdown",
   "metadata": {},
   "source": [
    "#### Question 10 - Run a loop for URLs.\n"
   ]
  },
  {
   "cell_type": "code",
   "execution_count": 24,
   "metadata": {},
   "outputs": [],
   "source": [
    "cantons = [ \"ZH\", \"BE\", \"LU\", \"UR\", \"SZ\", \"OW\", \"NW\", \"GL\", \"ZG\", \"FR\", \"SO\", \"BS\", \"BL\", \"AR\", \"AI\", \"SG\", \"GR\", \"AG\", \"TG\", \"TI\", \"VD\", \"VS\", \"NE\", \"GE\", \"JU\"]"
   ]
  },
  {
   "cell_type": "code",
   "execution_count": 8,
   "metadata": {
    "scrolled": true
   },
   "outputs": [
    {
     "name": "stdout",
     "output_type": "stream",
     "text": [
      "http://important-swiss-things.ch/docs/download/ZH\n",
      "http://important-swiss-things.ch/docs/download/BE\n",
      "http://important-swiss-things.ch/docs/download/LU\n",
      "http://important-swiss-things.ch/docs/download/UR\n",
      "http://important-swiss-things.ch/docs/download/SZ\n",
      "http://important-swiss-things.ch/docs/download/OW\n",
      "http://important-swiss-things.ch/docs/download/NW\n",
      "http://important-swiss-things.ch/docs/download/GL\n",
      "http://important-swiss-things.ch/docs/download/ZG\n",
      "http://important-swiss-things.ch/docs/download/FR\n",
      "http://important-swiss-things.ch/docs/download/SO\n",
      "http://important-swiss-things.ch/docs/download/BS\n",
      "http://important-swiss-things.ch/docs/download/BL\n",
      "http://important-swiss-things.ch/docs/download/AR\n",
      "http://important-swiss-things.ch/docs/download/AI\n",
      "http://important-swiss-things.ch/docs/download/SG\n",
      "http://important-swiss-things.ch/docs/download/GR\n",
      "http://important-swiss-things.ch/docs/download/AG\n",
      "http://important-swiss-things.ch/docs/download/TG\n",
      "http://important-swiss-things.ch/docs/download/TI\n",
      "http://important-swiss-things.ch/docs/download/VD\n",
      "http://important-swiss-things.ch/docs/download/VS\n",
      "http://important-swiss-things.ch/docs/download/NE\n",
      "http://important-swiss-things.ch/docs/download/GE\n",
      "http://important-swiss-things.ch/docs/download/JU\n"
     ]
    }
   ],
   "source": [
    "url=\"http://important-swiss-things.ch/docs/download/\"\n",
    "for canton in cantons:\n",
    "    print (url+canton)"
   ]
  },
  {
   "cell_type": "markdown",
   "metadata": {},
   "source": [
    "#### Question 11 - URLs and pdf links"
   ]
  },
  {
   "cell_type": "code",
   "execution_count": 25,
   "metadata": {},
   "outputs": [],
   "source": [
    "documents=[\"qq7lthm\", \"jemsqhg\", \"O6itcke\", \"cp4Iua0\", \"bkijcmo\", \"ctoyjrm\", \"z8wc6xy\", \"zk4Bmm0\"]\n"
   ]
  },
  {
   "cell_type": "code",
   "execution_count": 26,
   "metadata": {},
   "outputs": [],
   "source": [
    "def function (document, number):\n",
    "    print(f\"www.top-secret-pdfs.com/content/secrets/{document}/page/{number:03}.pdf\")"
   ]
  },
  {
   "cell_type": "code",
   "execution_count": 63,
   "metadata": {},
   "outputs": [
    {
     "name": "stdout",
     "output_type": "stream",
     "text": [
      "www.top-secret-pdfs.com/content/secrets/QQ7LTHM/page/001.pdf\n",
      "www.top-secret-pdfs.com/content/secrets/QQ7LTHM/page/002.pdf\n",
      "www.top-secret-pdfs.com/content/secrets/QQ7LTHM/page/003.pdf\n",
      "www.top-secret-pdfs.com/content/secrets/QQ7LTHM/page/004.pdf\n",
      "www.top-secret-pdfs.com/content/secrets/QQ7LTHM/page/005.pdf\n",
      "www.top-secret-pdfs.com/content/secrets/QQ7LTHM/page/006.pdf\n",
      "www.top-secret-pdfs.com/content/secrets/QQ7LTHM/page/007.pdf\n",
      "www.top-secret-pdfs.com/content/secrets/QQ7LTHM/page/008.pdf\n",
      "www.top-secret-pdfs.com/content/secrets/QQ7LTHM/page/009.pdf\n",
      "www.top-secret-pdfs.com/content/secrets/QQ7LTHM/page/010.pdf\n",
      "www.top-secret-pdfs.com/content/secrets/QQ7LTHM/page/011.pdf\n",
      "www.top-secret-pdfs.com/content/secrets/QQ7LTHM/page/012.pdf\n",
      "www.top-secret-pdfs.com/content/secrets/JEMSQHG/page/001.pdf\n",
      "www.top-secret-pdfs.com/content/secrets/JEMSQHG/page/002.pdf\n",
      "www.top-secret-pdfs.com/content/secrets/JEMSQHG/page/003.pdf\n",
      "www.top-secret-pdfs.com/content/secrets/JEMSQHG/page/004.pdf\n",
      "www.top-secret-pdfs.com/content/secrets/JEMSQHG/page/005.pdf\n",
      "www.top-secret-pdfs.com/content/secrets/JEMSQHG/page/006.pdf\n",
      "www.top-secret-pdfs.com/content/secrets/JEMSQHG/page/007.pdf\n",
      "www.top-secret-pdfs.com/content/secrets/JEMSQHG/page/008.pdf\n",
      "www.top-secret-pdfs.com/content/secrets/JEMSQHG/page/009.pdf\n",
      "www.top-secret-pdfs.com/content/secrets/JEMSQHG/page/010.pdf\n",
      "www.top-secret-pdfs.com/content/secrets/JEMSQHG/page/011.pdf\n",
      "www.top-secret-pdfs.com/content/secrets/JEMSQHG/page/012.pdf\n",
      "www.top-secret-pdfs.com/content/secrets/O6ITCKE/page/001.pdf\n",
      "www.top-secret-pdfs.com/content/secrets/O6ITCKE/page/002.pdf\n",
      "www.top-secret-pdfs.com/content/secrets/O6ITCKE/page/003.pdf\n",
      "www.top-secret-pdfs.com/content/secrets/O6ITCKE/page/004.pdf\n",
      "www.top-secret-pdfs.com/content/secrets/O6ITCKE/page/005.pdf\n",
      "www.top-secret-pdfs.com/content/secrets/O6ITCKE/page/006.pdf\n",
      "www.top-secret-pdfs.com/content/secrets/O6ITCKE/page/007.pdf\n",
      "www.top-secret-pdfs.com/content/secrets/O6ITCKE/page/008.pdf\n",
      "www.top-secret-pdfs.com/content/secrets/O6ITCKE/page/009.pdf\n",
      "www.top-secret-pdfs.com/content/secrets/O6ITCKE/page/010.pdf\n",
      "www.top-secret-pdfs.com/content/secrets/O6ITCKE/page/011.pdf\n",
      "www.top-secret-pdfs.com/content/secrets/O6ITCKE/page/012.pdf\n",
      "www.top-secret-pdfs.com/content/secrets/CP4IUA0/page/001.pdf\n",
      "www.top-secret-pdfs.com/content/secrets/CP4IUA0/page/002.pdf\n",
      "www.top-secret-pdfs.com/content/secrets/CP4IUA0/page/003.pdf\n",
      "www.top-secret-pdfs.com/content/secrets/CP4IUA0/page/004.pdf\n",
      "www.top-secret-pdfs.com/content/secrets/CP4IUA0/page/005.pdf\n",
      "www.top-secret-pdfs.com/content/secrets/CP4IUA0/page/006.pdf\n",
      "www.top-secret-pdfs.com/content/secrets/CP4IUA0/page/007.pdf\n",
      "www.top-secret-pdfs.com/content/secrets/CP4IUA0/page/008.pdf\n",
      "www.top-secret-pdfs.com/content/secrets/CP4IUA0/page/009.pdf\n",
      "www.top-secret-pdfs.com/content/secrets/CP4IUA0/page/010.pdf\n",
      "www.top-secret-pdfs.com/content/secrets/CP4IUA0/page/011.pdf\n",
      "www.top-secret-pdfs.com/content/secrets/CP4IUA0/page/012.pdf\n",
      "www.top-secret-pdfs.com/content/secrets/BKIJCMO/page/001.pdf\n",
      "www.top-secret-pdfs.com/content/secrets/BKIJCMO/page/002.pdf\n",
      "www.top-secret-pdfs.com/content/secrets/BKIJCMO/page/003.pdf\n",
      "www.top-secret-pdfs.com/content/secrets/BKIJCMO/page/004.pdf\n",
      "www.top-secret-pdfs.com/content/secrets/BKIJCMO/page/005.pdf\n",
      "www.top-secret-pdfs.com/content/secrets/BKIJCMO/page/006.pdf\n",
      "www.top-secret-pdfs.com/content/secrets/BKIJCMO/page/007.pdf\n",
      "www.top-secret-pdfs.com/content/secrets/BKIJCMO/page/008.pdf\n",
      "www.top-secret-pdfs.com/content/secrets/BKIJCMO/page/009.pdf\n",
      "www.top-secret-pdfs.com/content/secrets/BKIJCMO/page/010.pdf\n",
      "www.top-secret-pdfs.com/content/secrets/BKIJCMO/page/011.pdf\n",
      "www.top-secret-pdfs.com/content/secrets/BKIJCMO/page/012.pdf\n",
      "www.top-secret-pdfs.com/content/secrets/CTOYJRM/page/001.pdf\n",
      "www.top-secret-pdfs.com/content/secrets/CTOYJRM/page/002.pdf\n",
      "www.top-secret-pdfs.com/content/secrets/CTOYJRM/page/003.pdf\n",
      "www.top-secret-pdfs.com/content/secrets/CTOYJRM/page/004.pdf\n",
      "www.top-secret-pdfs.com/content/secrets/CTOYJRM/page/005.pdf\n",
      "www.top-secret-pdfs.com/content/secrets/CTOYJRM/page/006.pdf\n",
      "www.top-secret-pdfs.com/content/secrets/CTOYJRM/page/007.pdf\n",
      "www.top-secret-pdfs.com/content/secrets/CTOYJRM/page/008.pdf\n",
      "www.top-secret-pdfs.com/content/secrets/CTOYJRM/page/009.pdf\n",
      "www.top-secret-pdfs.com/content/secrets/CTOYJRM/page/010.pdf\n",
      "www.top-secret-pdfs.com/content/secrets/CTOYJRM/page/011.pdf\n",
      "www.top-secret-pdfs.com/content/secrets/CTOYJRM/page/012.pdf\n",
      "www.top-secret-pdfs.com/content/secrets/Z8WC6XY/page/001.pdf\n",
      "www.top-secret-pdfs.com/content/secrets/Z8WC6XY/page/002.pdf\n",
      "www.top-secret-pdfs.com/content/secrets/Z8WC6XY/page/003.pdf\n",
      "www.top-secret-pdfs.com/content/secrets/Z8WC6XY/page/004.pdf\n",
      "www.top-secret-pdfs.com/content/secrets/Z8WC6XY/page/005.pdf\n",
      "www.top-secret-pdfs.com/content/secrets/Z8WC6XY/page/006.pdf\n",
      "www.top-secret-pdfs.com/content/secrets/Z8WC6XY/page/007.pdf\n",
      "www.top-secret-pdfs.com/content/secrets/Z8WC6XY/page/008.pdf\n",
      "www.top-secret-pdfs.com/content/secrets/Z8WC6XY/page/009.pdf\n",
      "www.top-secret-pdfs.com/content/secrets/Z8WC6XY/page/010.pdf\n",
      "www.top-secret-pdfs.com/content/secrets/Z8WC6XY/page/011.pdf\n",
      "www.top-secret-pdfs.com/content/secrets/Z8WC6XY/page/012.pdf\n",
      "www.top-secret-pdfs.com/content/secrets/ZK4BMM0/page/001.pdf\n",
      "www.top-secret-pdfs.com/content/secrets/ZK4BMM0/page/002.pdf\n",
      "www.top-secret-pdfs.com/content/secrets/ZK4BMM0/page/003.pdf\n",
      "www.top-secret-pdfs.com/content/secrets/ZK4BMM0/page/004.pdf\n",
      "www.top-secret-pdfs.com/content/secrets/ZK4BMM0/page/005.pdf\n",
      "www.top-secret-pdfs.com/content/secrets/ZK4BMM0/page/006.pdf\n",
      "www.top-secret-pdfs.com/content/secrets/ZK4BMM0/page/007.pdf\n",
      "www.top-secret-pdfs.com/content/secrets/ZK4BMM0/page/008.pdf\n",
      "www.top-secret-pdfs.com/content/secrets/ZK4BMM0/page/009.pdf\n",
      "www.top-secret-pdfs.com/content/secrets/ZK4BMM0/page/010.pdf\n",
      "www.top-secret-pdfs.com/content/secrets/ZK4BMM0/page/011.pdf\n",
      "www.top-secret-pdfs.com/content/secrets/ZK4BMM0/page/012.pdf\n"
     ]
    }
   ],
   "source": [
    "for document in documents:\n",
    "    document=document.upper()\n",
    "    for number in range(1,13):\n",
    "        function(document,number)"
   ]
  },
  {
   "cell_type": "markdown",
   "metadata": {},
   "source": [
    "### PART TWO"
   ]
  },
  {
   "cell_type": "markdown",
   "metadata": {},
   "source": [
    "#### Question 1 - Create a dictionary"
   ]
  },
  {
   "cell_type": "code",
   "execution_count": 27,
   "metadata": {},
   "outputs": [],
   "source": [
    "patient={\n",
    "    \"name\": \"Joe\",\n",
    "    \"complaint\": \"Joint pain\"\n",
    "}"
   ]
  },
  {
   "cell_type": "code",
   "execution_count": 28,
   "metadata": {},
   "outputs": [
    {
     "name": "stdout",
     "output_type": "stream",
     "text": [
      "Doctor, it looks like the patient named Joe is complaining about Joint pain\n"
     ]
    }
   ],
   "source": [
    "print(\"Doctor, it looks like the patient named\", patient[\"name\"], \"is complaining about\", patient[\"complaint\"])"
   ]
  },
  {
   "cell_type": "markdown",
   "metadata": {},
   "source": [
    "#### Question 2 - Add items and values to the dictionary"
   ]
  },
  {
   "cell_type": "code",
   "execution_count": 29,
   "metadata": {},
   "outputs": [],
   "source": [
    "patient[\"heart rate\"]=70\n",
    "patient[\"temperature\"]=98.6\n",
    "patient[\"infection\"]=False"
   ]
  },
  {
   "cell_type": "code",
   "execution_count": 30,
   "metadata": {},
   "outputs": [
    {
     "name": "stdout",
     "output_type": "stream",
     "text": [
      "dict_items([('name', 'Joe'), ('complaint', 'Joint pain'), ('heart rate', 70), ('temperature', 98.6), ('infection', False)])\n"
     ]
    }
   ],
   "source": [
    "print(patient.items())"
   ]
  },
  {
   "cell_type": "markdown",
   "metadata": {},
   "source": [
    "#### Question 3 - Conduct a diagnosis"
   ]
  },
  {
   "cell_type": "code",
   "execution_count": 36,
   "metadata": {},
   "outputs": [
    {
     "name": "stdout",
     "output_type": "stream",
     "text": [
      "Your diagnosis is Nil. Take an aspirin and call me in the morning\n"
     ]
    }
   ],
   "source": [
    "if patient[\"temperature\"]>102 and patient[\"infection\"]==False:\n",
    "    patient[\"diagnosis\"]=\"Heat stroke\"\n",
    "elif patient[\"temperature\"]>102 and patient[\"infection\"]==True:\n",
    "    patient[\"diagnosis\"]=\"Flu\"\n",
    "elif patient[\"temperature\"]==98.6 and patient[\"infection\"]==True:\n",
    "    patient[\"diagnosis\"]=\"Cold\"\n",
    "else:\n",
    "    patient[\"diagnosis\"]=\"Nil. Take an aspirin and call me in the morning\"\n",
    "\n",
    "print(\"Your diagnosis is\", patient[\"diagnosis\"])\n",
    "    "
   ]
  },
  {
   "cell_type": "markdown",
   "metadata": {},
   "source": [
    "#### Question 4 - Make a list of 3 different patients, each with different complaint, heart rate, temperature, and whether they have an infection or not (this will be a list of dictionaries). Use a for loop to diagnose each of them."
   ]
  },
  {
   "cell_type": "code",
   "execution_count": 37,
   "metadata": {},
   "outputs": [],
   "source": [
    "Jill={\n",
    "    \"name\":\"Jill\",\n",
    "    \"complaint\":\"Back pain\",\n",
    "    \"heart rate\": 70,\n",
    "    \"temperature\": 98.6,\n",
    "    \"infection\": True\n",
    "    }\n",
    "\n",
    "Jane={\n",
    "    \"name\":\"Jane\",\n",
    "    \"complaint\":\"Fever\",\n",
    "    \"heart rate\": 90,\n",
    "    \"temperature\": 100,\n",
    "    \"infection\": False\n",
    "    }\n",
    "\n",
    "Rob={\n",
    "    \"name\":\"Rob\",\n",
    "    \"complaint\":\"Dizziness\",\n",
    "    \"heart rate\": 100,\n",
    "    \"temperature\": 101,\n",
    "    \"infection\": False\n",
    "    }\n",
    "   "
   ]
  },
  {
   "cell_type": "code",
   "execution_count": 39,
   "metadata": {},
   "outputs": [],
   "source": [
    "patients=[Jill, Jane, Rob]"
   ]
  },
  {
   "cell_type": "code",
   "execution_count": 40,
   "metadata": {},
   "outputs": [
    {
     "name": "stdout",
     "output_type": "stream",
     "text": [
      "Your diagnosis is Cold\n",
      "Your diagnosis is Nil. Take an aspirin and call me in the morning\n",
      "Your diagnosis is Nil. Take an aspirin and call me in the morning\n"
     ]
    }
   ],
   "source": [
    "for patient in patients:\n",
    "    if patient[\"temperature\"]>102 and patient[\"infection\"]==False:\n",
    "        patient[\"diagnosis\"]=\"Heat stroke\"\n",
    "    elif patient[\"temperature\"]>102 and patient[\"infection\"]==True:\n",
    "        patient[\"diagnosis\"]=\"Flu\"\n",
    "    elif patient[\"temperature\"]==98.6 and patient[\"infection\"]==True:\n",
    "        patient[\"diagnosis\"]=\"Cold\"\n",
    "    else:\n",
    "        patient[\"diagnosis\"]=\"Nil. Take an aspirin and call me in the morning\"\n",
    "\n",
    "    print(\"Your diagnosis is\", patient[\"diagnosis\"])\n",
    "    "
   ]
  },
  {
   "cell_type": "markdown",
   "metadata": {},
   "source": [
    "### PART THREE"
   ]
  },
  {
   "cell_type": "code",
   "execution_count": 41,
   "metadata": {},
   "outputs": [
    {
     "name": "stdout",
     "output_type": "stream",
     "text": [
      "The data looks like [OrderedDict([('Country', 'Afghanistan'), ('Continent', 'Asia'), ('GDP_per_capita', '663'), ('life_expectancy', '54.863'), ('Population', '22856302')]), OrderedDict([('Country', 'Albania'), ('Continent', 'Europe'), ('GDP_per_capita', '4195'), ('life_expectancy', '74.2'), ('Population', '3071856')]), OrderedDict([('Country', 'Algeria'), ('Continent', 'Africa'), ('GDP_per_capita', '5098'), ('life_expectancy', '68.96300000000001'), ('Population', '30533827')]), OrderedDict([('Country', 'Angola'), ('Continent', 'Africa'), ('GDP_per_capita', '2446'), ('life_expectancy', '45.233999999999995'), ('Population', '13926373')]), OrderedDict([('Country', 'Antigua and Barbuda'), ('Continent', 'N. America'), ('GDP_per_capita', '12738'), ('life_expectancy', '73.544'), ('Population', '77656')]), OrderedDict([('Country', 'Argentina'), ('Continent', 'S. America'), ('GDP_per_capita', '10571'), ('life_expectancy', '73.822'), ('Population', '36930709')]), OrderedDict([('Country', 'Armenia'), ('Continent', 'Europe'), ('GDP_per_capita', '2114'), ('life_expectancy', '71.494'), ('Population', '3076098')]), OrderedDict([('Country', 'Australia'), ('Continent', 'Oceania'), ('GDP_per_capita', '29241'), ('life_expectancy', '79.93'), ('Population', '19164351')]), OrderedDict([('Country', 'Austria'), ('Continent', 'Europe'), ('GDP_per_capita', '32008'), ('life_expectancy', '78.33'), ('Population', '8004712')]), OrderedDict([('Country', 'Azerbaijan'), ('Continent', 'Europe'), ('GDP_per_capita', '2533'), ('life_expectancy', '66.851'), ('Population', '8110723')]), OrderedDict([('Country', 'Bahamas'), ('Continent', 'N. America'), ('GDP_per_capita', '22728'), ('life_expectancy', '72.37'), ('Population', '297651')]), OrderedDict([('Country', 'Bahrain'), ('Continent', 'Asia'), ('GDP_per_capita', '22015'), ('life_expectancy', '74.497'), ('Population', '638193')]), OrderedDict([('Country', 'Bangladesh'), ('Continent', 'Asia'), ('GDP_per_capita', '1075'), ('life_expectancy', '65.309'), ('Population', '129592275')]), OrderedDict([('Country', 'Barbados'), ('Continent', 'N. America'), ('GDP_per_capita', '14982'), ('life_expectancy', '73.118'), ('Population', '267511')]), OrderedDict([('Country', 'Belarus'), ('Continent', 'Europe'), ('GDP_per_capita', '5936'), ('life_expectancy', '68.99'), ('Population', '10057810')]), OrderedDict([('Country', 'Belgium'), ('Continent', 'Europe'), ('GDP_per_capita', '29940'), ('life_expectancy', '77.91'), ('Population', '10175684')]), OrderedDict([('Country', 'Belize'), ('Continent', 'N. America'), ('GDP_per_capita', '6545'), ('life_expectancy', '70.425'), ('Population', '250512')]), OrderedDict([('Country', 'Benin'), ('Continent', 'Africa'), ('GDP_per_capita', '1307'), ('life_expectancy', '55.261'), ('Population', '6517810')]), OrderedDict([('Country', 'Bhutan'), ('Continent', 'Asia'), ('GDP_per_capita', '2922'), ('life_expectancy', '60.306999999999995'), ('Population', '571262')]), OrderedDict([('Country', 'Bolivia'), ('Continent', 'S. America'), ('GDP_per_capita', '3394'), ('life_expectancy', '62.994'), ('Population', '8307248')]), OrderedDict([('Country', 'Bosnia and Herzegovina'), ('Continent', 'Europe'), ('GDP_per_capita', '5733'), ('life_expectancy', '74.882'), ('Population', '3693698')]), OrderedDict([('Country', 'Botswana'), ('Continent', 'Africa'), ('GDP_per_capita', '10107'), ('life_expectancy', '50.567'), ('Population', '1757925')]), OrderedDict([('Country', 'Brazil'), ('Continent', 'S. America'), ('GDP_per_capita', '8056'), ('life_expectancy', '70.26100000000001'), ('Population', '174425387')]), OrderedDict([('Country', 'Brunei'), ('Continent', 'Asia'), ('GDP_per_capita', '48020'), ('life_expectancy', '75.92699999999999'), ('Population', '327036')]), OrderedDict([('Country', 'Bulgaria'), ('Continent', 'Europe'), ('GDP_per_capita', '6907'), ('life_expectancy', '71.59'), ('Population', '8006158')]), OrderedDict([('Country', 'Burkina Faso'), ('Continent', 'Africa'), ('GDP_per_capita', '1001'), ('life_expectancy', '50.589'), ('Population', '12294012')]), OrderedDict([('Country', 'Burundi'), ('Continent', 'Africa'), ('GDP_per_capita', '443'), ('life_expectancy', '48.251000000000005'), ('Population', '6374347')]), OrderedDict([('Country', 'Cambodia'), ('Continent', 'Asia'), ('GDP_per_capita', '982'), ('life_expectancy', '62.03'), ('Population', '12446949')]), OrderedDict([('Country', 'Cameroon'), ('Continent', 'Africa'), ('GDP_per_capita', '1803'), ('life_expectancy', '51.96'), ('Population', '15678269')]), OrderedDict([('Country', 'Canada'), ('Continent', 'N. America'), ('GDP_per_capita', '32448'), ('life_expectancy', '79.41'), ('Population', '30667365')]), OrderedDict([('Country', 'Cape Verde'), ('Continent', 'Africa'), ('GDP_per_capita', '2291'), ('life_expectancy', '69.835'), ('Population', '437238')]), OrderedDict([('Country', 'Central African Rep.'), ('Continent', 'Africa'), ('GDP_per_capita', '762'), ('life_expectancy', '43.727'), ('Population', '3701607')]), OrderedDict([('Country', 'Chad'), ('Continent', 'Africa'), ('GDP_per_capita', '1017'), ('life_expectancy', '46.708'), ('Population', '8222327')]), OrderedDict([('Country', 'Chile'), ('Continent', 'S. America'), ('GDP_per_capita', '10435'), ('life_expectancy', '77.01'), ('Population', '15419820')]), OrderedDict([('Country', 'China'), ('Continent', 'Asia'), ('GDP_per_capita', '3407'), ('life_expectancy', '72.124'), ('Population', '1269116737')]), OrderedDict([('Country', 'Colombia'), ('Continent', 'S. America'), ('GDP_per_capita', '5749'), ('life_expectancy', '71.02600000000001'), ('Population', '39764166')]), OrderedDict([('Country', 'Comoros'), ('Continent', 'Africa'), ('GDP_per_capita', '1090'), ('life_expectancy', '57.9'), ('Population', '562469')]), OrderedDict([('Country', 'Congo, Dem. Rep.'), ('Continent', 'Africa'), ('GDP_per_capita', '292'), ('life_expectancy', '46.387'), ('Population', '49626200')]), OrderedDict([('Country', 'Congo, Rep.'), ('Continent', 'Africa'), ('GDP_per_capita', '3423'), ('life_expectancy', '52.326'), ('Population', '3135773')]), OrderedDict([('Country', 'Costa Rica'), ('Continent', 'N. America'), ('GDP_per_capita', '7672'), ('life_expectancy', '77.721'), ('Population', '3919180')]), OrderedDict([('Country', \"Cote d'Ivoire\"), ('Continent', 'Africa'), ('GDP_per_capita', '1746'), ('life_expectancy', '46.428999999999995'), ('Population', '16581653')]), OrderedDict([('Country', 'Croatia'), ('Continent', 'Europe'), ('GDP_per_capita', '10582'), ('life_expectancy', '74.798'), ('Population', '4505533')]), OrderedDict([('Country', 'Cuba'), ('Continent', 'N. America'), ('GDP_per_capita', '6115'), ('life_expectancy', '76.684'), ('Population', '11104313')]), OrderedDict([('Country', 'Cyprus'), ('Continent', 'Europe'), ('GDP_per_capita', '22821'), ('life_expectancy', '78.01100000000001'), ('Population', '943294')]), OrderedDict([('Country', 'Czech Rep.'), ('Continent', 'Europe'), ('GDP_per_capita', '16823'), ('life_expectancy', '75.05'), ('Population', '10242890')]), OrderedDict([('Country', 'Denmark'), ('Continent', 'Europe'), ('GDP_per_capita', '31805'), ('life_expectancy', '76.9'), ('Population', '5339501')]), OrderedDict([('Country', 'Djibouti'), ('Continent', 'Africa'), ('GDP_per_capita', '1894'), ('life_expectancy', '57.023'), ('Population', '731930')]), OrderedDict([('Country', 'Dominican Rep.'), ('Continent', 'N. America'), ('GDP_per_capita', '4350'), ('life_expectancy', '70.553'), ('Population', '8591967')]), OrderedDict([('Country', 'Ecuador'), ('Continent', 'S. America'), ('GDP_per_capita', '5616'), ('life_expectancy', '73.35300000000001'), ('Population', '12345023')]), OrderedDict([('Country', 'Egypt'), ('Continent', 'Africa'), ('GDP_per_capita', '4629'), ('life_expectancy', '68.632'), ('Population', '67648419')]), OrderedDict([('Country', 'El Salvador'), ('Continent', 'N. America'), ('GDP_per_capita', '5341'), ('life_expectancy', '69.715'), ('Population', '5940305')]), OrderedDict([('Country', 'Equatorial Guinea'), ('Continent', 'Africa'), ('GDP_per_capita', '5240'), ('life_expectancy', '47.723'), ('Population', '520380')]), OrderedDict([('Country', 'Eritrea'), ('Continent', 'Africa'), ('GDP_per_capita', '741'), ('life_expectancy', '56.131'), ('Population', '3667576')]), OrderedDict([('Country', 'Estonia'), ('Continent', 'Europe'), ('GDP_per_capita', '11244'), ('life_expectancy', '70.8'), ('Population', '1370749')]), OrderedDict([('Country', 'Ethiopia'), ('Continent', 'Africa'), ('GDP_per_capita', '512'), ('life_expectancy', '52.245'), ('Population', '65577897')]), OrderedDict([('Country', 'Fiji'), ('Continent', 'Oceania'), ('GDP_per_capita', '3856'), ('life_expectancy', '67.553'), ('Population', '811718')]), OrderedDict([('Country', 'Finland'), ('Continent', 'Europe'), ('GDP_per_capita', '27171'), ('life_expectancy', '77.76'), ('Population', '5173370')]), OrderedDict([('Country', 'France'), ('Continent', 'Europe'), ('GDP_per_capita', '28636'), ('life_expectancy', '79.23'), ('Population', '59047795')]), OrderedDict([('Country', 'Gabon'), ('Continent', 'Africa'), ('GDP_per_capita', '12764'), ('life_expectancy', '59.744'), ('Population', '1235274')]), OrderedDict([('Country', 'Gambia'), ('Continent', 'Africa'), ('GDP_per_capita', '687'), ('life_expectancy', '55.115'), ('Population', '1297084')]), OrderedDict([('Country', 'Georgia'), ('Continent', 'Europe'), ('GDP_per_capita', '2332'), ('life_expectancy', '71.839'), ('Population', '4745765')]), OrderedDict([('Country', 'Germany'), ('Continent', 'Europe'), ('GDP_per_capita', '29726'), ('life_expectancy', '78.14127463'), ('Population', '82349027')]), OrderedDict([('Country', 'Ghana'), ('Continent', 'Africa'), ('GDP_per_capita', '1067'), ('life_expectancy', '56.996'), ('Population', '19165490')]), OrderedDict([('Country', 'Greece'), ('Continent', 'Europe'), ('GDP_per_capita', '20675'), ('life_expectancy', '78.535'), ('Population', '10986883')]), OrderedDict([('Country', 'Greenland'), ('Continent', 'N. America'), ('GDP_per_capita', '33204'), ('life_expectancy', '67.03'), ('Population', '56196')]), OrderedDict([('Country', 'Grenada'), ('Continent', 'N. America'), ('GDP_per_capita', '8655'), ('life_expectancy', '70.34100000000001'), ('Population', '101522')]), OrderedDict([('Country', 'Guatemala'), ('Continent', 'N. America'), ('GDP_per_capita', '4884'), ('life_expectancy', '67.768'), ('Population', '11237101')]), OrderedDict([('Country', 'Guinea'), ('Continent', 'Africa'), ('GDP_per_capita', '906'), ('life_expectancy', '51.257'), ('Population', '8344486')]), OrderedDict([('Country', 'Guinea-Bissau'), ('Continent', 'Africa'), ('GDP_per_capita', '632'), ('life_expectancy', '51.468'), ('Population', '1240655')]), OrderedDict([('Country', 'Guyana'), ('Continent', 'S. America'), ('GDP_per_capita', '3141'), ('life_expectancy', '63.29'), ('Population', '733101')]), OrderedDict([('Country', 'Haiti'), ('Continent', 'N. America'), ('GDP_per_capita', '1344'), ('life_expectancy', '57.46'), ('Population', '8645371')]), OrderedDict([('Country', 'Honduras'), ('Continent', 'N. America'), ('GDP_per_capita', '3093'), ('life_expectancy', '70.482'), ('Population', '6218151')]), OrderedDict([('Country', 'Hong Kong, China'), ('Continent', 'Asia'), ('GDP_per_capita', '29972'), ('life_expectancy', '80.361'), ('Population', '6783317')]), OrderedDict([('Country', 'Hungary'), ('Continent', 'Europe'), ('GDP_per_capita', '13592'), ('life_expectancy', '71.86'), ('Population', '10210545')]), OrderedDict([('Country', 'Iceland'), ('Continent', 'Europe'), ('GDP_per_capita', '31092'), ('life_expectancy', '79.72'), ('Population', '281210')]), OrderedDict([('Country', 'India'), ('Continent', 'Asia'), ('GDP_per_capita', '1648'), ('life_expectancy', '62.129'), ('Population', '1053898107')]), OrderedDict([('Country', 'Indonesia'), ('Continent', 'Asia'), ('GDP_per_capita', '2714'), ('life_expectancy', '67.289'), ('Population', '213395411')]), OrderedDict([('Country', 'Iran'), ('Continent', 'Asia'), ('GDP_per_capita', '8600'), ('life_expectancy', '69.611'), ('Population', '65342319')]), OrderedDict([('Country', 'Iraq'), ('Continent', 'Asia'), ('GDP_per_capita', '3951'), ('life_expectancy', '70.845'), ('Population', '23857458')]), OrderedDict([('Country', 'Ireland'), ('Continent', 'Europe'), ('GDP_per_capita', '30827'), ('life_expectancy', '76.66'), ('Population', '3803780')]), OrderedDict([('Country', 'Israel'), ('Continent', 'Asia'), ('GDP_per_capita', '22834'), ('life_expectancy', '78.75'), ('Population', '6014953')]), OrderedDict([('Country', 'Italy'), ('Continent', 'Europe'), ('GDP_per_capita', '27160'), ('life_expectancy', '79.73'), ('Population', '56986329')]), OrderedDict([('Country', 'Jamaica'), ('Continent', 'N. America'), ('GDP_per_capita', '6934'), ('life_expectancy', '70.479'), ('Population', '2581648')]), OrderedDict([('Country', 'Japan'), ('Continent', 'Asia'), ('GDP_per_capita', '28559'), ('life_expectancy', '81.35'), ('Population', '125720310')]), OrderedDict([('Country', 'Jordan'), ('Continent', 'Asia'), ('GDP_per_capita', '3664'), ('life_expectancy', '71.72399999999999'), ('Population', '4827096')]), OrderedDict([('Country', 'Kazakhstan'), ('Continent', 'Asia'), ('GDP_per_capita', '5366'), ('life_expectancy', '63.513000000000005'), ('Population', '14956694')]), OrderedDict([('Country', 'Kenya'), ('Continent', 'Africa'), ('GDP_per_capita', '1318'), ('life_expectancy', '52.864'), ('Population', '31253701')]), OrderedDict([('Country', 'Kiribati'), ('Continent', 'Oceania'), ('GDP_per_capita', '3501'), ('life_expectancy', '64.642'), ('Population', '84010')]), OrderedDict([('Country', 'Korea, Dem. Rep.'), ('Continent', 'Asia'), ('GDP_per_capita', '1689'), ('life_expectancy', '65.271'), ('Population', '22894095')]), OrderedDict([('Country', 'Korea, Rep.'), ('Continent', 'Asia'), ('GDP_per_capita', '16995'), ('life_expectancy', '76.11399999999999'), ('Population', '45987624')]), OrderedDict([('Country', 'Kuwait'), ('Continent', 'Asia'), ('GDP_per_capita', '36397'), ('life_expectancy', '73.133'), ('Population', '1940786')]), OrderedDict([('Country', 'Kyrgyzstan'), ('Continent', 'Asia'), ('GDP_per_capita', '1527'), ('life_expectancy', '66.232'), ('Population', '4954850')]), OrderedDict([('Country', 'Laos'), ('Continent', 'Asia'), ('GDP_per_capita', '1518'), ('life_expectancy', '61.68899999999999'), ('Population', '5317060')]), OrderedDict([('Country', 'Latvia'), ('Continent', 'Europe'), ('GDP_per_capita', '8649'), ('life_expectancy', '70.16'), ('Population', '2384972')]), OrderedDict([('Country', 'Lebanon'), ('Continent', 'Asia'), ('GDP_per_capita', '5795'), ('life_expectancy', '74.40899999999999'), ('Population', '3742329')]), OrderedDict([('Country', 'Lesotho'), ('Continent', 'Africa'), ('GDP_per_capita', '1186'), ('life_expectancy', '47.265'), ('Population', '1963878')]), OrderedDict([('Country', 'Liberia'), ('Continent', 'Africa'), ('GDP_per_capita', '519'), ('life_expectancy', '52.424'), ('Population', '2847290')]), OrderedDict([('Country', 'Libya'), ('Continent', 'Africa'), ('GDP_per_capita', '9139'), ('life_expectancy', '71.872'), ('Population', '5231189')]), OrderedDict([('Country', 'Lithuania'), ('Continent', 'Europe'), ('GDP_per_capita', '9631'), ('life_expectancy', '72.18'), ('Population', '3500028')]), OrderedDict([('Country', 'Luxembourg'), ('Continent', 'Europe'), ('GDP_per_capita', '63924'), ('life_expectancy', '77.82'), ('Population', '435491')]), OrderedDict([('Country', 'Macao, China'), ('Continent', 'Asia'), ('GDP_per_capita', '22512'), ('life_expectancy', '77.627'), ('Population', '431867')]), OrderedDict([('Country', 'Macedonia, FYR'), ('Continent', 'Europe'), ('GDP_per_capita', '6975'), ('life_expectancy', '73.244'), ('Population', '2009091')]), OrderedDict([('Country', 'Madagascar'), ('Continent', 'Africa'), ('GDP_per_capita', '1027'), ('life_expectancy', '58.485'), ('Population', '15364272')]), OrderedDict([('Country', 'Malawi'), ('Continent', 'Africa'), ('GDP_per_capita', '713'), ('life_expectancy', '46.04'), ('Population', '11228756')]), OrderedDict([('Country', 'Malaysia'), ('Continent', 'Asia'), ('GDP_per_capita', '10161'), ('life_expectancy', '72.81'), ('Population', '23414909')]), OrderedDict([('Country', 'Maldives'), ('Continent', 'Asia'), ('GDP_per_capita', '3433'), ('life_expectancy', '69.279'), ('Population', '273236')]), OrderedDict([('Country', 'Mali'), ('Continent', 'Africa'), ('GDP_per_capita', '854'), ('life_expectancy', '49.06100000000001'), ('Population', '11295324')]), OrderedDict([('Country', 'Malta'), ('Continent', 'Europe'), ('GDP_per_capita', '20276'), ('life_expectancy', '77.36399999999999'), ('Population', '397420')]), OrderedDict([('Country', 'Mauritania'), ('Continent', 'Africa'), ('GDP_per_capita', '1540'), ('life_expectancy', '59.729'), ('Population', '2642743')]), OrderedDict([('Country', 'Mauritius'), ('Continent', 'Africa'), ('GDP_per_capita', '8290'), ('life_expectancy', '71.202'), ('Population', '1196027')]), OrderedDict([('Country', 'Mexico'), ('Continent', 'N. America'), ('GDP_per_capita', '10894'), ('life_expectancy', '74.38'), ('Population', '99959594')]), OrderedDict([('Country', 'Micronesia, Fed. Sts.'), ('Continent', 'Oceania'), ('GDP_per_capita', '5530'), ('life_expectancy', '67.3'), ('Population', '107103')]), OrderedDict([('Country', 'Moldova'), ('Continent', 'Europe'), ('GDP_per_capita', '1692'), ('life_expectancy', '67.007'), ('Population', '4106736')]), OrderedDict([('Country', 'Mongolia'), ('Continent', 'Asia'), ('GDP_per_capita', '2017'), ('life_expectancy', '62.876000000000005'), ('Population', '2411369')]), OrderedDict([('Country', 'Montenegro'), ('Continent', 'Europe'), ('GDP_per_capita', '6185'), ('life_expectancy', '74.125'), ('Population', '632606')]), OrderedDict([('Country', 'Morocco'), ('Continent', 'Africa'), ('GDP_per_capita', '3073'), ('life_expectancy', '68.22'), ('Population', '28793236')]), OrderedDict([('Country', 'Mozambique'), ('Continent', 'Africa'), ('GDP_per_capita', '542'), ('life_expectancy', '47.472'), ('Population', '18200656')]), OrderedDict([('Country', 'Myanmar'), ('Continent', 'Asia'), ('GDP_per_capita', '1034'), ('life_expectancy', '62.073'), ('Population', '44957660')]), OrderedDict([('Country', 'Namibia'), ('Continent', 'Africa'), ('GDP_per_capita', '4022'), ('life_expectancy', '55.173'), ('Population', '1895839')]), OrderedDict([('Country', 'Nepal'), ('Continent', 'Asia'), ('GDP_per_capita', '1054'), ('life_expectancy', '62.055'), ('Population', '24400606')]), OrderedDict([('Country', 'Netherlands'), ('Continent', 'Europe'), ('GDP_per_capita', '33000'), ('life_expectancy', '78.24'), ('Population', '15862825')]), OrderedDict([('Country', 'New Zealand'), ('Continent', 'Oceania'), ('GDP_per_capita', '21895'), ('life_expectancy', '78.9'), ('Population', '3858032')]), OrderedDict([('Country', 'Nicaragua'), ('Continent', 'N. America'), ('GDP_per_capita', '2490'), ('life_expectancy', '69.682'), ('Population', '5073704')]), OrderedDict([('Country', 'Niger'), ('Continent', 'Africa'), ('GDP_per_capita', '577'), ('life_expectancy', '50.692'), ('Population', '10922421')]), OrderedDict([('Country', 'Nigeria'), ('Continent', 'Africa'), ('GDP_per_capita', '1619'), ('life_expectancy', '46.629'), ('Population', '123688536')]), OrderedDict([('Country', 'Norway'), ('Continent', 'Europe'), ('GDP_per_capita', '43174'), ('life_expectancy', '78.76'), ('Population', '4490859')]), OrderedDict([('Country', 'Oman'), ('Continent', 'Asia'), ('GDP_per_capita', '19204'), ('life_expectancy', '72.139'), ('Population', '2264163')]), OrderedDict([('Country', 'Pakistan'), ('Continent', 'Asia'), ('GDP_per_capita', '2086'), ('life_expectancy', '63.854'), ('Population', '144522192')]), OrderedDict([('Country', 'Panama'), ('Continent', 'N. America'), ('GDP_per_capita', '7405'), ('life_expectancy', '75.094'), ('Population', '2956126')]), OrderedDict([('Country', 'Papua New Guinea'), ('Continent', 'Oceania'), ('GDP_per_capita', '1821'), ('life_expectancy', '58.748999999999995'), ('Population', '5378824')]), OrderedDict([('Country', 'Paraguay'), ('Continent', 'S. America'), ('GDP_per_capita', '3907'), ('life_expectancy', '70.07300000000001'), ('Population', '5343539')]), OrderedDict([('Country', 'Peru'), ('Continent', 'S. America'), ('GDP_per_capita', '5791'), ('life_expectancy', '70.506'), ('Population', '25861887')]), OrderedDict([('Country', 'Philippines'), ('Continent', 'Asia'), ('GDP_per_capita', '2598'), ('life_expectancy', '66.774'), ('Population', '77309965')]), OrderedDict([('Country', 'Poland'), ('Continent', 'Europe'), ('GDP_per_capita', '11680'), ('life_expectancy', '73.91'), ('Population', '38302444')]), OrderedDict([('Country', 'Portugal'), ('Continent', 'Europe'), ('GDP_per_capita', '19609'), ('life_expectancy', '76.84'), ('Population', '10336209')]), OrderedDict([('Country', 'Qatar'), ('Continent', 'Asia'), ('GDP_per_capita', '60394'), ('life_expectancy', '76.68'), ('Population', '590957')]), OrderedDict([('Country', 'Romania'), ('Continent', 'Europe'), ('GDP_per_capita', '7089'), ('life_expectancy', '70.47'), ('Population', '22191683')]), OrderedDict([('Country', 'Russia'), ('Continent', 'Asia'), ('GDP_per_capita', '8570'), ('life_expectancy', '65.38'), ('Population', '146757517')]), OrderedDict([('Country', 'Rwanda'), ('Continent', 'Africa'), ('GDP_per_capita', '704'), ('life_expectancy', '47.6425'), ('Population', '8098344')]), OrderedDict([('Country', 'Saint Lucia'), ('Continent', 'N. America'), ('GDP_per_capita', '8676'), ('life_expectancy', '71.456'), ('Population', '157108')]), OrderedDict([('Country', 'Saint Vincent and the Grenadines'), ('Continent', 'N. America'), ('GDP_per_capita', '5893'), ('life_expectancy', '70.6'), ('Population', '107891')]), OrderedDict([('Country', 'Samoa'), ('Continent', 'Oceania'), ('GDP_per_capita', '4090'), ('life_expectancy', '69.344'), ('Population', '176549')]), OrderedDict([('Country', 'Sao Tome and Principe'), ('Continent', 'Africa'), ('GDP_per_capita', '1320'), ('life_expectancy', '63.336000000000006'), ('Population', '141010')]), OrderedDict([('Country', 'Saudi Arabia'), ('Continent', 'Asia'), ('GDP_per_capita', '20001'), ('life_expectancy', '72.40100000000001'), ('Population', '20045276')]), OrderedDict([('Country', 'Senegal'), ('Continent', 'Africa'), ('GDP_per_capita', '1511'), ('life_expectancy', '57.817'), ('Population', '9505862')]), OrderedDict([('Country', 'Serbia'), ('Continent', 'Europe'), ('GDP_per_capita', '6607'), ('life_expectancy', '72.072'), ('Population', '10133561')]), OrderedDict([('Country', 'Seychelles'), ('Continent', 'Africa'), ('GDP_per_capita', '15230'), ('life_expectancy', '71.771'), ('Population', '78685')]), OrderedDict([('Country', 'Sierra Leone'), ('Continent', 'Africa'), ('GDP_per_capita', '517'), ('life_expectancy', '38.123000000000005'), ('Population', '4143115')]), OrderedDict([('Country', 'Singapore'), ('Continent', 'Asia'), ('GDP_per_capita', '36834'), ('life_expectancy', '78.34'), ('Population', '3919300')]), OrderedDict([('Country', 'Slovak Republic'), ('Continent', 'Europe'), ('GDP_per_capita', '12689'), ('life_expectancy', '73.19'), ('Population', '5404845')]), OrderedDict([('Country', 'Slovenia'), ('Continent', 'Europe'), ('GDP_per_capita', '19399'), ('life_expectancy', '76.11'), ('Population', '1985406')]), OrderedDict([('Country', 'Solomon Islands'), ('Continent', 'Oceania'), ('GDP_per_capita', '1802'), ('life_expectancy', '62.808'), ('Population', '408732')]), OrderedDict([('Country', 'Somalia'), ('Continent', 'Africa'), ('GDP_per_capita', '881'), ('life_expectancy', '50.902'), ('Population', '7399033')]), OrderedDict([('Country', 'South Africa'), ('Continent', 'Africa'), ('GDP_per_capita', '7454'), ('life_expectancy', '55.891999999999996'), ('Population', '44760380')]), OrderedDict([('Country', 'South Sudan'), ('Continent', 'Africa'), ('GDP_per_capita', '1883'), ('life_expectancy', '49.248000000000005'), ('Population', '6994624')]), OrderedDict([('Country', 'Spain'), ('Continent', 'Europe'), ('GDP_per_capita', '23410'), ('life_expectancy', '79.34'), ('Population', '40288457')]), OrderedDict([('Country', 'Sri Lanka'), ('Continent', 'Asia'), ('GDP_per_capita', '2997'), ('life_expectancy', '71.078'), ('Population', '18745084')]), OrderedDict([('Country', 'Sudan'), ('Continent', 'Africa'), ('GDP_per_capita', '1874'), ('life_expectancy', '57.979'), ('Population', '27193105')]), OrderedDict([('Country', 'Suriname'), ('Continent', 'S. America'), ('GDP_per_capita', '5677'), ('life_expectancy', '67.851'), ('Population', '466846')]), OrderedDict([('Country', 'Swaziland'), ('Continent', 'Africa'), ('GDP_per_capita', '4021'), ('life_expectancy', '48.68899999999999'), ('Population', '1063832')]), OrderedDict([('Country', 'Sweden'), ('Continent', 'Europe'), ('GDP_per_capita', '28640'), ('life_expectancy', '79.84'), ('Population', '8860153')]), OrderedDict([('Country', 'Switzerland'), ('Continent', 'Europe'), ('GDP_per_capita', '34386'), ('life_expectancy', '79.99'), ('Population', '7167908')]), OrderedDict([('Country', 'Syria'), ('Continent', 'Asia'), ('GDP_per_capita', '3935'), ('life_expectancy', '73.316'), ('Population', '15988534')]), OrderedDict([('Country', 'Taiwan'), ('Continent', 'Asia'), ('GDP_per_capita', '23525'), ('life_expectancy', '76.02'), ('Population', '22183000')]), OrderedDict([('Country', 'Tajikistan'), ('Continent', 'Asia'), ('GDP_per_capita', '1001'), ('life_expectancy', '63.57'), ('Population', '6172807')]), OrderedDict([('Country', 'Tanzania'), ('Continent', 'Africa'), ('GDP_per_capita', '826'), ('life_expectancy', '50.01'), ('Population', '34038161')]), OrderedDict([('Country', 'Thailand'), ('Continent', 'Asia'), ('GDP_per_capita', '5578'), ('life_expectancy', '70.921'), ('Population', '63155029')]), OrderedDict([('Country', 'Timor-Leste'), ('Continent', 'Asia'), ('GDP_per_capita', '2743'), ('life_expectancy', '59.468'), ('Population', '830089')]), OrderedDict([('Country', 'Togo'), ('Continent', 'Africa'), ('GDP_per_capita', '890'), ('life_expectancy', '53.585'), ('Population', '4793504')]), OrderedDict([('Country', 'Tonga'), ('Continent', 'Oceania'), ('GDP_per_capita', '4886'), ('life_expectancy', '70.81'), ('Population', '97935')]), OrderedDict([('Country', 'Trinidad and Tobago'), ('Continent', 'N. America'), ('GDP_per_capita', '10496'), ('life_expectancy', '68.533'), ('Population', '1292058')]), OrderedDict([('Country', 'Tunisia'), ('Continent', 'Africa'), ('GDP_per_capita', '5480'), ('life_expectancy', '73.15899999999999'), ('Population', '9456117')]), OrderedDict([('Country', 'Turkey'), ('Continent', 'Asia'), ('GDP_per_capita', '6803'), ('life_expectancy', '70.01'), ('Population', '63627862')]), OrderedDict([('Country', 'Turkmenistan'), ('Continent', 'Asia'), ('GDP_per_capita', '3289'), ('life_expectancy', '63.925'), ('Population', '4501419')]), OrderedDict([('Country', 'Uganda'), ('Continent', 'Africa'), ('GDP_per_capita', '881'), ('life_expectancy', '48.126000000000005'), ('Population', '24213120')]), OrderedDict([('Country', 'Ukraine'), ('Continent', 'Europe'), ('GDP_per_capita', '3700'), ('life_expectancy', '67.79'), ('Population', '48891792')]), OrderedDict([('Country', 'United Arab Emirates'), ('Continent', 'Asia'), ('GDP_per_capita', '30012'), ('life_expectancy', '74.163'), ('Population', '3033491')]), OrderedDict([('Country', 'United Kingdom'), ('Continent', 'Europe'), ('GDP_per_capita', '28644'), ('life_expectancy', '78.04'), ('Population', '58874117')]), OrderedDict([('Country', 'United States'), ('Continent', 'N. America'), ('GDP_per_capita', '39758'), ('life_expectancy', '76.8'), ('Population', '282496310')]), OrderedDict([('Country', 'Uruguay'), ('Continent', 'S. America'), ('GDP_per_capita', '9092'), ('life_expectancy', '74.777'), ('Population', '3319066')]), OrderedDict([('Country', 'Uzbekistan'), ('Continent', 'Asia'), ('GDP_per_capita', '1635'), ('life_expectancy', '66.999'), ('Population', '24775610')]), OrderedDict([('Country', 'Vanuatu'), ('Continent', 'Oceania'), ('GDP_per_capita', '3762'), ('life_expectancy', '67.438'), ('Population', '185074')]), OrderedDict([('Country', 'Venezuela'), ('Continent', 'S. America'), ('GDP_per_capita', '9434'), ('life_expectancy', '72.432'), ('Population', '24348304')]), OrderedDict([('Country', 'Vietnam'), ('Continent', 'Asia'), ('GDP_per_capita', '1577'), ('life_expectancy', '73.777'), ('Population', '78758010')]), OrderedDict([('Country', 'West Bank and Gaza'), ('Continent', 'Asia'), ('GDP_per_capita', '7586'), ('life_expectancy', '70.929'), ('Population', '3198560')]), OrderedDict([('Country', 'Yemen, Rep.'), ('Continent', 'Asia'), ('GDP_per_capita', '2217'), ('life_expectancy', '60.403999999999996'), ('Population', '17723186')]), OrderedDict([('Country', 'Zambia'), ('Continent', 'Africa'), ('GDP_per_capita', '1035'), ('life_expectancy', '41.802'), ('Population', '10201562')]), OrderedDict([('Country', 'Zimbabwe'), ('Continent', 'Africa'), ('GDP_per_capita', '745'), ('life_expectancy', '43.976000000000006'), ('Population', '12509477')])]\n"
     ]
    }
   ],
   "source": [
    "import csv\n",
    "\n",
    "csvfile = open('countries.csv', 'r')\n",
    "reader = csv.DictReader(csvfile)\n",
    "data = list(reader)\n",
    "csvfile.close()\n",
    "print(\"The data looks like\", data)"
   ]
  },
  {
   "cell_type": "markdown",
   "metadata": {},
   "source": [
    "#### Question 1 - What are the columns in our dataset?"
   ]
  },
  {
   "cell_type": "code",
   "execution_count": 42,
   "metadata": {},
   "outputs": [
    {
     "name": "stdout",
     "output_type": "stream",
     "text": [
      "188\n"
     ]
    }
   ],
   "source": [
    "print(len(data))"
   ]
  },
  {
   "cell_type": "code",
   "execution_count": 43,
   "metadata": {},
   "outputs": [
    {
     "name": "stdout",
     "output_type": "stream",
     "text": [
      "<class 'list'>\n"
     ]
    }
   ],
   "source": [
    "print(type(data))"
   ]
  },
  {
   "cell_type": "code",
   "execution_count": 44,
   "metadata": {},
   "outputs": [
    {
     "name": "stdout",
     "output_type": "stream",
     "text": [
      "OrderedDict([('Country', 'Afghanistan'), ('Continent', 'Asia'), ('GDP_per_capita', '663'), ('life_expectancy', '54.863'), ('Population', '22856302')])\n"
     ]
    }
   ],
   "source": [
    "print(data[0])"
   ]
  },
  {
   "cell_type": "code",
   "execution_count": 45,
   "metadata": {},
   "outputs": [
    {
     "name": "stdout",
     "output_type": "stream",
     "text": [
      "OrderedDict([('Country', 'Zimbabwe'), ('Continent', 'Africa'), ('GDP_per_capita', '745'), ('life_expectancy', '43.976000000000006'), ('Population', '12509477')])\n"
     ]
    }
   ],
   "source": [
    "print(data[187])"
   ]
  },
  {
   "cell_type": "markdown",
   "metadata": {},
   "source": [
    "##### Answer - The columns are Country, Continent, GDP_per_capita, Life_expectancy and Population"
   ]
  },
  {
   "cell_type": "markdown",
   "metadata": {},
   "source": [
    "#### Question 2 - How many countries do we have in our dataset?"
   ]
  },
  {
   "cell_type": "code",
   "execution_count": 46,
   "metadata": {},
   "outputs": [
    {
     "name": "stdout",
     "output_type": "stream",
     "text": [
      "The number of countries is 188\n"
     ]
    }
   ],
   "source": [
    "#Each item in the list seems to be for a country\n",
    "\n",
    "print(f\"The number of countries is {len(data)}\")"
   ]
  },
  {
   "cell_type": "markdown",
   "metadata": {},
   "source": [
    "#### Question 3 - How many countries in Asia? How about North America?"
   ]
  },
  {
   "cell_type": "code",
   "execution_count": 47,
   "metadata": {},
   "outputs": [
    {
     "name": "stdout",
     "output_type": "stream",
     "text": [
      "There are 48 countries in Asia, and 22 countries in North America.\n"
     ]
    }
   ],
   "source": [
    "asia=0\n",
    "north_america=0\n",
    "for country in data:\n",
    "    if country[\"Continent\"]==\"Asia\":\n",
    "        asia=asia+1\n",
    "    elif country[\"Continent\"]==\"N. America\":\n",
    "        north_america=north_america+1\n",
    "\n",
    "print(f\"There are {asia} countries in Asia, and {north_america} countries in North America.\")"
   ]
  },
  {
   "cell_type": "markdown",
   "metadata": {},
   "source": [
    "#### Question 4 - What is the total population of the world?"
   ]
  },
  {
   "cell_type": "code",
   "execution_count": 48,
   "metadata": {},
   "outputs": [
    {
     "name": "stdout",
     "output_type": "stream",
     "text": [
      "The total population is 6.12 billion.\n"
     ]
    }
   ],
   "source": [
    "total_population=0\n",
    "\n",
    "for country in data:\n",
    "    total_population=total_population+int(country[\"Population\"])\n",
    "\n",
    "print(f\"The total population is {round(total_population/1000000000,2)} billion.\")"
   ]
  },
  {
   "cell_type": "markdown",
   "metadata": {},
   "source": [
    "#### Question 5 - Which has a larger population, Africa or South America?"
   ]
  },
  {
   "cell_type": "code",
   "execution_count": 49,
   "metadata": {},
   "outputs": [
    {
     "name": "stdout",
     "output_type": "stream",
     "text": [
      "Africa has a larger population than South America\n"
     ]
    }
   ],
   "source": [
    "population_south=0\n",
    "population_africa=0\n",
    "\n",
    "for country in data:\n",
    "    if country[\"Continent\"]==\"S. America\":\n",
    "        population_south=population_south+int(country[\"Population\"])\n",
    "    elif country[\"Continent\"]==\"Africa\":\n",
    "        population_africa=population_africa+int(country[\"Population\"])\n",
    "        \n",
    "if population_south>population_africa:\n",
    "    print(\"South America has a larger population than Africa\")\n",
    "else:\n",
    "    print(\"Africa has a larger population than South America\")"
   ]
  },
  {
   "cell_type": "markdown",
   "metadata": {},
   "source": [
    "#### Question 6 - Calculate the total GDP of each country and print it out (right now it's per capita)."
   ]
  },
  {
   "cell_type": "code",
   "execution_count": 50,
   "metadata": {},
   "outputs": [
    {
     "name": "stdout",
     "output_type": "stream",
     "text": [
      "<class 'collections.OrderedDict'>\n"
     ]
    }
   ],
   "source": [
    "pop=data[0]\n",
    "print(type(pop))"
   ]
  },
  {
   "cell_type": "code",
   "execution_count": 51,
   "metadata": {},
   "outputs": [
    {
     "name": "stdout",
     "output_type": "stream",
     "text": [
      "odict_keys(['Country', 'Continent', 'GDP_per_capita', 'life_expectancy', 'Population'])\n"
     ]
    }
   ],
   "source": [
    "print(pop.keys())"
   ]
  },
  {
   "cell_type": "code",
   "execution_count": 42,
   "metadata": {},
   "outputs": [
    {
     "name": "stdout",
     "output_type": "stream",
     "text": [
      "The GDP of Afghanistan is 15.153728226 billion\n",
      "The GDP of Albania is 12.88643592 billion\n",
      "The GDP of Algeria is 155.661450046 billion\n",
      "The GDP of Angola is 34.063908358 billion\n",
      "The GDP of Antigua and Barbuda is 0.989182128 billion\n",
      "The GDP of Argentina is 390.394524839 billion\n",
      "The GDP of Armenia is 6.502871172 billion\n",
      "The GDP of Australia is 560.384787591 billion\n",
      "The GDP of Austria is 256.214821696 billion\n",
      "The GDP of Azerbaijan is 20.544461359 billion\n",
      "The GDP of Bahamas is 6.765011928 billion\n",
      "The GDP of Bahrain is 14.049818895 billion\n",
      "The GDP of Bangladesh is 139.311695625 billion\n",
      "The GDP of Barbados is 4.007849802 billion\n",
      "The GDP of Belarus is 59.70316016 billion\n",
      "The GDP of Belgium is 304.65997896 billion\n",
      "The GDP of Belize is 1.63960104 billion\n",
      "The GDP of Benin is 8.51877767 billion\n",
      "The GDP of Bhutan is 1.669227564 billion\n",
      "The GDP of Bolivia is 28.194799712 billion\n",
      "The GDP of Bosnia and Herzegovina is 21.175970634 billion\n",
      "The GDP of Botswana is 17.767347975 billion\n",
      "The GDP of Brazil is 1405.170917672 billion\n",
      "The GDP of Brunei is 15.70426872 billion\n",
      "The GDP of Bulgaria is 55.298533306 billion\n",
      "The GDP of Burkina Faso is 12.306306012 billion\n",
      "The GDP of Burundi is 2.823835721 billion\n",
      "The GDP of Cambodia is 12.222903918 billion\n",
      "The GDP of Cameroon is 28.267919007 billion\n",
      "The GDP of Canada is 995.09465952 billion\n",
      "The GDP of Cape Verde is 1.001712258 billion\n",
      "The GDP of Central African Rep. is 2.820624534 billion\n",
      "The GDP of Chad is 8.362106559 billion\n",
      "The GDP of Chile is 160.9058217 billion\n",
      "The GDP of China is 4323.880722959 billion\n",
      "The GDP of Colombia is 228.604190334 billion\n",
      "The GDP of Comoros is 0.61309121 billion\n",
      "The GDP of Congo, Dem. Rep. is 14.4908504 billion\n",
      "The GDP of Congo, Rep. is 10.733750979 billion\n",
      "The GDP of Costa Rica is 30.06794896 billion\n",
      "The GDP of Cote d'Ivoire is 28.951566138 billion\n",
      "The GDP of Croatia is 47.677550206 billion\n",
      "The GDP of Cuba is 67.902873995 billion\n",
      "The GDP of Cyprus is 21.526912374 billion\n",
      "The GDP of Czech Rep. is 172.31613847 billion\n",
      "The GDP of Denmark is 169.822829305 billion\n",
      "The GDP of Djibouti is 1.38627542 billion\n",
      "The GDP of Dominican Rep. is 37.37505645 billion\n",
      "The GDP of Ecuador is 69.329649168 billion\n",
      "The GDP of Egypt is 313.144531551 billion\n",
      "The GDP of El Salvador is 31.727169005 billion\n",
      "The GDP of Equatorial Guinea is 2.7267912 billion\n",
      "The GDP of Eritrea is 2.717673816 billion\n",
      "The GDP of Estonia is 15.412701756 billion\n",
      "The GDP of Ethiopia is 33.575883264 billion\n",
      "The GDP of Fiji is 3.129984608 billion\n",
      "The GDP of Finland is 140.56563627 billion\n",
      "The GDP of France is 1690.89265762 billion\n",
      "The GDP of Gabon is 15.767037336 billion\n",
      "The GDP of Gambia is 0.891096708 billion\n",
      "The GDP of Georgia is 11.06712398 billion\n",
      "The GDP of Germany is 2447.907176602 billion\n",
      "The GDP of Ghana is 20.44957783 billion\n",
      "The GDP of Greece is 227.153806025 billion\n",
      "The GDP of Greenland is 1.865931984 billion\n",
      "The GDP of Grenada is 0.87867291 billion\n",
      "The GDP of Guatemala is 54.882001284 billion\n",
      "The GDP of Guinea is 7.560104316 billion\n",
      "The GDP of Guinea-Bissau is 0.78409396 billion\n",
      "The GDP of Guyana is 2.302670241 billion\n",
      "The GDP of Haiti is 11.619378624 billion\n",
      "The GDP of Honduras is 19.232741043 billion\n",
      "The GDP of Hong Kong, China is 203.309577124 billion\n",
      "The GDP of Hungary is 138.78172764 billion\n",
      "The GDP of Iceland is 8.74338132 billion\n",
      "The GDP of India is 1736.824080336 billion\n",
      "The GDP of Indonesia is 579.155145454 billion\n",
      "The GDP of Iran is 561.9439434 billion\n",
      "The GDP of Iraq is 94.260816558 billion\n",
      "The GDP of Ireland is 117.25912606 billion\n",
      "The GDP of Israel is 137.345436802 billion\n",
      "The GDP of Italy is 1547.74869564 billion\n",
      "The GDP of Jamaica is 17.901147232 billion\n",
      "The GDP of Japan is 3590.44633329 billion\n",
      "The GDP of Jordan is 17.686479744 billion\n",
      "The GDP of Kazakhstan is 80.257620004 billion\n",
      "The GDP of Kenya is 41.192377918 billion\n",
      "The GDP of Kiribati is 0.29411901 billion\n",
      "The GDP of Korea, Dem. Rep. is 38.668126455 billion\n",
      "The GDP of Korea, Rep. is 781.55966988 billion\n",
      "The GDP of Kuwait is 70.638788042 billion\n",
      "The GDP of Kyrgyzstan is 7.56605595 billion\n",
      "The GDP of Laos is 8.07129708 billion\n",
      "The GDP of Latvia is 20.627622828 billion\n",
      "The GDP of Lebanon is 21.686796555 billion\n",
      "The GDP of Lesotho is 2.329159308 billion\n",
      "The GDP of Liberia is 1.47774351 billion\n",
      "The GDP of Libya is 47.807836271 billion\n",
      "The GDP of Lithuania is 33.708769668 billion\n",
      "The GDP of Luxembourg is 27.838326684 billion\n",
      "The GDP of Macao, China is 9.722189904 billion\n",
      "The GDP of Macedonia, FYR is 14.013409725 billion\n",
      "The GDP of Madagascar is 15.779107344 billion\n",
      "The GDP of Malawi is 8.006103028 billion\n",
      "The GDP of Malaysia is 237.918890349 billion\n",
      "The GDP of Maldives is 0.938019188 billion\n",
      "The GDP of Mali is 9.646206696 billion\n",
      "The GDP of Malta is 8.05808792 billion\n",
      "The GDP of Mauritania is 4.06982422 billion\n",
      "The GDP of Mauritius is 9.91506383 billion\n",
      "The GDP of Mexico is 1088.959817036 billion\n",
      "The GDP of Micronesia, Fed. Sts. is 0.59227959 billion\n",
      "The GDP of Moldova is 6.948597312 billion\n",
      "The GDP of Mongolia is 4.863731273 billion\n",
      "The GDP of Montenegro is 3.91266811 billion\n",
      "The GDP of Morocco is 88.481614228 billion\n",
      "The GDP of Mozambique is 9.864755552 billion\n",
      "The GDP of Myanmar is 46.48622044 billion\n",
      "The GDP of Namibia is 7.625064458 billion\n",
      "The GDP of Nepal is 25.718238724 billion\n",
      "The GDP of Netherlands is 523.473225 billion\n",
      "The GDP of New Zealand is 84.47161064 billion\n",
      "The GDP of Nicaragua is 12.63352296 billion\n",
      "The GDP of Niger is 6.302236917 billion\n",
      "The GDP of Nigeria is 200.251739784 billion\n",
      "The GDP of Norway is 193.888346466 billion\n",
      "The GDP of Oman is 43.480986252 billion\n",
      "The GDP of Pakistan is 301.473292512 billion\n",
      "The GDP of Panama is 21.89011303 billion\n",
      "The GDP of Papua New Guinea is 9.794838504 billion\n",
      "The GDP of Paraguay is 20.877206873 billion\n",
      "The GDP of Peru is 149.766187617 billion\n",
      "The GDP of Philippines is 200.85128907 billion\n",
      "The GDP of Poland is 447.37254592 billion\n",
      "The GDP of Portugal is 202.682722281 billion\n",
      "The GDP of Qatar is 35.690257058 billion\n",
      "The GDP of Romania is 157.316840787 billion\n",
      "The GDP of Russia is 1257.71192069 billion\n",
      "The GDP of Rwanda is 5.701234176 billion\n",
      "The GDP of Saint Lucia is 1.363069008 billion\n",
      "The GDP of Saint Vincent and the Grenadines is 0.635801663 billion\n",
      "The GDP of Samoa is 0.72208541 billion\n",
      "The GDP of Sao Tome and Principe is 0.1861332 billion\n",
      "The GDP of Saudi Arabia is 400.925565276 billion\n",
      "The GDP of Senegal is 14.363357482 billion\n",
      "The GDP of Serbia is 66.952437527 billion\n",
      "The GDP of Seychelles is 1.19837255 billion\n",
      "The GDP of Sierra Leone is 2.141990455 billion\n",
      "The GDP of Singapore is 144.3634962 billion\n",
      "The GDP of Slovak Republic is 68.582078205 billion\n",
      "The GDP of Slovenia is 38.514890994 billion\n",
      "The GDP of Solomon Islands is 0.736535064 billion\n",
      "The GDP of Somalia is 6.518548073 billion\n",
      "The GDP of South Africa is 333.64387252 billion\n",
      "The GDP of South Sudan is 13.170876992 billion\n",
      "The GDP of Spain is 943.15277837 billion\n",
      "The GDP of Sri Lanka is 56.179016748 billion\n",
      "The GDP of Sudan is 50.95987877 billion\n",
      "The GDP of Suriname is 2.650284742 billion\n",
      "The GDP of Swaziland is 4.277668472 billion\n",
      "The GDP of Sweden is 253.75478192 billion\n",
      "The GDP of Switzerland is 246.475684488 billion\n",
      "The GDP of Syria is 62.91488129 billion\n",
      "The GDP of Taiwan is 521.855075 billion\n",
      "The GDP of Tajikistan is 6.178979807 billion\n",
      "The GDP of Tanzania is 28.115520986 billion\n",
      "The GDP of Thailand is 352.278751762 billion\n",
      "The GDP of Timor-Leste is 2.276934127 billion\n",
      "The GDP of Togo is 4.26621856 billion\n",
      "The GDP of Tonga is 0.47851041 billion\n",
      "The GDP of Trinidad and Tobago is 13.561440768 billion\n",
      "The GDP of Tunisia is 51.81952116 billion\n",
      "The GDP of Turkey is 432.860345186 billion\n",
      "The GDP of Turkmenistan is 14.805167091 billion\n",
      "The GDP of Uganda is 21.33175872 billion\n",
      "The GDP of Ukraine is 180.8996304 billion\n",
      "The GDP of United Arab Emirates is 91.041131892 billion\n",
      "The GDP of United Kingdom is 1686.390207348 billion\n",
      "The GDP of United States is 11231.48829298 billion\n",
      "The GDP of Uruguay is 30.176948072 billion\n",
      "The GDP of Uzbekistan is 40.50812235 billion\n",
      "The GDP of Vanuatu is 0.696248388 billion\n",
      "The GDP of Venezuela is 229.701899936 billion\n",
      "The GDP of Vietnam is 124.20138177 billion\n",
      "The GDP of West Bank and Gaza is 24.26427616 billion\n",
      "The GDP of Yemen, Rep. is 39.292303362 billion\n",
      "The GDP of Zambia is 10.55861667 billion\n",
      "The GDP of Zimbabwe is 9.319560365 billion\n"
     ]
    }
   ],
   "source": [
    "for country in data:\n",
    "    print(\"The GDP of\", country[\"Country\"], \"is\", (int(country[\"GDP_per_capita\"])*int(country[\"Population\"]))/1000000000, \"billion\")\n"
   ]
  },
  {
   "cell_type": "markdown",
   "metadata": {},
   "source": [
    "#### Question 7 - What is the median life expectancy of the world?"
   ]
  },
  {
   "cell_type": "code",
   "execution_count": 52,
   "metadata": {},
   "outputs": [
    {
     "name": "stdout",
     "output_type": "stream",
     "text": [
      "The median life expectancy of all countries in the dataset is 70.04150000000001 years\n"
     ]
    }
   ],
   "source": [
    "life_expectancy=[]\n",
    "\n",
    "for country in data:\n",
    "    life_expectancy.append(float(country[\"life_expectancy\"]))\n",
    "\n",
    "import statistics\n",
    "print(\"The median life expectancy of all countries in the dataset is\", statistics.median(life_expectancy),\"years\")                          \n"
   ]
  },
  {
   "cell_type": "markdown",
   "metadata": {},
   "source": [
    "#### Question 8 - What is the median life expectancy of Europe?"
   ]
  },
  {
   "cell_type": "code",
   "execution_count": 53,
   "metadata": {},
   "outputs": [
    {
     "name": "stdout",
     "output_type": "stream",
     "text": [
      "The median life expectancy of all countries in the dataset is 75.58 years\n"
     ]
    }
   ],
   "source": [
    "years_europe=[]\n",
    "\n",
    "for country in data:\n",
    "    if country[\"Continent\"]==\"Europe\":\n",
    "        years_europe.append(float(country[\"life_expectancy\"]))\n",
    "\n",
    "import statistics\n",
    "print(\"The median life expectancy of all countries in the dataset is\", statistics.median(years_europe),\"years\")                          \n"
   ]
  },
  {
   "cell_type": "code",
   "execution_count": 55,
   "metadata": {},
   "outputs": [
    {
     "name": "stdout",
     "output_type": "stream",
     "text": [
      "The average life expectancy is 66.50153603526596 years. The following countries have a life expectancy below average:\n",
      "Afghanistan\n",
      "Angola\n",
      "Bangladesh\n",
      "Benin\n",
      "Bhutan\n",
      "Bolivia\n",
      "Botswana\n",
      "Burkina Faso\n",
      "Burundi\n",
      "Cambodia\n",
      "Cameroon\n",
      "Central African Rep.\n",
      "Chad\n",
      "Comoros\n",
      "Congo, Dem. Rep.\n",
      "Congo, Rep.\n",
      "Cote d'Ivoire\n",
      "Djibouti\n",
      "Equatorial Guinea\n",
      "Eritrea\n",
      "Ethiopia\n",
      "Gabon\n",
      "Gambia\n",
      "Ghana\n",
      "Guinea\n",
      "Guinea-Bissau\n",
      "Guyana\n",
      "Haiti\n",
      "India\n",
      "Kazakhstan\n",
      "Kenya\n",
      "Kiribati\n",
      "Korea, Dem. Rep.\n",
      "Kyrgyzstan\n",
      "Laos\n",
      "Lesotho\n",
      "Liberia\n",
      "Madagascar\n",
      "Malawi\n",
      "Mali\n",
      "Mauritania\n",
      "Mongolia\n",
      "Mozambique\n",
      "Myanmar\n",
      "Namibia\n",
      "Nepal\n",
      "Niger\n",
      "Nigeria\n",
      "Pakistan\n",
      "Papua New Guinea\n",
      "Russia\n",
      "Rwanda\n",
      "Sao Tome and Principe\n",
      "Senegal\n",
      "Sierra Leone\n",
      "Solomon Islands\n",
      "Somalia\n",
      "South Africa\n",
      "South Sudan\n",
      "Sudan\n",
      "Swaziland\n",
      "Tajikistan\n",
      "Tanzania\n",
      "Timor-Leste\n",
      "Togo\n",
      "Turkmenistan\n",
      "Uganda\n",
      "Yemen, Rep.\n",
      "Zambia\n",
      "Zimbabwe\n"
     ]
    }
   ],
   "source": [
    "import statistics\n",
    "average_life=statistics.mean(life_expectancy)\n",
    "print(\"The average life expectancy is\", average_life, \"years.\", \"The following countries have a life expectancy below average:\")\n",
    "\n",
    "for country in data:\n",
    "    if float (country[\"life_expectancy\"])<average_life:\n",
    "        print(country[\"Country\"]) "
   ]
  },
  {
   "cell_type": "markdown",
   "metadata": {},
   "source": [
    "#### Question 10 - Print out each country that has a below-average GDP but an above-average life expectancy."
   ]
  },
  {
   "cell_type": "code",
   "execution_count": 56,
   "metadata": {},
   "outputs": [
    {
     "name": "stdout",
     "output_type": "stream",
     "text": [
      "Albania\n",
      "Algeria\n",
      "Antigua and Barbuda\n",
      "Armenia\n",
      "Austria\n",
      "Azerbaijan\n",
      "Bahamas\n",
      "Bahrain\n",
      "Barbados\n",
      "Belarus\n",
      "Belize\n",
      "Bosnia and Herzegovina\n",
      "Brunei\n",
      "Bulgaria\n",
      "Cape Verde\n",
      "Chile\n",
      "Colombia\n",
      "Costa Rica\n",
      "Croatia\n",
      "Cuba\n",
      "Cyprus\n",
      "Czech Rep.\n",
      "Denmark\n",
      "Dominican Rep.\n",
      "Ecuador\n",
      "El Salvador\n",
      "Estonia\n",
      "Fiji\n",
      "Finland\n",
      "Georgia\n",
      "Greece\n",
      "Greenland\n",
      "Grenada\n",
      "Guatemala\n",
      "Honduras\n",
      "Hong Kong, China\n",
      "Hungary\n",
      "Iceland\n",
      "Iraq\n",
      "Ireland\n",
      "Israel\n",
      "Jamaica\n",
      "Jordan\n",
      "Kuwait\n",
      "Latvia\n",
      "Lebanon\n",
      "Libya\n",
      "Lithuania\n",
      "Luxembourg\n",
      "Macao, China\n",
      "Macedonia, FYR\n",
      "Malaysia\n",
      "Maldives\n",
      "Malta\n",
      "Mauritius\n",
      "Micronesia, Fed. Sts.\n",
      "Moldova\n",
      "Montenegro\n",
      "Morocco\n",
      "New Zealand\n",
      "Nicaragua\n",
      "Norway\n",
      "Oman\n",
      "Panama\n",
      "Paraguay\n",
      "Peru\n",
      "Philippines\n",
      "Portugal\n",
      "Qatar\n",
      "Romania\n",
      "Saint Lucia\n",
      "Saint Vincent and the Grenadines\n",
      "Samoa\n",
      "Serbia\n",
      "Seychelles\n",
      "Singapore\n",
      "Slovak Republic\n",
      "Slovenia\n",
      "Sri Lanka\n",
      "Suriname\n",
      "Sweden\n",
      "Switzerland\n",
      "Syria\n",
      "Tonga\n",
      "Trinidad and Tobago\n",
      "Tunisia\n",
      "Ukraine\n",
      "United Arab Emirates\n",
      "Uruguay\n",
      "Uzbekistan\n",
      "Vanuatu\n",
      "Venezuela\n",
      "Vietnam\n",
      "West Bank and Gaza\n"
     ]
    }
   ],
   "source": [
    "gdp_list=[]\n",
    "\n",
    "for country in data:\n",
    "    gdp_list.append(int(country[\"GDP_per_capita\"])*int(country[\"Population\"]))\n",
    "   \n",
    "import statistics\n",
    "average_gdp=statistics.mean(gdp_list)\n",
    "\n",
    "#The average life expectancy is already calculated above\n",
    "for country in data:\n",
    "    if int(country[\"GDP_per_capita\"])*int(country[\"Population\"])<average_gdp and float(country[\"life_expectancy\"])>average_life:\n",
    "        print(country[\"Country\"])"
   ]
  },
  {
   "cell_type": "markdown",
   "metadata": {},
   "source": [
    "#### Q11. Calculate the 75th percentile of GDP."
   ]
  },
  {
   "cell_type": "code",
   "execution_count": 61,
   "metadata": {},
   "outputs": [
    {
     "name": "stdout",
     "output_type": "stream",
     "text": [
      "The 75th percentile of GDP is 145714169054.25\n"
     ]
    }
   ],
   "source": [
    "import numpy as np\n",
    "percentile=np.percentile(gdp_list,75)\n",
    "\n",
    "print(\"The 75th percentile of GDP is\", percentile)"
   ]
  },
  {
   "cell_type": "markdown",
   "metadata": {},
   "source": [
    "#### Q12. What percent of the world population has a life expectancy of below 50 years? Above 80 years?"
   ]
  },
  {
   "cell_type": "code",
   "execution_count": 66,
   "metadata": {},
   "outputs": [
    {
     "name": "stdout",
     "output_type": "stream",
     "text": [
      "The percentage of the world population that has a life expectancy of below 50 years is 5.44\n",
      "The percentage of the world population that has a life expectancy of above 80 years is 2.17\n"
     ]
    }
   ],
   "source": [
    "population_50=0\n",
    "population_80=0\n",
    "\n",
    "for country in data:\n",
    "    if float(country[\"life_expectancy\"])<50:\n",
    "        population_50=population_50+int(country[\"Population\"])\n",
    "    if float(country[\"life_expectancy\"])>80:\n",
    "        population_80=population_80+int(country[\"Population\"])\n",
    "        \n",
    "#The total population is already calculated above\n",
    "print(\"The percentage of the world population that has a life expectancy of below 50 years is\", round(population_50/total_population*100,2))\n",
    "\n",
    "print(\"The percentage of the world population that has a life expectancy of above 80 years is\", round(population_80/total_population*100,2))\n",
    "  \n",
    "\n",
    "   "
   ]
  },
  {
   "cell_type": "markdown",
   "metadata": {},
   "source": [
    "#### The End "
   ]
  },
  {
   "cell_type": "code",
   "execution_count": null,
   "metadata": {},
   "outputs": [],
   "source": []
  }
 ],
 "metadata": {
  "kernelspec": {
   "display_name": "Python 3",
   "language": "python",
   "name": "python3"
  },
  "language_info": {
   "codemirror_mode": {
    "name": "ipython",
    "version": 3
   },
   "file_extension": ".py",
   "mimetype": "text/x-python",
   "name": "python",
   "nbconvert_exporter": "python",
   "pygments_lexer": "ipython3",
   "version": "3.7.3"
  }
 },
 "nbformat": 4,
 "nbformat_minor": 2
}
