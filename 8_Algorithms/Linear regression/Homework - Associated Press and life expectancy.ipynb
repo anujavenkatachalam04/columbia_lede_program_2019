{
 "cells": [
  {
   "cell_type": "markdown",
   "metadata": {},
   "source": [
    "# The Associated Press and Life Expectancy\n",
    "\n",
    "**Story:** [AP analysis: Unemployment, income affect life expectancy](https://www.apnews.com/66ac44186b6249709501f07a7eab36da)\n",
    "\n",
    "**Author:** Nicky Forster, Associated Press\n",
    "\n",
    "**Topics:** Census Data, Linear Regression\n",
    "\n",
    "**Datasets**\n",
    "\n",
    "* **R12221544_SL140.csv:** ACS 2015 5-year, tract level, from [Social Explorer](https://www.socialexplorer.com)\n",
    "    - Table B23025: Employment Status\n",
    "    - **R12221544.txt** is the data dictionary\n",
    "* **R12221544_SL140.csv:** ACS 2015 5-year, tract level, from [Social Explorer](https://www.socialexplorer.com)\n",
    "    - Table B23025: Employment Status\n",
    "    - Table B06009: Educational Attainment\n",
    "    - Table B03002: Race\n",
    "    - Table B19013: Median income\n",
    "    - Table C17002: Ratio of income to poverty level\n",
    "    - **R12221544.txt** is the data dictionary\n",
    "* **US_A.CSV:** life expectancy by census tract, from [USALEEP](https://www.cdc.gov/nchs/nvss/usaleep/usaleep.html)\n",
    "    - **Record_Layout_CensusTract_Life_Expectancy.pdf** is data dictionary\n",
    "\n",
    "We're trying to figure out how the **life expectancy in a census tract** is related to other factors like unemployment, income, and others."
   ]
  },
  {
   "cell_type": "markdown",
   "metadata": {},
   "source": [
    "## Reading in our data"
   ]
  },
  {
   "cell_type": "code",
   "execution_count": 1,
   "metadata": {},
   "outputs": [],
   "source": [
    "import pandas as pd\n",
    "import seaborn as sns"
   ]
  },
  {
   "cell_type": "code",
   "execution_count": 2,
   "metadata": {},
   "outputs": [],
   "source": [
    "life_exp_df=pd.read_csv(\"US_A.CSV\")"
   ]
  },
  {
   "cell_type": "code",
   "execution_count": 3,
   "metadata": {},
   "outputs": [],
   "source": [
    "life_exp_df=life_exp_df.rename(columns={\n",
    "    \"STATE2KX\":\"STATE_CODE\",\n",
    "    \"CNTY2KX\":\"COUNTY_CODE\",\n",
    "    \"Tract ID\":\"TRACT_ID\",\n",
    "    \"e(0)\": \"LIFE_EXP\",\n",
    "    \"se(e(0))\":\"STD_ERROR\",\n",
    "    \"Abridged life table flag\":\"SOURCE\"\n",
    "})"
   ]
  },
  {
   "cell_type": "code",
   "execution_count": 4,
   "metadata": {},
   "outputs": [],
   "source": [
    "life_exp_df.SOURCE=life_exp_df.SOURCE.replace({\n",
    "    1: \"Observed\",\n",
    "    2: \"Predicted\",\n",
    "    3: \"Both\"\n",
    "})"
   ]
  },
  {
   "cell_type": "code",
   "execution_count": 5,
   "metadata": {},
   "outputs": [],
   "source": [
    "life_exp_df.SOURCE=life_exp_df.SOURCE.astype(\"category\")"
   ]
  },
  {
   "cell_type": "markdown",
   "metadata": {},
   "source": [
    "### Opening `R12221544_SL140.csv`\n"
   ]
  },
  {
   "cell_type": "code",
   "execution_count": 6,
   "metadata": {},
   "outputs": [],
   "source": [
    "census_df=pd.read_csv(\"R12221544_SL140.csv\", encoding=\"Latin-1\")"
   ]
  },
  {
   "cell_type": "code",
   "execution_count": 7,
   "metadata": {},
   "outputs": [
    {
     "data": {
      "text/plain": [
       "Index(['Geo_FIPS', 'Geo_GEOID', 'Geo_NAME', 'Geo_QName', 'Geo_STUSAB',\n",
       "       'Geo_SUMLEV', 'Geo_GEOCOMP', 'Geo_FILEID', 'Geo_LOGRECNO', 'Geo_US',\n",
       "       'Geo_REGION', 'Geo_DIVISION', 'Geo_STATECE', 'Geo_STATE', 'Geo_COUNTY',\n",
       "       'Geo_COUSUB', 'Geo_PLACE', 'Geo_PLACESE', 'Geo_TRACT', 'Geo_BLKGRP',\n",
       "       'Geo_CONCIT', 'Geo_AIANHH', 'Geo_AIANHHFP', 'Geo_AIHHTLI', 'Geo_AITSCE',\n",
       "       'Geo_AITS', 'Geo_ANRC', 'Geo_CBSA', 'Geo_CSA', 'Geo_METDIV', 'Geo_MACC',\n",
       "       'Geo_MEMI', 'Geo_NECTA', 'Geo_CNECTA', 'Geo_NECTADIV', 'Geo_UA',\n",
       "       'Geo_UACP', 'Geo_CDCURR', 'Geo_SLDU', 'Geo_SLDL', 'Geo_VTD',\n",
       "       'Geo_ZCTA3', 'Geo_ZCTA5', 'Geo_SUBMCD', 'Geo_SDELM', 'Geo_SDSEC',\n",
       "       'Geo_SDUNI', 'Geo_UR', 'Geo_PCI', 'Geo_TAZ', 'Geo_UGA', 'Geo_BTTR',\n",
       "       'Geo_BTBG', 'Geo_PUMA5', 'Geo_PUMA1', 'ACS15_5yr_B23025001',\n",
       "       'ACS15_5yr_B23025002', 'ACS15_5yr_B23025003', 'ACS15_5yr_B23025004',\n",
       "       'ACS15_5yr_B23025005', 'ACS15_5yr_B23025006', 'ACS15_5yr_B23025007',\n",
       "       'ACS15_5yr_B23025001s', 'ACS15_5yr_B23025002s', 'ACS15_5yr_B23025003s',\n",
       "       'ACS15_5yr_B23025004s', 'ACS15_5yr_B23025005s', 'ACS15_5yr_B23025006s',\n",
       "       'ACS15_5yr_B23025007s'],\n",
       "      dtype='object')"
      ]
     },
     "execution_count": 7,
     "metadata": {},
     "output_type": "execute_result"
    }
   ],
   "source": [
    "census_df.columns"
   ]
  },
  {
   "cell_type": "code",
   "execution_count": 8,
   "metadata": {},
   "outputs": [
    {
     "data": {
      "text/plain": [
       "(74001, 69)"
      ]
     },
     "execution_count": 8,
     "metadata": {},
     "output_type": "execute_result"
    }
   ],
   "source": [
    "census_df.shape"
   ]
  },
  {
   "cell_type": "code",
   "execution_count": 9,
   "metadata": {},
   "outputs": [
    {
     "data": {
      "text/html": [
       "<div>\n",
       "<style scoped>\n",
       "    .dataframe tbody tr th:only-of-type {\n",
       "        vertical-align: middle;\n",
       "    }\n",
       "\n",
       "    .dataframe tbody tr th {\n",
       "        vertical-align: top;\n",
       "    }\n",
       "\n",
       "    .dataframe thead th {\n",
       "        text-align: right;\n",
       "    }\n",
       "</style>\n",
       "<table border=\"1\" class=\"dataframe\">\n",
       "  <thead>\n",
       "    <tr style=\"text-align: right;\">\n",
       "      <th></th>\n",
       "      <th>Geo_FIPS</th>\n",
       "      <th>Geo_GEOID</th>\n",
       "      <th>Geo_NAME</th>\n",
       "      <th>Geo_QName</th>\n",
       "      <th>Geo_STUSAB</th>\n",
       "      <th>Geo_SUMLEV</th>\n",
       "      <th>Geo_GEOCOMP</th>\n",
       "      <th>Geo_FILEID</th>\n",
       "      <th>Geo_LOGRECNO</th>\n",
       "      <th>Geo_US</th>\n",
       "      <th>...</th>\n",
       "      <th>ACS15_5yr_B23025005</th>\n",
       "      <th>ACS15_5yr_B23025006</th>\n",
       "      <th>ACS15_5yr_B23025007</th>\n",
       "      <th>ACS15_5yr_B23025001s</th>\n",
       "      <th>ACS15_5yr_B23025002s</th>\n",
       "      <th>ACS15_5yr_B23025003s</th>\n",
       "      <th>ACS15_5yr_B23025004s</th>\n",
       "      <th>ACS15_5yr_B23025005s</th>\n",
       "      <th>ACS15_5yr_B23025006s</th>\n",
       "      <th>ACS15_5yr_B23025007s</th>\n",
       "    </tr>\n",
       "  </thead>\n",
       "  <tbody>\n",
       "    <tr>\n",
       "      <th>26342</th>\n",
       "      <td>19179961000</td>\n",
       "      <td>14000US19179961000</td>\n",
       "      <td>Census Tract 9610, Wapello County, Iowa</td>\n",
       "      <td>Census Tract 9610, Wapello County, Iowa</td>\n",
       "      <td>ia</td>\n",
       "      <td>140</td>\n",
       "      <td>0</td>\n",
       "      <td>ACSSF</td>\n",
       "      <td>5458</td>\n",
       "      <td>NaN</td>\n",
       "      <td>...</td>\n",
       "      <td>91</td>\n",
       "      <td>0</td>\n",
       "      <td>900</td>\n",
       "      <td>132.727273</td>\n",
       "      <td>115.757576</td>\n",
       "      <td>115.757576</td>\n",
       "      <td>113.333333</td>\n",
       "      <td>34.545455</td>\n",
       "      <td>5.454545</td>\n",
       "      <td>95.757576</td>\n",
       "    </tr>\n",
       "    <tr>\n",
       "      <th>26998</th>\n",
       "      <td>20173009503</td>\n",
       "      <td>14000US20173009503</td>\n",
       "      <td>Census Tract 95.03, Sedgwick County, Kansas</td>\n",
       "      <td>Census Tract 95.03, Sedgwick County, Kansas</td>\n",
       "      <td>ks</td>\n",
       "      <td>140</td>\n",
       "      <td>0</td>\n",
       "      <td>ACSSF</td>\n",
       "      <td>4383</td>\n",
       "      <td>NaN</td>\n",
       "      <td>...</td>\n",
       "      <td>223</td>\n",
       "      <td>12</td>\n",
       "      <td>2327</td>\n",
       "      <td>206.666667</td>\n",
       "      <td>207.878788</td>\n",
       "      <td>207.272727</td>\n",
       "      <td>229.696970</td>\n",
       "      <td>66.060606</td>\n",
       "      <td>12.121212</td>\n",
       "      <td>169.090909</td>\n",
       "    </tr>\n",
       "    <tr>\n",
       "      <th>14279</th>\n",
       "      <td>12009066800</td>\n",
       "      <td>14000US12009066800</td>\n",
       "      <td>Census Tract 668, Brevard County, Florida</td>\n",
       "      <td>Census Tract 668, Brevard County, Florida</td>\n",
       "      <td>fl</td>\n",
       "      <td>140</td>\n",
       "      <td>0</td>\n",
       "      <td>ACSSF</td>\n",
       "      <td>2066</td>\n",
       "      <td>NaN</td>\n",
       "      <td>...</td>\n",
       "      <td>22</td>\n",
       "      <td>68</td>\n",
       "      <td>352</td>\n",
       "      <td>69.696970</td>\n",
       "      <td>70.303030</td>\n",
       "      <td>70.909091</td>\n",
       "      <td>66.666667</td>\n",
       "      <td>13.333333</td>\n",
       "      <td>15.757576</td>\n",
       "      <td>41.818182</td>\n",
       "    </tr>\n",
       "    <tr>\n",
       "      <th>42076</th>\n",
       "      <td>34025810402</td>\n",
       "      <td>14000US34025810402</td>\n",
       "      <td>Census Tract 8104.02, Monmouth County, New Jersey</td>\n",
       "      <td>Census Tract 8104.02, Monmouth County, New Jersey</td>\n",
       "      <td>nj</td>\n",
       "      <td>140</td>\n",
       "      <td>0</td>\n",
       "      <td>ACSSF</td>\n",
       "      <td>2788</td>\n",
       "      <td>NaN</td>\n",
       "      <td>...</td>\n",
       "      <td>261</td>\n",
       "      <td>0</td>\n",
       "      <td>2341</td>\n",
       "      <td>201.212121</td>\n",
       "      <td>220.000000</td>\n",
       "      <td>220.000000</td>\n",
       "      <td>216.363636</td>\n",
       "      <td>69.090909</td>\n",
       "      <td>10.303030</td>\n",
       "      <td>157.575758</td>\n",
       "    </tr>\n",
       "    <tr>\n",
       "      <th>36041</th>\n",
       "      <td>27053026509</td>\n",
       "      <td>14000US27053026509</td>\n",
       "      <td>Census Tract 265.09, Hennepin County, Minnesota</td>\n",
       "      <td>Census Tract 265.09, Hennepin County, Minnesota</td>\n",
       "      <td>mn</td>\n",
       "      <td>140</td>\n",
       "      <td>0</td>\n",
       "      <td>ACSSF</td>\n",
       "      <td>6225</td>\n",
       "      <td>NaN</td>\n",
       "      <td>...</td>\n",
       "      <td>47</td>\n",
       "      <td>0</td>\n",
       "      <td>894</td>\n",
       "      <td>113.333333</td>\n",
       "      <td>121.818182</td>\n",
       "      <td>121.818182</td>\n",
       "      <td>117.575758</td>\n",
       "      <td>22.424242</td>\n",
       "      <td>5.454545</td>\n",
       "      <td>81.212121</td>\n",
       "    </tr>\n",
       "  </tbody>\n",
       "</table>\n",
       "<p>5 rows × 69 columns</p>\n",
       "</div>"
      ],
      "text/plain": [
       "          Geo_FIPS           Geo_GEOID  \\\n",
       "26342  19179961000  14000US19179961000   \n",
       "26998  20173009503  14000US20173009503   \n",
       "14279  12009066800  14000US12009066800   \n",
       "42076  34025810402  14000US34025810402   \n",
       "36041  27053026509  14000US27053026509   \n",
       "\n",
       "                                                Geo_NAME  \\\n",
       "26342            Census Tract 9610, Wapello County, Iowa   \n",
       "26998        Census Tract 95.03, Sedgwick County, Kansas   \n",
       "14279          Census Tract 668, Brevard County, Florida   \n",
       "42076  Census Tract 8104.02, Monmouth County, New Jersey   \n",
       "36041    Census Tract 265.09, Hennepin County, Minnesota   \n",
       "\n",
       "                                               Geo_QName Geo_STUSAB  \\\n",
       "26342            Census Tract 9610, Wapello County, Iowa         ia   \n",
       "26998        Census Tract 95.03, Sedgwick County, Kansas         ks   \n",
       "14279          Census Tract 668, Brevard County, Florida         fl   \n",
       "42076  Census Tract 8104.02, Monmouth County, New Jersey         nj   \n",
       "36041    Census Tract 265.09, Hennepin County, Minnesota         mn   \n",
       "\n",
       "       Geo_SUMLEV  Geo_GEOCOMP Geo_FILEID  Geo_LOGRECNO  Geo_US  ...  \\\n",
       "26342         140            0      ACSSF          5458     NaN  ...   \n",
       "26998         140            0      ACSSF          4383     NaN  ...   \n",
       "14279         140            0      ACSSF          2066     NaN  ...   \n",
       "42076         140            0      ACSSF          2788     NaN  ...   \n",
       "36041         140            0      ACSSF          6225     NaN  ...   \n",
       "\n",
       "       ACS15_5yr_B23025005  ACS15_5yr_B23025006  ACS15_5yr_B23025007  \\\n",
       "26342                   91                    0                  900   \n",
       "26998                  223                   12                 2327   \n",
       "14279                   22                   68                  352   \n",
       "42076                  261                    0                 2341   \n",
       "36041                   47                    0                  894   \n",
       "\n",
       "       ACS15_5yr_B23025001s  ACS15_5yr_B23025002s  ACS15_5yr_B23025003s  \\\n",
       "26342            132.727273            115.757576            115.757576   \n",
       "26998            206.666667            207.878788            207.272727   \n",
       "14279             69.696970             70.303030             70.909091   \n",
       "42076            201.212121            220.000000            220.000000   \n",
       "36041            113.333333            121.818182            121.818182   \n",
       "\n",
       "       ACS15_5yr_B23025004s  ACS15_5yr_B23025005s  ACS15_5yr_B23025006s  \\\n",
       "26342            113.333333             34.545455              5.454545   \n",
       "26998            229.696970             66.060606             12.121212   \n",
       "14279             66.666667             13.333333             15.757576   \n",
       "42076            216.363636             69.090909             10.303030   \n",
       "36041            117.575758             22.424242              5.454545   \n",
       "\n",
       "       ACS15_5yr_B23025007s  \n",
       "26342             95.757576  \n",
       "26998            169.090909  \n",
       "14279             41.818182  \n",
       "42076            157.575758  \n",
       "36041             81.212121  \n",
       "\n",
       "[5 rows x 69 columns]"
      ]
     },
     "execution_count": 9,
     "metadata": {},
     "output_type": "execute_result"
    }
   ],
   "source": [
    "census_df.sample(5)"
   ]
  },
  {
   "cell_type": "markdown",
   "metadata": {},
   "source": [
    "#### Filtering out any columns we aren't interested in"
   ]
  },
  {
   "cell_type": "code",
   "execution_count": 10,
   "metadata": {},
   "outputs": [],
   "source": [
    "#Retaining variables that I think should be in the model:\n",
    "\n",
    "census_df=census_df[[\"Geo_FIPS\",\"ACS15_5yr_B23025001\", \"ACS15_5yr_B23025002\",\"ACS15_5yr_B23025003\",\"ACS15_5yr_B23025004\",\"ACS15_5yr_B23025005\",\"ACS15_5yr_B23025006\",\"ACS15_5yr_B23025007\"]]"
   ]
  },
  {
   "cell_type": "markdown",
   "metadata": {},
   "source": [
    "#### Creating a new column for percent unemployment\n",
    "\n",
    "We'll be using the total population in the census tract as the baseline for employment."
   ]
  },
  {
   "cell_type": "code",
   "execution_count": 11,
   "metadata": {},
   "outputs": [],
   "source": [
    "census_df=census_df.rename(columns={\n",
    "    \"ACS15_5yr_B23025001\": \"total_pop\",\n",
    "    \"ACS15_5yr_B23025002\": \"labor_force\",      \n",
    "    \"ACS15_5yr_B23025003\": \"labor_force_civilian\", \n",
    "    \"ACS15_5yr_B23025004\": \"civilian_employed\",\n",
    "    \"ACS15_5yr_B23025005\": \"civilian_unemployed\",\n",
    "    \"ACS15_5yr_B23025006\": \"labor_force_armed\",\n",
    "    \"ACS15_5yr_B23025007\": \"not_labor_force\",\n",
    "    \"Geo_FIPS\":\"TRACT_ID\"\n",
    "})\n"
   ]
  },
  {
   "cell_type": "code",
   "execution_count": 12,
   "metadata": {},
   "outputs": [],
   "source": [
    "census_df[\"pct_employed\"]=((census_df[\"civilian_employed\"]+census_df[\"labor_force_armed\"])/census_df[\"total_pop\"])*100"
   ]
  },
  {
   "cell_type": "code",
   "execution_count": 13,
   "metadata": {},
   "outputs": [],
   "source": [
    "merged_df=pd.merge(life_exp_df,census_df, on=\"TRACT_ID\")"
   ]
  },
  {
   "cell_type": "code",
   "execution_count": 14,
   "metadata": {},
   "outputs": [
    {
     "data": {
      "text/html": [
       "<div>\n",
       "<style scoped>\n",
       "    .dataframe tbody tr th:only-of-type {\n",
       "        vertical-align: middle;\n",
       "    }\n",
       "\n",
       "    .dataframe tbody tr th {\n",
       "        vertical-align: top;\n",
       "    }\n",
       "\n",
       "    .dataframe thead th {\n",
       "        text-align: right;\n",
       "    }\n",
       "</style>\n",
       "<table border=\"1\" class=\"dataframe\">\n",
       "  <thead>\n",
       "    <tr style=\"text-align: right;\">\n",
       "      <th></th>\n",
       "      <th>TRACT_ID</th>\n",
       "      <th>STATE_CODE</th>\n",
       "      <th>COUNTY_CODE</th>\n",
       "      <th>TRACT2KX</th>\n",
       "      <th>LIFE_EXP</th>\n",
       "      <th>STD_ERROR</th>\n",
       "      <th>SOURCE</th>\n",
       "      <th>total_pop</th>\n",
       "      <th>labor_force</th>\n",
       "      <th>labor_force_civilian</th>\n",
       "      <th>civilian_employed</th>\n",
       "      <th>civilian_unemployed</th>\n",
       "      <th>labor_force_armed</th>\n",
       "      <th>not_labor_force</th>\n",
       "      <th>pct_employed</th>\n",
       "    </tr>\n",
       "  </thead>\n",
       "  <tbody>\n",
       "    <tr>\n",
       "      <th>31672</th>\n",
       "      <td>26161410400</td>\n",
       "      <td>26</td>\n",
       "      <td>161</td>\n",
       "      <td>410400</td>\n",
       "      <td>81.7</td>\n",
       "      <td>1.7717</td>\n",
       "      <td>Both</td>\n",
       "      <td>3331</td>\n",
       "      <td>2235</td>\n",
       "      <td>2235</td>\n",
       "      <td>1895</td>\n",
       "      <td>340</td>\n",
       "      <td>0</td>\n",
       "      <td>1096</td>\n",
       "      <td>56.889823</td>\n",
       "    </tr>\n",
       "    <tr>\n",
       "      <th>60792</th>\n",
       "      <td>48441013500</td>\n",
       "      <td>48</td>\n",
       "      <td>441</td>\n",
       "      <td>13500</td>\n",
       "      <td>81.6</td>\n",
       "      <td>1.5479</td>\n",
       "      <td>Both</td>\n",
       "      <td>6026</td>\n",
       "      <td>3887</td>\n",
       "      <td>3821</td>\n",
       "      <td>3565</td>\n",
       "      <td>256</td>\n",
       "      <td>66</td>\n",
       "      <td>2139</td>\n",
       "      <td>60.255559</td>\n",
       "    </tr>\n",
       "    <tr>\n",
       "      <th>59495</th>\n",
       "      <td>48217960400</td>\n",
       "      <td>48</td>\n",
       "      <td>217</td>\n",
       "      <td>960400</td>\n",
       "      <td>71.7</td>\n",
       "      <td>2.2472</td>\n",
       "      <td>Both</td>\n",
       "      <td>1395</td>\n",
       "      <td>699</td>\n",
       "      <td>699</td>\n",
       "      <td>606</td>\n",
       "      <td>93</td>\n",
       "      <td>0</td>\n",
       "      <td>696</td>\n",
       "      <td>43.440860</td>\n",
       "    </tr>\n",
       "    <tr>\n",
       "      <th>18249</th>\n",
       "      <td>13245010711</td>\n",
       "      <td>13</td>\n",
       "      <td>245</td>\n",
       "      <td>10711</td>\n",
       "      <td>72.8</td>\n",
       "      <td>1.6098</td>\n",
       "      <td>Both</td>\n",
       "      <td>2364</td>\n",
       "      <td>1378</td>\n",
       "      <td>1372</td>\n",
       "      <td>1211</td>\n",
       "      <td>161</td>\n",
       "      <td>6</td>\n",
       "      <td>986</td>\n",
       "      <td>51.480541</td>\n",
       "    </tr>\n",
       "    <tr>\n",
       "      <th>27731</th>\n",
       "      <td>24031701410</td>\n",
       "      <td>24</td>\n",
       "      <td>31</td>\n",
       "      <td>701410</td>\n",
       "      <td>80.4</td>\n",
       "      <td>2.7222</td>\n",
       "      <td>Predicted</td>\n",
       "      <td>5862</td>\n",
       "      <td>4869</td>\n",
       "      <td>4869</td>\n",
       "      <td>4336</td>\n",
       "      <td>533</td>\n",
       "      <td>0</td>\n",
       "      <td>993</td>\n",
       "      <td>73.967929</td>\n",
       "    </tr>\n",
       "  </tbody>\n",
       "</table>\n",
       "</div>"
      ],
      "text/plain": [
       "          TRACT_ID  STATE_CODE  COUNTY_CODE  TRACT2KX  LIFE_EXP  STD_ERROR  \\\n",
       "31672  26161410400          26          161    410400      81.7     1.7717   \n",
       "60792  48441013500          48          441     13500      81.6     1.5479   \n",
       "59495  48217960400          48          217    960400      71.7     2.2472   \n",
       "18249  13245010711          13          245     10711      72.8     1.6098   \n",
       "27731  24031701410          24           31    701410      80.4     2.7222   \n",
       "\n",
       "          SOURCE  total_pop  labor_force  labor_force_civilian  \\\n",
       "31672       Both       3331         2235                  2235   \n",
       "60792       Both       6026         3887                  3821   \n",
       "59495       Both       1395          699                   699   \n",
       "18249       Both       2364         1378                  1372   \n",
       "27731  Predicted       5862         4869                  4869   \n",
       "\n",
       "       civilian_employed  civilian_unemployed  labor_force_armed  \\\n",
       "31672               1895                  340                  0   \n",
       "60792               3565                  256                 66   \n",
       "59495                606                   93                  0   \n",
       "18249               1211                  161                  6   \n",
       "27731               4336                  533                  0   \n",
       "\n",
       "       not_labor_force  pct_employed  \n",
       "31672             1096     56.889823  \n",
       "60792             2139     60.255559  \n",
       "59495              696     43.440860  \n",
       "18249              986     51.480541  \n",
       "27731              993     73.967929  "
      ]
     },
     "execution_count": 14,
     "metadata": {},
     "output_type": "execute_result"
    }
   ],
   "source": [
    "merged_df.sample(5)"
   ]
  },
  {
   "cell_type": "markdown",
   "metadata": {},
   "source": [
    "## Running the regression\n",
    "\n",
    "Using the `statsmodels` package, running a linear regression to find the coefficient relating unemployment and life expectancy."
   ]
  },
  {
   "cell_type": "code",
   "execution_count": 15,
   "metadata": {},
   "outputs": [
    {
     "data": {
      "text/plain": [
       "<matplotlib.axes._subplots.AxesSubplot at 0x14cf7310>"
      ]
     },
     "execution_count": 15,
     "metadata": {},
     "output_type": "execute_result"
    },
    {
     "data": {
      "image/png": "[encoded data removed]",
      "text/plain": [
       "<Figure size 432x288 with 1 Axes>"
      ]
     },
     "metadata": {
      "needs_background": "light"
     },
     "output_type": "display_data"
    }
   ],
   "source": [
    "sns.regplot(x=\"pct_employed\",y=\"LIFE_EXP\", data=merged_df)"
   ]
  },
  {
   "cell_type": "code",
   "execution_count": 16,
   "metadata": {},
   "outputs": [],
   "source": [
    "import statsmodels.api as sm\n",
    "from statsmodels.sandbox.regression.predstd import wls_prediction_std"
   ]
  },
  {
   "cell_type": "code",
   "execution_count": 17,
   "metadata": {},
   "outputs": [
    {
     "name": "stderr",
     "output_type": "stream",
     "text": [
      "C:\\Users\\Anuja\\AppData\\Local\\Programs\\Python\\Python37-32\\lib\\site-packages\\numpy\\core\\fromnumeric.py:2389: FutureWarning: Method .ptp is deprecated and will be removed in a future version. Use numpy.ptp instead.\n",
      "  return ptp(axis=axis, out=out, **kwargs)\n"
     ]
    }
   ],
   "source": [
    "x=merged_df[\"pct_employed\"]\n",
    "x=sm.add_constant(x)\n",
    "y=merged_df[\"LIFE_EXP\"]"
   ]
  },
  {
   "cell_type": "code",
   "execution_count": 18,
   "metadata": {},
   "outputs": [],
   "source": [
    "model=sm.OLS(y,x)\n",
    "result=model.fit()"
   ]
  },
  {
   "cell_type": "code",
   "execution_count": 19,
   "metadata": {},
   "outputs": [
    {
     "data": {
      "text/html": [
       "<table class=\"simpletable\">\n",
       "<caption>OLS Regression Results</caption>\n",
       "<tr>\n",
       "  <th>Dep. Variable:</th>        <td>LIFE_EXP</td>     <th>  R-squared:         </th>  <td>   0.153</td>  \n",
       "</tr>\n",
       "<tr>\n",
       "  <th>Model:</th>                   <td>OLS</td>       <th>  Adj. R-squared:    </th>  <td>   0.153</td>  \n",
       "</tr>\n",
       "<tr>\n",
       "  <th>Method:</th>             <td>Least Squares</td>  <th>  F-statistic:       </th>  <td>1.188e+04</td> \n",
       "</tr>\n",
       "<tr>\n",
       "  <th>Date:</th>             <td>Mon, 22 Jul 2019</td> <th>  Prob (F-statistic):</th>   <td>  0.00</td>   \n",
       "</tr>\n",
       "<tr>\n",
       "  <th>Time:</th>                 <td>21:44:27</td>     <th>  Log-Likelihood:    </th> <td>-1.7872e+05</td>\n",
       "</tr>\n",
       "<tr>\n",
       "  <th>No. Observations:</th>      <td> 65662</td>      <th>  AIC:               </th>  <td>3.575e+05</td> \n",
       "</tr>\n",
       "<tr>\n",
       "  <th>Df Residuals:</th>          <td> 65660</td>      <th>  BIC:               </th>  <td>3.575e+05</td> \n",
       "</tr>\n",
       "<tr>\n",
       "  <th>Df Model:</th>              <td>     1</td>      <th>                     </th>      <td> </td>     \n",
       "</tr>\n",
       "<tr>\n",
       "  <th>Covariance Type:</th>      <td>nonrobust</td>    <th>                     </th>      <td> </td>     \n",
       "</tr>\n",
       "</table>\n",
       "<table class=\"simpletable\">\n",
       "<tr>\n",
       "        <td></td>          <th>coef</th>     <th>std err</th>      <th>t</th>      <th>P>|t|</th>  <th>[0.025</th>    <th>0.975]</th>  \n",
       "</tr>\n",
       "<tr>\n",
       "  <th>const</th>        <td>   69.1839</td> <td>    0.085</td> <td>  815.748</td> <td> 0.000</td> <td>   69.018</td> <td>   69.350</td>\n",
       "</tr>\n",
       "<tr>\n",
       "  <th>pct_employed</th> <td>    0.1579</td> <td>    0.001</td> <td>  109.012</td> <td> 0.000</td> <td>    0.155</td> <td>    0.161</td>\n",
       "</tr>\n",
       "</table>\n",
       "<table class=\"simpletable\">\n",
       "<tr>\n",
       "  <th>Omnibus:</th>       <td>532.139</td> <th>  Durbin-Watson:     </th> <td>   1.168</td> \n",
       "</tr>\n",
       "<tr>\n",
       "  <th>Prob(Omnibus):</th> <td> 0.000</td>  <th>  Jarque-Bera (JB):  </th> <td> 784.798</td> \n",
       "</tr>\n",
       "<tr>\n",
       "  <th>Skew:</th>          <td> 0.082</td>  <th>  Prob(JB):          </th> <td>3.83e-171</td>\n",
       "</tr>\n",
       "<tr>\n",
       "  <th>Kurtosis:</th>      <td> 3.510</td>  <th>  Cond. No.          </th> <td>    346.</td> \n",
       "</tr>\n",
       "</table><br/><br/>Warnings:<br/>[1] Standard Errors assume that the covariance matrix of the errors is correctly specified."
      ],
      "text/plain": [
       "<class 'statsmodels.iolib.summary.Summary'>\n",
       "\"\"\"\n",
       "                            OLS Regression Results                            \n",
       "==============================================================================\n",
       "Dep. Variable:               LIFE_EXP   R-squared:                       0.153\n",
       "Model:                            OLS   Adj. R-squared:                  0.153\n",
       "Method:                 Least Squares   F-statistic:                 1.188e+04\n",
       "Date:                Mon, 22 Jul 2019   Prob (F-statistic):               0.00\n",
       "Time:                        21:44:27   Log-Likelihood:            -1.7872e+05\n",
       "No. Observations:               65662   AIC:                         3.575e+05\n",
       "Df Residuals:                   65660   BIC:                         3.575e+05\n",
       "Df Model:                           1                                         \n",
       "Covariance Type:            nonrobust                                         \n",
       "================================================================================\n",
       "                   coef    std err          t      P>|t|      [0.025      0.975]\n",
       "--------------------------------------------------------------------------------\n",
       "const           69.1839      0.085    815.748      0.000      69.018      69.350\n",
       "pct_employed     0.1579      0.001    109.012      0.000       0.155       0.161\n",
       "==============================================================================\n",
       "Omnibus:                      532.139   Durbin-Watson:                   1.168\n",
       "Prob(Omnibus):                  0.000   Jarque-Bera (JB):              784.798\n",
       "Skew:                           0.082   Prob(JB):                    3.83e-171\n",
       "Kurtosis:                       3.510   Cond. No.                         346.\n",
       "==============================================================================\n",
       "\n",
       "Warnings:\n",
       "[1] Standard Errors assume that the covariance matrix of the errors is correctly specified.\n",
       "\"\"\""
      ]
     },
     "execution_count": 19,
     "metadata": {},
     "output_type": "execute_result"
    }
   ],
   "source": [
    "result.summary()"
   ]
  },
  {
   "cell_type": "code",
   "execution_count": 20,
   "metadata": {},
   "outputs": [],
   "source": [
    "# Adding the predicted y-values and residuals to the dataframe\n",
    "merged_df[\"y_predicted\"]=result.predict().reshape(-1,1)\n",
    "merged_df[\"residuals\"]=result.resid"
   ]
  },
  {
   "cell_type": "code",
   "execution_count": 21,
   "metadata": {},
   "outputs": [],
   "source": [
    "# Creating a residual plot to look at the distribution of residuals (overestomation vs underestimation scatter)"
   ]
  },
  {
   "cell_type": "code",
   "execution_count": 22,
   "metadata": {},
   "outputs": [
    {
     "data": {
      "text/plain": [
       "<matplotlib.lines.Line2D at 0x14480cf0>"
      ]
     },
     "execution_count": 22,
     "metadata": {},
     "output_type": "execute_result"
    },
    {
     "data": {
      "image/png": "[encoded data removed]",
      "text/plain": [
       "<Figure size 432x288 with 1 Axes>"
      ]
     },
     "metadata": {
      "needs_background": "light"
     },
     "output_type": "display_data"
    }
   ],
   "source": [
    "ax=merged_df.plot(x=\"pct_employed\",y=\"residuals\", kind=\"scatter\")\n",
    "ax.axhline(y=0)\n",
    "\n",
    "#The plot is denser below 0, indicating that the model is underestimating y-values."
   ]
  },
  {
   "cell_type": "code",
   "execution_count": 23,
   "metadata": {},
   "outputs": [
    {
     "name": "stdout",
     "output_type": "stream",
     "text": [
      "3.6801944459090876\n"
     ]
    }
   ],
   "source": [
    "# Calculating the RMSE\n",
    "\n",
    "#RMSE=sqrt(sum(residual**2)/n-1) OR sqrt(mse)\n",
    "import numpy as np\n",
    "rmse=np.sqrt(result.mse_resid)\n",
    "print(rmse)\n"
   ]
  },
  {
   "cell_type": "code",
   "execution_count": 24,
   "metadata": {},
   "outputs": [
    {
     "data": {
      "text/html": [
       "<div>\n",
       "<style scoped>\n",
       "    .dataframe tbody tr th:only-of-type {\n",
       "        vertical-align: middle;\n",
       "    }\n",
       "\n",
       "    .dataframe tbody tr th {\n",
       "        vertical-align: top;\n",
       "    }\n",
       "\n",
       "    .dataframe thead th {\n",
       "        text-align: right;\n",
       "    }\n",
       "</style>\n",
       "<table border=\"1\" class=\"dataframe\">\n",
       "  <thead>\n",
       "    <tr style=\"text-align: right;\">\n",
       "      <th></th>\n",
       "      <th>TRACT_ID</th>\n",
       "      <th>STATE_CODE</th>\n",
       "      <th>COUNTY_CODE</th>\n",
       "      <th>TRACT2KX</th>\n",
       "      <th>LIFE_EXP</th>\n",
       "      <th>STD_ERROR</th>\n",
       "      <th>SOURCE</th>\n",
       "      <th>total_pop</th>\n",
       "      <th>labor_force</th>\n",
       "      <th>labor_force_civilian</th>\n",
       "      <th>civilian_employed</th>\n",
       "      <th>civilian_unemployed</th>\n",
       "      <th>labor_force_armed</th>\n",
       "      <th>not_labor_force</th>\n",
       "      <th>pct_employed</th>\n",
       "      <th>y_predicted</th>\n",
       "      <th>residuals</th>\n",
       "      <th>pt_rmse</th>\n",
       "    </tr>\n",
       "  </thead>\n",
       "  <tbody>\n",
       "    <tr>\n",
       "      <th>54133</th>\n",
       "      <td>45013000700</td>\n",
       "      <td>45</td>\n",
       "      <td>13</td>\n",
       "      <td>700</td>\n",
       "      <td>74.6</td>\n",
       "      <td>1.1775</td>\n",
       "      <td>Both</td>\n",
       "      <td>4629</td>\n",
       "      <td>2779</td>\n",
       "      <td>2770</td>\n",
       "      <td>2655</td>\n",
       "      <td>115</td>\n",
       "      <td>9</td>\n",
       "      <td>1850</td>\n",
       "      <td>57.550227</td>\n",
       "      <td>78.272258</td>\n",
       "      <td>-3.672258</td>\n",
       "      <td>-0.997843</td>\n",
       "    </tr>\n",
       "  </tbody>\n",
       "</table>\n",
       "</div>"
      ],
      "text/plain": [
       "          TRACT_ID  STATE_CODE  COUNTY_CODE  TRACT2KX  LIFE_EXP  STD_ERROR  \\\n",
       "54133  45013000700          45           13       700      74.6     1.1775   \n",
       "\n",
       "      SOURCE  total_pop  labor_force  labor_force_civilian  civilian_employed  \\\n",
       "54133   Both       4629         2779                  2770               2655   \n",
       "\n",
       "       civilian_unemployed  labor_force_armed  not_labor_force  pct_employed  \\\n",
       "54133                  115                  9             1850     57.550227   \n",
       "\n",
       "       y_predicted  residuals   pt_rmse  \n",
       "54133    78.272258  -3.672258 -0.997843  "
      ]
     },
     "execution_count": 24,
     "metadata": {},
     "output_type": "execute_result"
    }
   ],
   "source": [
    "# Calculating the average distance from the actual value for every point - residual/rmse\n",
    "merged_df[\"pt_rmse\"]=merged_df[\"residuals\"]/rmse\n",
    "merged_df.sample()"
   ]
  },
  {
   "cell_type": "code",
   "execution_count": 25,
   "metadata": {},
   "outputs": [],
   "source": [
    "## Interpreting the results from the linear equation\n",
    "# 1. The equation for the regression is: y=0.1579x+69.1839. \n",
    "#    For every unit increase in x (employment pct), there is a 0.1579 unit increase in y (Life expectancy)\n",
    "\n",
    "# 2. Errors and residuals:\n",
    "#    - Rsquared=0.153 or 15.3%: The r-square value is low - it indicates that only 15.3% of the variation in y is a result of x.\n",
    "#    - Root Mean Square Error: +/- 3.68 - on average, life expectancy predicted by the line is +/-3.68 years away from the actual life expectancy."
   ]
  },
  {
   "cell_type": "markdown",
   "metadata": {},
   "source": [
    "## Bringing more columns into the mix"
   ]
  },
  {
   "cell_type": "markdown",
   "metadata": {},
   "source": [
    "### Read in `R12221544_SL140.csv`"
   ]
  },
  {
   "cell_type": "code",
   "execution_count": 26,
   "metadata": {},
   "outputs": [],
   "source": [
    "census_df2=pd.read_csv(\"R12221550_SL140.csv\", encoding=\"Latin 1\")"
   ]
  },
  {
   "cell_type": "code",
   "execution_count": 27,
   "metadata": {},
   "outputs": [
    {
     "data": {
      "text/plain": [
       "Index(['Geo_FIPS', 'Geo_GEOID', 'Geo_NAME', 'Geo_QName', 'Geo_STUSAB',\n",
       "       'Geo_SUMLEV', 'Geo_GEOCOMP', 'Geo_FILEID', 'Geo_LOGRECNO', 'Geo_US',\n",
       "       ...\n",
       "       'ACS15_5yr_B23025005', 'ACS15_5yr_B23025006', 'ACS15_5yr_B23025007',\n",
       "       'ACS15_5yr_B23025001s', 'ACS15_5yr_B23025002s', 'ACS15_5yr_B23025003s',\n",
       "       'ACS15_5yr_B23025004s', 'ACS15_5yr_B23025005s', 'ACS15_5yr_B23025006s',\n",
       "       'ACS15_5yr_B23025007s'],\n",
       "      dtype='object', length=189)"
      ]
     },
     "execution_count": 27,
     "metadata": {},
     "output_type": "execute_result"
    }
   ],
   "source": [
    "census_df2.columns"
   ]
  },
  {
   "cell_type": "code",
   "execution_count": 28,
   "metadata": {},
   "outputs": [
    {
     "data": {
      "text/html": [
       "<div>\n",
       "<style scoped>\n",
       "    .dataframe tbody tr th:only-of-type {\n",
       "        vertical-align: middle;\n",
       "    }\n",
       "\n",
       "    .dataframe tbody tr th {\n",
       "        vertical-align: top;\n",
       "    }\n",
       "\n",
       "    .dataframe thead th {\n",
       "        text-align: right;\n",
       "    }\n",
       "</style>\n",
       "<table border=\"1\" class=\"dataframe\">\n",
       "  <thead>\n",
       "    <tr style=\"text-align: right;\">\n",
       "      <th></th>\n",
       "      <th>Geo_FIPS</th>\n",
       "      <th>Geo_GEOID</th>\n",
       "      <th>Geo_NAME</th>\n",
       "      <th>Geo_QName</th>\n",
       "      <th>Geo_STUSAB</th>\n",
       "      <th>Geo_SUMLEV</th>\n",
       "      <th>Geo_GEOCOMP</th>\n",
       "      <th>Geo_FILEID</th>\n",
       "      <th>Geo_LOGRECNO</th>\n",
       "      <th>Geo_US</th>\n",
       "      <th>...</th>\n",
       "      <th>ACS15_5yr_B23025005</th>\n",
       "      <th>ACS15_5yr_B23025006</th>\n",
       "      <th>ACS15_5yr_B23025007</th>\n",
       "      <th>ACS15_5yr_B23025001s</th>\n",
       "      <th>ACS15_5yr_B23025002s</th>\n",
       "      <th>ACS15_5yr_B23025003s</th>\n",
       "      <th>ACS15_5yr_B23025004s</th>\n",
       "      <th>ACS15_5yr_B23025005s</th>\n",
       "      <th>ACS15_5yr_B23025006s</th>\n",
       "      <th>ACS15_5yr_B23025007s</th>\n",
       "    </tr>\n",
       "  </thead>\n",
       "  <tbody>\n",
       "    <tr>\n",
       "      <th>0</th>\n",
       "      <td>1001020100</td>\n",
       "      <td>14000US01001020100</td>\n",
       "      <td>Census Tract 201, Autauga County, Alabama</td>\n",
       "      <td>Census Tract 201, Autauga County, Alabama</td>\n",
       "      <td>al</td>\n",
       "      <td>140</td>\n",
       "      <td>0</td>\n",
       "      <td>ACSSF</td>\n",
       "      <td>1760</td>\n",
       "      <td>NaN</td>\n",
       "      <td>...</td>\n",
       "      <td>54</td>\n",
       "      <td>0</td>\n",
       "      <td>557</td>\n",
       "      <td>92.121212</td>\n",
       "      <td>85.454545</td>\n",
       "      <td>85.454545</td>\n",
       "      <td>83.636364</td>\n",
       "      <td>18.787879</td>\n",
       "      <td>6.666667</td>\n",
       "      <td>67.878788</td>\n",
       "    </tr>\n",
       "  </tbody>\n",
       "</table>\n",
       "<p>1 rows × 189 columns</p>\n",
       "</div>"
      ],
      "text/plain": [
       "     Geo_FIPS           Geo_GEOID                                   Geo_NAME  \\\n",
       "0  1001020100  14000US01001020100  Census Tract 201, Autauga County, Alabama   \n",
       "\n",
       "                                   Geo_QName Geo_STUSAB  Geo_SUMLEV  \\\n",
       "0  Census Tract 201, Autauga County, Alabama         al         140   \n",
       "\n",
       "   Geo_GEOCOMP Geo_FILEID  Geo_LOGRECNO  Geo_US  ...  ACS15_5yr_B23025005  \\\n",
       "0            0      ACSSF          1760     NaN  ...                   54   \n",
       "\n",
       "   ACS15_5yr_B23025006  ACS15_5yr_B23025007  ACS15_5yr_B23025001s  \\\n",
       "0                    0                  557             92.121212   \n",
       "\n",
       "   ACS15_5yr_B23025002s  ACS15_5yr_B23025003s  ACS15_5yr_B23025004s  \\\n",
       "0             85.454545             85.454545             83.636364   \n",
       "\n",
       "   ACS15_5yr_B23025005s  ACS15_5yr_B23025006s  ACS15_5yr_B23025007s  \n",
       "0             18.787879              6.666667             67.878788  \n",
       "\n",
       "[1 rows x 189 columns]"
      ]
     },
     "execution_count": 28,
     "metadata": {},
     "output_type": "execute_result"
    }
   ],
   "source": [
    "census_df2.head(1)"
   ]
  },
  {
   "cell_type": "code",
   "execution_count": 29,
   "metadata": {},
   "outputs": [],
   "source": [
    "#Note: Race has two broad categories - Latino/Hispanic and non-Latino/Hispanic whereas the instructions ask for percent black & \n",
    "## percent white. I have chosen to use percent hispanic and percent not hispanic, as hispanic, black and white are not mutually \n",
    "## exclusive categories (Hispanics can be white or black)\n",
    "\n",
    "census_df2[\"percent_hispanic\"]=(census_df2[\"ACS15_5yr_B03002012\"]/census_df2[\"ACS15_5yr_B03002001\"])*100\n",
    "census_df2[\"percent_not_hispanic\"]=(census_df2[\"ACS15_5yr_B03002002\"]/census_df2[\"ACS15_5yr_B03002001\"])*100\n",
    "\n",
    "census_df2[\"percent_less_than_highschool\"]=(census_df2[\"ACS15_5yr_B06009002\"]/census_df2[\"ACS15_5yr_B06009001\"])*100   \n",
    "census_df2[\"percent_poverty_1.5\"]=((census_df2[\"ACS15_5yr_C17002004\"]+census_df2[\"ACS15_5yr_C17002005\"])/census_df2[\"ACS15_5yr_C17002001\"])*100        \n"
   ]
  },
  {
   "cell_type": "code",
   "execution_count": 30,
   "metadata": {},
   "outputs": [],
   "source": [
    "census_df2=census_df2[[\"Geo_FIPS\",\"percent_hispanic\",\"percent_not_hispanic\",\"percent_less_than_highschool\",\"percent_poverty_1.5\",\"ACS15_5yr_B19013001\"]]"
   ]
  },
  {
   "cell_type": "code",
   "execution_count": 31,
   "metadata": {},
   "outputs": [],
   "source": [
    "census_df2=census_df2.rename(columns={\n",
    "    \"Geo_FIPS\":\"TRACT_ID\",\n",
    "    \"ACS15_5yr_B19013001\":\"Med_income\"\n",
    "})"
   ]
  },
  {
   "cell_type": "markdown",
   "metadata": {},
   "source": [
    "### Joining our datasets\n",
    "\n",
    "Combining our life expectancy dataset with this census dataset to create a new dataframe."
   ]
  },
  {
   "cell_type": "code",
   "execution_count": 32,
   "metadata": {},
   "outputs": [],
   "source": [
    "merged_df=census_df2.merge(merged_df, on=\"TRACT_ID\")"
   ]
  },
  {
   "cell_type": "code",
   "execution_count": 38,
   "metadata": {},
   "outputs": [],
   "source": [
    "merged_df=merged_df.drop(columns=[\"STATE_CODE\",\"COUNTY_CODE\",\"TRACT2KX\",\"STD_ERROR\",\"SOURCE\",\"total_pop\",\"labor_force\", \"labor_force_civilian\",\"civilian_employed\", \"civilian_unemployed\", \"labor_force_armed\",\"not_labor_force\",\"y_predicted\",\"residuals\",\"pt_rmse\"])"
   ]
  },
  {
   "cell_type": "code",
   "execution_count": 40,
   "metadata": {},
   "outputs": [],
   "source": [
    "merged_df.dropna(inplace=True)"
   ]
  },
  {
   "cell_type": "markdown",
   "metadata": {},
   "source": [
    "## Running a multivariate regression\n",
    "\n",
    "Using the `statsmodels` package and this new dataframe, run a multivariate linear regression to find the coefficient relating your columns and life expectancy."
   ]
  },
  {
   "cell_type": "code",
   "execution_count": 87,
   "metadata": {},
   "outputs": [],
   "source": [
    "# x_vars=sm.add_constant(x_vars)\n",
    "y_var=merged_df[[\"LIFE_EXP\"]]\n",
    "x_var1=merged_df[[\"percent_hispanic\", \"percent_less_than_highschool\", \"Med_income\",\"percent_poverty_1.5\"]]\n",
    "model=sm.OLS(y_var,x_var1)\n",
    "result=model.fit()"
   ]
  },
  {
   "cell_type": "code",
   "execution_count": 88,
   "metadata": {},
   "outputs": [
    {
     "data": {
      "text/html": [
       "<table class=\"simpletable\">\n",
       "<caption>OLS Regression Results</caption>\n",
       "<tr>\n",
       "  <th>Dep. Variable:</th>        <td>LIFE_EXP</td>     <th>  R-squared (uncentered):</th>       <td>   0.960</td>  \n",
       "</tr>\n",
       "<tr>\n",
       "  <th>Model:</th>                   <td>OLS</td>       <th>  Adj. R-squared (uncentered):</th>  <td>   0.960</td>  \n",
       "</tr>\n",
       "<tr>\n",
       "  <th>Method:</th>             <td>Least Squares</td>  <th>  F-statistic:       </th>           <td>3.918e+05</td> \n",
       "</tr>\n",
       "<tr>\n",
       "  <th>Date:</th>             <td>Mon, 22 Jul 2019</td> <th>  Prob (F-statistic):</th>            <td>  0.00</td>   \n",
       "</tr>\n",
       "<tr>\n",
       "  <th>Time:</th>                 <td>22:28:58</td>     <th>  Log-Likelihood:    </th>          <td>-2.7404e+05</td>\n",
       "</tr>\n",
       "<tr>\n",
       "  <th>No. Observations:</th>      <td> 65656</td>      <th>  AIC:               </th>           <td>5.481e+05</td> \n",
       "</tr>\n",
       "<tr>\n",
       "  <th>Df Residuals:</th>          <td> 65652</td>      <th>  BIC:               </th>           <td>5.481e+05</td> \n",
       "</tr>\n",
       "<tr>\n",
       "  <th>Df Model:</th>              <td>     4</td>      <th>                     </th>               <td> </td>     \n",
       "</tr>\n",
       "<tr>\n",
       "  <th>Covariance Type:</th>      <td>nonrobust</td>    <th>                     </th>               <td> </td>     \n",
       "</tr>\n",
       "</table>\n",
       "<table class=\"simpletable\">\n",
       "<tr>\n",
       "                <td></td>                  <th>coef</th>     <th>std err</th>      <th>t</th>      <th>P>|t|</th>  <th>[0.025</th>    <th>0.975]</th>  \n",
       "</tr>\n",
       "<tr>\n",
       "  <th>percent_hispanic</th>             <td>   -0.1806</td> <td>    0.004</td> <td>  -47.761</td> <td> 0.000</td> <td>   -0.188</td> <td>   -0.173</td>\n",
       "</tr>\n",
       "<tr>\n",
       "  <th>percent_less_than_highschool</th> <td>    0.7728</td> <td>    0.009</td> <td>   88.297</td> <td> 0.000</td> <td>    0.756</td> <td>    0.790</td>\n",
       "</tr>\n",
       "<tr>\n",
       "  <th>Med_income</th>                   <td>    0.0008</td> <td> 1.21e-06</td> <td>  637.657</td> <td> 0.000</td> <td>    0.001</td> <td>    0.001</td>\n",
       "</tr>\n",
       "<tr>\n",
       "  <th>percent_poverty_1.5</th>          <td>    2.2752</td> <td>    0.012</td> <td>  192.790</td> <td> 0.000</td> <td>    2.252</td> <td>    2.298</td>\n",
       "</tr>\n",
       "</table>\n",
       "<table class=\"simpletable\">\n",
       "<tr>\n",
       "  <th>Omnibus:</th>       <td>17681.474</td> <th>  Durbin-Watson:     </th> <td>   1.251</td> \n",
       "</tr>\n",
       "<tr>\n",
       "  <th>Prob(Omnibus):</th>  <td> 0.000</td>   <th>  Jarque-Bera (JB):  </th> <td>70409.777</td>\n",
       "</tr>\n",
       "<tr>\n",
       "  <th>Skew:</th>           <td>-1.293</td>   <th>  Prob(JB):          </th> <td>    0.00</td> \n",
       "</tr>\n",
       "<tr>\n",
       "  <th>Kurtosis:</th>       <td> 7.364</td>   <th>  Cond. No.          </th> <td>1.45e+04</td> \n",
       "</tr>\n",
       "</table><br/><br/>Warnings:<br/>[1] Standard Errors assume that the covariance matrix of the errors is correctly specified.<br/>[2] The condition number is large, 1.45e+04. This might indicate that there are<br/>strong multicollinearity or other numerical problems."
      ],
      "text/plain": [
       "<class 'statsmodels.iolib.summary.Summary'>\n",
       "\"\"\"\n",
       "                                 OLS Regression Results                                \n",
       "=======================================================================================\n",
       "Dep. Variable:               LIFE_EXP   R-squared (uncentered):                   0.960\n",
       "Model:                            OLS   Adj. R-squared (uncentered):              0.960\n",
       "Method:                 Least Squares   F-statistic:                          3.918e+05\n",
       "Date:                Mon, 22 Jul 2019   Prob (F-statistic):                        0.00\n",
       "Time:                        22:28:58   Log-Likelihood:                     -2.7404e+05\n",
       "No. Observations:               65656   AIC:                                  5.481e+05\n",
       "Df Residuals:                   65652   BIC:                                  5.481e+05\n",
       "Df Model:                           4                                                  \n",
       "Covariance Type:            nonrobust                                                  \n",
       "================================================================================================\n",
       "                                   coef    std err          t      P>|t|      [0.025      0.975]\n",
       "------------------------------------------------------------------------------------------------\n",
       "percent_hispanic                -0.1806      0.004    -47.761      0.000      -0.188      -0.173\n",
       "percent_less_than_highschool     0.7728      0.009     88.297      0.000       0.756       0.790\n",
       "Med_income                       0.0008   1.21e-06    637.657      0.000       0.001       0.001\n",
       "percent_poverty_1.5              2.2752      0.012    192.790      0.000       2.252       2.298\n",
       "==============================================================================\n",
       "Omnibus:                    17681.474   Durbin-Watson:                   1.251\n",
       "Prob(Omnibus):                  0.000   Jarque-Bera (JB):            70409.777\n",
       "Skew:                          -1.293   Prob(JB):                         0.00\n",
       "Kurtosis:                       7.364   Cond. No.                     1.45e+04\n",
       "==============================================================================\n",
       "\n",
       "Warnings:\n",
       "[1] Standard Errors assume that the covariance matrix of the errors is correctly specified.\n",
       "[2] The condition number is large, 1.45e+04. This might indicate that there are\n",
       "strong multicollinearity or other numerical problems.\n",
       "\"\"\""
      ]
     },
     "execution_count": 88,
     "metadata": {},
     "output_type": "execute_result"
    }
   ],
   "source": [
    "result.summary()"
   ]
  },
  {
   "cell_type": "code",
   "execution_count": null,
   "metadata": {},
   "outputs": [],
   "source": [
    "# ## Results:\n",
    "# 1. For every unit increase in the hispanic population share, there is a -0.1806 of a year decrease in Life Expectancy.\n",
    "# 2. For every unit increase in the population that has a lower level of education, there is a 0.7728 of a year increase in Life Expectancy.\n",
    "# 3. For every unit increase in income, there is a 0.0008 of a year increase in Life Exp.\n",
    "# 4. For every unit increase in people in the poverty range 1-1.5, there is a 2.2752 of a year increase in Life Expectancy."
   ]
  }
 ],
 "metadata": {
  "kernelspec": {
   "display_name": "Python 3",
   "language": "python",
   "name": "python3"
  },
  "language_info": {
   "codemirror_mode": {
    "name": "ipython",
    "version": 3
   },
   "file_extension": ".py",
   "mimetype": "text/x-python",
   "name": "python",
   "nbconvert_exporter": "python",
   "pygments_lexer": "ipython3",
   "version": "3.7.3"
  }
 },
 "nbformat": 4,
 "nbformat_minor": 2
}
