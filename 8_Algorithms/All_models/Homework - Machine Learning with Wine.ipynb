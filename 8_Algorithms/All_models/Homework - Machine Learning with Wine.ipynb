{
 "cells": [
  {
   "cell_type": "markdown",
   "metadata": {},
   "source": [
    "# Machine learning on wine\n",
    "\n",
    "**Topics:** Text analysis, linear regression, logistic regression, text analysis, classification\n",
    "\n",
    "**Datasets**\n",
    "\n",
    "- **wine-reviews.csv** Wine reviews scraped from https://www.winemag.com/\n",
    "- **Data dictionary:** just go [here](https://www.winemag.com/buying-guide/tenuta-dellornellaia-2007-masseto-merlot-toscana/) and look at the page\n",
    "\n",
    "## The background\n",
    "\n",
    "You work in the **worst newsroom in the world**, and you've had a hard few weeks at work - a couple stories killed, a few scoops stolen out from under you. It's not going well.\n",
    "\n",
    "And because things just can't get any worse: your boss shows up, carrying a huge binder. She slams it down on your desk.\n",
    "\n",
    "\"You know some machine learning stuff, right?\"\n",
    "\n",
    "You say \"no,\" but she isn't listening. She's giving you an assignment, the _worst assignment_:\n",
    "\n",
    "> Machine learning is the new maps. Let's get some hits!\n",
    ">\n",
    "> **Do some machine learning on this stuff.**\n",
    "\n",
    "\"This stuff\" is wine reviews.\n",
    "\n",
    "## A tiny, meagre bit of help\n",
    "\n",
    "You have a dataset. It has some stuff in it:\n",
    "\n",
    "* **Numbers:**\n",
    "    - Year published\n",
    "    - Alcohol percentage\n",
    "    - Price\n",
    "    - Score\n",
    "    - Bottle size\n",
    "* **Categories:**\n",
    "    - Red vs white\n",
    "    - Different countries\n",
    "    - Importer\n",
    "    - Designation\n",
    "    - Taster\n",
    "    - Variety\n",
    "    - Winery\n",
    "* **Free text:**\n",
    "    - Wine description"
   ]
  },
  {
   "cell_type": "markdown",
   "metadata": {},
   "source": [
    "# Cleaning up your data\n",
    "\n",
    "Many of these pieces - the alcohol, the year produced, the bottle size, the country the wine is from - aren't in a format you can use. Convert the ones to numbers that are numbers, and extract the others from the appropriate strings."
   ]
  },
  {
   "cell_type": "code",
   "execution_count": 1,
   "metadata": {},
   "outputs": [],
   "source": [
    "#Imports\n",
    "import pandas as pd\n",
    "import numpy as np\n",
    "%matplotlib inline\n",
    "import matplotlib.pyplot as plt\n",
    "import seaborn as sns\n",
    "\n",
    "pd.set_option(\"display.max_columns\",100)"
   ]
  },
  {
   "cell_type": "code",
   "execution_count": 2,
   "metadata": {},
   "outputs": [],
   "source": [
    "# Reading in the file\n",
    "df=pd.read_csv(\"wine-reviews.csv\")"
   ]
  },
  {
   "cell_type": "code",
   "execution_count": 3,
   "metadata": {},
   "outputs": [],
   "source": [
    "# Extracting the year of the wine from wine name\n",
    "df[\"wine_name\"]=df[\"wine_name\"].str.strip(\".\")\n",
    "df[\"wine_year\"]= df[\"wine_name\"].str.extract(r\"(\\d\\d\\d\\d)\").astype(float)\n",
    "\n",
    "# Extracting price\n",
    "df[\"wine_price\"]=df[\"price\"].str.extract(r\"(\\d+)\").astype(float)\n",
    "\n",
    "# Converting alcohol pct to float\n",
    "df[\"alcohol\"]=df.alcohol.str.strip(\"%\").astype(float)\n",
    "\n",
    "# Converting bottle size to ml (some are in litres)\n",
    "df[\"bottle_size_measure\"]=df[\"bottle size\"].str.extract(r\"(\\D+$)\")\n",
    "df[\"bottle_size_measure\"]=df[\"bottle_size_measure\"].str.strip()\n",
    "df[\"bottle_size_measure\"]=df[\"bottle_size_measure\"].str.lower()\n",
    "df[\"bottle_size_ml\"]=df[\"bottle size\"].str.extract(r\"(\\d+)\")\n",
    "df.loc[df.bottle_size_measure==\"l\",\"bottle_size_ml\"]=df.bottle_size_ml*1000\n",
    "\n",
    "# Extracting score from the rating variable\n",
    "df[\"score\"]=df[\"user avg rating\"].str.extract(r\"(\\d+)\")\n",
    "\n",
    "# Extracting country\n",
    "df[\"country\"]=df[\"appellation\"].str.extract(\"(\\w+$)\")\n",
    "\n",
    "# Converting vartype for categorical variables\n",
    "\n",
    "# Variety\n",
    "df[\"variety\"]=df[\"variety\"].astype(\"category\")\n",
    "df[\"variety_code\"]=df[\"variety\"].cat.codes\n",
    "\n",
    "# Category\n",
    "df[\"category\"]=df[\"category\"].astype(\"category\")\n",
    "df[\"category_code\"]=df[\"category\"].cat.codes\n",
    "\n",
    "# Importer\n",
    "df[\"importer\"]=df[\"importer\"].astype(\"category\")\n",
    "df[\"importer_code\"]=df[\"importer\"].cat.codes\n",
    "\n",
    "# Published date\n",
    "df[\"date published\"]=pd.to_datetime(df[\"date published\"])\n",
    "\n",
    "# Extracting published year from date as instructed in the notebook\n",
    "df[\"year_published\"]=df[\"date published\"].dt.year\n",
    "\n",
    "# Winery\n",
    "df[\"winery\"]=df[\"winery\"].astype(\"category\")\n",
    "df[\"winery_code\"]=df[\"winery\"].cat.codes\n",
    "\n",
    "# Designation\n",
    "df[\"designation\"]=df[\"designation\"].astype(\"category\")\n",
    "df[\"designation_code\"]=df[\"designation\"].cat.codes\n",
    "\n",
    "# Renaming variables\n",
    "df=df.rename(columns={\n",
    "\"alcohol\":\"alcohol_percentage\"})"
   ]
  },
  {
   "cell_type": "code",
   "execution_count": 4,
   "metadata": {},
   "outputs": [],
   "source": [
    "# Dropping the columns I have replaced after cleaning above\n",
    "df=df.drop(columns=[\"price\",\"user avg rating\",\"bottle size\",\"bottle_size_measure\"])"
   ]
  },
  {
   "cell_type": "code",
   "execution_count": 5,
   "metadata": {
    "scrolled": false
   },
   "outputs": [],
   "source": [
    "# Manually cleaning some wine year values.\n",
    "# Going to avoid using year, as there are other errors. The numbers are not consistent, and therefore, this cannot be easily\n",
    "# extracted using regex. If I had the time, I would split by space, extract all the numbers separately and screen for the year.\n",
    "df.loc[18115, \"wine_year\"]=2014\n",
    "df.loc[10689,\"wine_year\"]=2011\n",
    "\n",
    "#Manually cleaning alcohol percentage\n",
    "df.loc[14638,\"alcohol_percentage\"]=np.nan"
   ]
  },
  {
   "cell_type": "markdown",
   "metadata": {},
   "source": [
    "## What might be interesting in this dataset?\n",
    "\n",
    "Maybe start out playing around _without_ machine learning. Here are some thoughts to get you started:\n",
    "\n",
    "* I've heard that since the 90's wine has gone through [Parkerization](https://www.estatewinebrokers.com/blog/the-parkerization-of-wine-in-the-1990s-and-beyond/), an increase in production of high-alcohol, fruity red wines thanks to the influence of wine critic Robert Parker.\n",
    "* Red and white wines taste different, obviously, but people always use [goofy words to describe them](https://winefolly.com/tutorial/40-wine-descriptions/)\n",
    "* Once upon a time in 1976 [California wines proved themselves against France](https://en.wikipedia.org/wiki/Judgment_of_Paris_(wine)) and France got very angry about it"
   ]
  },
  {
   "cell_type": "markdown",
   "metadata": {},
   "source": [
    "#### The rolling average of alcohol content shows that the alcohol percentage of wines has decreased since the 1900s to the 2000s."
   ]
  },
  {
   "cell_type": "code",
   "execution_count": 152,
   "metadata": {},
   "outputs": [
    {
     "name": "stderr",
     "output_type": "stream",
     "text": [
      "C:\\Users\\Anuja\\AppData\\Local\\Programs\\Python\\Python37-32\\lib\\site-packages\\ipykernel_launcher.py:3: SettingWithCopyWarning: \n",
      "A value is trying to be set on a copy of a slice from a DataFrame.\n",
      "Try using .loc[row_indexer,col_indexer] = value instead\n",
      "\n",
      "See the caveats in the documentation: http://pandas.pydata.org/pandas-docs/stable/indexing.html#indexing-view-versus-copy\n",
      "  This is separate from the ipykernel package so we can avoid doing imports until\n"
     ]
    },
    {
     "data": {
      "text/plain": [
       "<matplotlib.axes._subplots.AxesSubplot at 0x1cd17e70>"
      ]
     },
     "execution_count": 152,
     "metadata": {},
     "output_type": "execute_result"
    },
    {
     "data": {
      "image/png": "[encoded data removed]",
      "text/plain": [
       "<Figure size 432x288 with 1 Axes>"
      ]
     },
     "metadata": {
      "needs_background": "light"
     },
     "output_type": "display_data"
    }
   ],
   "source": [
    "# Finding the mean alcohol percentage by year\n",
    "averages=df[[\"wine_year\",\"alcohol_percentage\"]]\n",
    "averages[\"wine_year\"]=averages[\"wine_year\"].astype(str)\n",
    "averages=df.groupby(by=\"wine_year\").alcohol_percentage.mean()\n",
    "averages=averages.dropna()\n",
    "averages=pd.DataFrame(averages).reset_index()\n",
    "\n",
    "# Calculating the 10-year rolling average\n",
    "rolling=averages.rolling(10, on=\"wine_year\").alcohol_percentage.mean()\n",
    "rolling=pd.DataFrame(rolling).reset_index(drop=True)\n",
    "\n",
    "rolling=rolling.rename(columns={\n",
    "    \"alcohol_percentage\":\"rolling_avg\"\n",
    "})\n",
    "\n",
    "averages=rolling.join(averages)\n",
    "averages=averages.dropna()\n",
    "averages.plot(x=\"wine_year\", y=\"rolling_avg\", title=\"10-year rolling average of alcohol percentage (1950-2018)\")\n"
   ]
  },
  {
   "cell_type": "markdown",
   "metadata": {},
   "source": [
    "## But machine learning?\n",
    "\n",
    "Well, you can usually break machine learning down into a few different things. These aren't necessarily perfect ways of categorizing things, but eh, close enough.\n",
    "\n",
    "* **Predicting a number**\n",
    "    - Linear regression\n",
    "    - How does a change in unemployment translate into a change in life expectancy?\n",
    "* **Predicting a category** (aka classification)\n",
    "    - Lots of algos options: logistic regression, random forest, etc\n",
    "    - For example, predicting cuisines based on ingredients\n",
    "* **Seeing what influences a numeric outcome**\n",
    "    - Linear regression since the output is a number\n",
    "    - For example, minority and poverty status on test scores \n",
    "* **Seeing what influences a categorical outcome**\n",
    "    - Logistic regression since the output is a category\n",
    "    - Race and car speed for if you get a waring vs ticket\n",
    "    - Wet/dry pavement and car weight if you survive or not in a car crash)\n",
    "\n",
    "We have numbers, we have categories, we have all sorts of stuff. **What are some ways we can mash them together and use machine learning?**\n",
    "\n",
    "### Brainstorm some ideas\n",
    "\n",
    "Use the categories above to try to come up with some ideas. Be sure to scroll up where I break down categories vs numbers vs text!\n",
    "\n",
    "**I'll give you one idea for free:** if you don't have any ideas, start off by creating a classifier that determines whether a wine is white or red based on the wine's description."
   ]
  },
  {
   "cell_type": "markdown",
   "metadata": {},
   "source": [
    "#### ML exercise 1: Do wine points predict the price of wine?\n",
    "##### A multi-variate regression"
   ]
  },
  {
   "cell_type": "markdown",
   "metadata": {},
   "source": [
    "#### Specifications\n",
    "- Dependent variable: Price\n",
    "- Independent variables: Wine_points\n",
    "- Control variables: Bottle size , Variety, Winery, Category, Year  (proxy for age), Alcohol percentage\n",
    "\n"
   ]
  },
  {
   "cell_type": "code",
   "execution_count": 6,
   "metadata": {},
   "outputs": [
    {
     "data": {
      "text/plain": [
       "<matplotlib.axes._subplots.AxesSubplot at 0x15f61990>"
      ]
     },
     "execution_count": 6,
     "metadata": {},
     "output_type": "execute_result"
    },
    {
     "data": {
      "image/png": "[encoded data removed]",
      "text/plain": [
       "<Figure size 432x288 with 1 Axes>"
      ]
     },
     "metadata": {
      "needs_background": "light"
     },
     "output_type": "display_data"
    }
   ],
   "source": [
    "# First, exploring the variable distributions\n",
    "df.wine_price.hist()"
   ]
  },
  {
   "cell_type": "code",
   "execution_count": 7,
   "metadata": {},
   "outputs": [
    {
     "data": {
      "text/plain": [
       "<matplotlib.axes._subplots.AxesSubplot at 0x156581b0>"
      ]
     },
     "execution_count": 7,
     "metadata": {},
     "output_type": "execute_result"
    },
    {
     "data": {
      "image/png": "[encoded data removed]",
      "text/plain": [
       "<Figure size 432x288 with 1 Axes>"
      ]
     },
     "metadata": {
      "needs_background": "light"
     },
     "output_type": "display_data"
    }
   ],
   "source": [
    "df.wine_points.hist()"
   ]
  },
  {
   "cell_type": "code",
   "execution_count": 8,
   "metadata": {},
   "outputs": [],
   "source": [
    "# dropping the na values\n",
    "df2=df.dropna(subset=[\"wine_points\",\"wine_price\",\"variety_code\",\"category_code\",\"wine_year\",\"winery_code\",\"alcohol_percentage\"])"
   ]
  },
  {
   "cell_type": "code",
   "execution_count": 9,
   "metadata": {},
   "outputs": [
    {
     "data": {
      "text/plain": [
       "<matplotlib.axes._subplots.AxesSubplot at 0x6be1ed0>"
      ]
     },
     "execution_count": 9,
     "metadata": {},
     "output_type": "execute_result"
    },
    {
     "data": {
      "image/png": "[encoded data removed]",
      "text/plain": [
       "<Figure size 432x288 with 1 Axes>"
      ]
     },
     "metadata": {
      "needs_background": "light"
     },
     "output_type": "display_data"
    }
   ],
   "source": [
    "# Plotting a scatter plot of the dependent and independent variables\n",
    "\n",
    "# Controlling, below should help reduce the noise\n",
    "\n",
    "sns.regplot(data=df2,x=\"wine_points\",y=\"wine_price\")"
   ]
  },
  {
   "cell_type": "code",
   "execution_count": 10,
   "metadata": {},
   "outputs": [
    {
     "name": "stderr",
     "output_type": "stream",
     "text": [
      "C:\\Users\\Anuja\\AppData\\Local\\Programs\\Python\\Python37-32\\lib\\site-packages\\numpy\\core\\fromnumeric.py:2389: FutureWarning: Method .ptp is deprecated and will be removed in a future version. Use numpy.ptp instead.\n",
      "  return ptp(axis=axis, out=out, **kwargs)\n"
     ]
    }
   ],
   "source": [
    "import statsmodels.api as sm\n",
    "from statsmodels.sandbox.regression.predstd import wls_prediction_std\n",
    "\n",
    "## Creating the X and y variables\n",
    "X=df2[[\"wine_points\",\"variety_code\",\"category_code\",\"wine_year\",\"winery_code\",\"alcohol_percentage\"]]\n",
    "X=sm.add_constant(X)\n",
    "y=df2[\"wine_price\"]"
   ]
  },
  {
   "cell_type": "code",
   "execution_count": 11,
   "metadata": {},
   "outputs": [
    {
     "data": {
      "text/html": [
       "<table class=\"simpletable\">\n",
       "<caption>OLS Regression Results</caption>\n",
       "<tr>\n",
       "  <th>Dep. Variable:</th>       <td>wine_price</td>    <th>  R-squared:         </th> <td>   0.226</td> \n",
       "</tr>\n",
       "<tr>\n",
       "  <th>Model:</th>                   <td>OLS</td>       <th>  Adj. R-squared:    </th> <td>   0.225</td> \n",
       "</tr>\n",
       "<tr>\n",
       "  <th>Method:</th>             <td>Least Squares</td>  <th>  F-statistic:       </th> <td>   792.1</td> \n",
       "</tr>\n",
       "<tr>\n",
       "  <th>Date:</th>             <td>Wed, 07 Aug 2019</td> <th>  Prob (F-statistic):</th>  <td>  0.00</td>  \n",
       "</tr>\n",
       "<tr>\n",
       "  <th>Time:</th>                 <td>16:55:32</td>     <th>  Log-Likelihood:    </th> <td> -84175.</td> \n",
       "</tr>\n",
       "<tr>\n",
       "  <th>No. Observations:</th>      <td> 16328</td>      <th>  AIC:               </th> <td>1.684e+05</td>\n",
       "</tr>\n",
       "<tr>\n",
       "  <th>Df Residuals:</th>          <td> 16321</td>      <th>  BIC:               </th> <td>1.684e+05</td>\n",
       "</tr>\n",
       "<tr>\n",
       "  <th>Df Model:</th>              <td>     6</td>      <th>                     </th>     <td> </td>    \n",
       "</tr>\n",
       "<tr>\n",
       "  <th>Covariance Type:</th>      <td>nonrobust</td>    <th>                     </th>     <td> </td>    \n",
       "</tr>\n",
       "</table>\n",
       "<table class=\"simpletable\">\n",
       "<tr>\n",
       "           <td></td>             <th>coef</th>     <th>std err</th>      <th>t</th>      <th>P>|t|</th>  <th>[0.025</th>    <th>0.975]</th>  \n",
       "</tr>\n",
       "<tr>\n",
       "  <th>const</th>              <td>  900.7796</td> <td>  104.353</td> <td>    8.632</td> <td> 0.000</td> <td>  696.236</td> <td> 1105.323</td>\n",
       "</tr>\n",
       "<tr>\n",
       "  <th>wine_points</th>        <td>    5.6281</td> <td>    0.088</td> <td>   63.818</td> <td> 0.000</td> <td>    5.455</td> <td>    5.801</td>\n",
       "</tr>\n",
       "<tr>\n",
       "  <th>variety_code</th>       <td>   -0.0324</td> <td>    0.003</td> <td>  -11.213</td> <td> 0.000</td> <td>   -0.038</td> <td>   -0.027</td>\n",
       "</tr>\n",
       "<tr>\n",
       "  <th>category_code</th>      <td>   -2.4614</td> <td>    0.235</td> <td>  -10.487</td> <td> 0.000</td> <td>   -2.921</td> <td>   -2.001</td>\n",
       "</tr>\n",
       "<tr>\n",
       "  <th>wine_year</th>          <td>   -0.6725</td> <td>    0.052</td> <td>  -12.833</td> <td> 0.000</td> <td>   -0.775</td> <td>   -0.570</td>\n",
       "</tr>\n",
       "<tr>\n",
       "  <th>winery_code</th>        <td>    0.0002</td> <td>    0.000</td> <td>    1.020</td> <td> 0.308</td> <td>   -0.000</td> <td>    0.000</td>\n",
       "</tr>\n",
       "<tr>\n",
       "  <th>alcohol_percentage</th> <td>    0.4584</td> <td>    0.208</td> <td>    2.199</td> <td> 0.028</td> <td>    0.050</td> <td>    0.867</td>\n",
       "</tr>\n",
       "</table>\n",
       "<table class=\"simpletable\">\n",
       "<tr>\n",
       "  <th>Omnibus:</th>       <td>34127.379</td> <th>  Durbin-Watson:     </th>   <td>   1.743</td>   \n",
       "</tr>\n",
       "<tr>\n",
       "  <th>Prob(Omnibus):</th>  <td> 0.000</td>   <th>  Jarque-Bera (JB):  </th> <td>332157318.765</td>\n",
       "</tr>\n",
       "<tr>\n",
       "  <th>Skew:</th>           <td>17.570</td>   <th>  Prob(JB):          </th>   <td>    0.00</td>   \n",
       "</tr>\n",
       "<tr>\n",
       "  <th>Kurtosis:</th>       <td>700.848</td>  <th>  Cond. No.          </th>   <td>1.56e+06</td>   \n",
       "</tr>\n",
       "</table><br/><br/>Warnings:<br/>[1] Standard Errors assume that the covariance matrix of the errors is correctly specified.<br/>[2] The condition number is large, 1.56e+06. This might indicate that there are<br/>strong multicollinearity or other numerical problems."
      ],
      "text/plain": [
       "<class 'statsmodels.iolib.summary.Summary'>\n",
       "\"\"\"\n",
       "                            OLS Regression Results                            \n",
       "==============================================================================\n",
       "Dep. Variable:             wine_price   R-squared:                       0.226\n",
       "Model:                            OLS   Adj. R-squared:                  0.225\n",
       "Method:                 Least Squares   F-statistic:                     792.1\n",
       "Date:                Wed, 07 Aug 2019   Prob (F-statistic):               0.00\n",
       "Time:                        16:55:32   Log-Likelihood:                -84175.\n",
       "No. Observations:               16328   AIC:                         1.684e+05\n",
       "Df Residuals:                   16321   BIC:                         1.684e+05\n",
       "Df Model:                           6                                         \n",
       "Covariance Type:            nonrobust                                         \n",
       "======================================================================================\n",
       "                         coef    std err          t      P>|t|      [0.025      0.975]\n",
       "--------------------------------------------------------------------------------------\n",
       "const                900.7796    104.353      8.632      0.000     696.236    1105.323\n",
       "wine_points            5.6281      0.088     63.818      0.000       5.455       5.801\n",
       "variety_code          -0.0324      0.003    -11.213      0.000      -0.038      -0.027\n",
       "category_code         -2.4614      0.235    -10.487      0.000      -2.921      -2.001\n",
       "wine_year             -0.6725      0.052    -12.833      0.000      -0.775      -0.570\n",
       "winery_code            0.0002      0.000      1.020      0.308      -0.000       0.000\n",
       "alcohol_percentage     0.4584      0.208      2.199      0.028       0.050       0.867\n",
       "==============================================================================\n",
       "Omnibus:                    34127.379   Durbin-Watson:                   1.743\n",
       "Prob(Omnibus):                  0.000   Jarque-Bera (JB):        332157318.765\n",
       "Skew:                          17.570   Prob(JB):                         0.00\n",
       "Kurtosis:                     700.848   Cond. No.                     1.56e+06\n",
       "==============================================================================\n",
       "\n",
       "Warnings:\n",
       "[1] Standard Errors assume that the covariance matrix of the errors is correctly specified.\n",
       "[2] The condition number is large, 1.56e+06. This might indicate that there are\n",
       "strong multicollinearity or other numerical problems.\n",
       "\"\"\""
      ]
     },
     "execution_count": 11,
     "metadata": {},
     "output_type": "execute_result"
    }
   ],
   "source": [
    "model=sm.OLS(y,X)\n",
    "results=model.fit()\n",
    "results.summary()"
   ]
  },
  {
   "cell_type": "markdown",
   "metadata": {},
   "source": [
    "#### Results:\n",
    "- The equation is y=5.6281x+900.7796.\n",
    "- The slope/co-efficient is 5.6281, which means that for every point, the price of wine increases by ~ USD 6. \n",
    "- The relationship between wine's rating and its price is positive and significant at the 5% level of significance.\n",
    "- The intercept is USD 900.7796, which means that the base price of wine, when the score is 0 is ~ USD 901."
   ]
  },
  {
   "cell_type": "markdown",
   "metadata": {},
   "source": [
    "#### Assessing the goodness of fit:\n",
    "- The R^2 is 0.226 or 22.6%, which means that 22.6% of the variation in y can be attributed to x. This is pretty low which means\n",
    "that we can do better in designing our model.\n",
    "- Pearson's correlation co-efficient is 0.475.\n",
    "- The root mean square error is 41.95 which means that on average, a predicted y-value is 41.95 units away from its actual value."
   ]
  },
  {
   "cell_type": "code",
   "execution_count": 12,
   "metadata": {},
   "outputs": [
    {
     "data": {
      "text/plain": [
       "0.4753945729601885"
      ]
     },
     "execution_count": 12,
     "metadata": {},
     "output_type": "execute_result"
    }
   ],
   "source": [
    "pearson=np.sqrt(0.226)\n",
    "pearson"
   ]
  },
  {
   "cell_type": "code",
   "execution_count": 13,
   "metadata": {},
   "outputs": [],
   "source": [
    "predicted_y=results.predict()\n",
    "residuals=results.resid\n",
    "\n",
    "results_df=pd.DataFrame({\n",
    "    \"y_actual\":y,\n",
    "    \"y_predicted\":predicted_y,\n",
    "    \"residual\":residuals\n",
    "})\n"
   ]
  },
  {
   "cell_type": "code",
   "execution_count": 14,
   "metadata": {},
   "outputs": [
    {
     "data": {
      "text/plain": [
       "41.953441328039524"
      ]
     },
     "execution_count": 14,
     "metadata": {},
     "output_type": "execute_result"
    }
   ],
   "source": [
    "rmse=np.sqrt(results.mse_resid)\n",
    "rmse"
   ]
  },
  {
   "cell_type": "markdown",
   "metadata": {},
   "source": [
    "#### ML exercise 2: What predicts if a wine will be rated as a Classic?\n",
    "\n",
    "#### Wine points scale:\n",
    "- 95-100 Classic: a great wine\n",
    "- 90-94 Outstanding: a wine of superior character and style\n",
    "- 85-89 Very good: a wine with special qualities\n",
    "- 80-84 Good: a solid, well-made wine\n",
    "- 75-79 Mediocre: a drinkable wine that may have minor flaws\n",
    "- 50-74 Not recommended"
   ]
  },
  {
   "cell_type": "code",
   "execution_count": 15,
   "metadata": {},
   "outputs": [],
   "source": [
    "# Creating a label variable which will show if the wine has been rated as a classic (1) or not (0)\n",
    "df[\"label\"]=0\n",
    "df.loc[df[\"wine_points\"]>94, \"label\"]=1"
   ]
  },
  {
   "cell_type": "code",
   "execution_count": 16,
   "metadata": {},
   "outputs": [
    {
     "data": {
      "text/plain": [
       "0    0.949802\n",
       "1    0.050198\n",
       "Name: label, dtype: float64"
      ]
     },
     "execution_count": 16,
     "metadata": {},
     "output_type": "execute_result"
    }
   ],
   "source": [
    "# The distribution of classic vs non-classic wines in my dataset is not great,but I go ahead with it as classic wines, I suspect\n",
    "## are rare\n",
    "df.label.value_counts(normalize=True)"
   ]
  },
  {
   "cell_type": "code",
   "execution_count": 17,
   "metadata": {},
   "outputs": [],
   "source": [
    "# Preparing my dataset for logistic regression\n",
    "\n",
    "# Tasters: As tasters assign wine points, I am interested in finding out if they predict the points that a wine gets.\n",
    "## Instead of using their names (as there are so many), I bucket them based on the number of wines they have rated. This stands\n",
    "## as a proxy for experience. \n",
    "\n",
    "rates=pd.DataFrame(df.taster.value_counts()).reset_index()\n",
    "\n",
    "rates=rates.rename(columns={\n",
    "    \"index\":\"name\",\n",
    "    \"taster\":\"number\"\n",
    "})\n",
    "\n",
    "rates.loc[rates[\"number\"]>1000, \"experience\"]=\"high\"\n",
    "rates.loc[rates[\"number\"]<200, \"experience\"]=\"low\"\n",
    "rates.loc[(rates[\"number\"]<1000) & (rates[\"number\"]>200), \"experience\"]=\"medium\"\n",
    "\n",
    "rates=rates[[\"name\",\"experience\"]]\n",
    "\n",
    "df=df.merge(rates, left_on=\"taster\", right_on=\"name\", how=\"outer\")\n"
   ]
  },
  {
   "cell_type": "code",
   "execution_count": 18,
   "metadata": {},
   "outputs": [],
   "source": [
    "# Reducing the number of categories under category by coding wines other than red, white and sparkling as other\n",
    "df.category=df.category.replace({\n",
    "    \"Rose\": \"Other\", \n",
    "    \"Dessert\": \"Other\",\n",
    "    \"Port/Sherry\": \"Other\", \n",
    "    \"Fortified\":\"Other\",\n",
    "    \"Sparking\":\"Other\"\n",
    "})"
   ]
  },
  {
   "cell_type": "code",
   "execution_count": 19,
   "metadata": {},
   "outputs": [],
   "source": [
    "# Dropping nans:\n",
    "reg_df=df[[\"category\", \"alcohol_percentage\",\"wine_year\",\"experience\",\"label\",\"variety_code\",\"winery_code\"]]\n",
    "reg_df=reg_df.dropna()\n"
   ]
  },
  {
   "cell_type": "code",
   "execution_count": 20,
   "metadata": {},
   "outputs": [],
   "source": [
    "# Hot-encoding and dropping reference variables (\"Other\" for category and \"high\" for experience)\n",
    "reg_df=pd.get_dummies(data=reg_df, columns=[\"category\",\"experience\"]).drop(columns=[\"category_Other\",\"experience_low\"])"
   ]
  },
  {
   "cell_type": "code",
   "execution_count": 21,
   "metadata": {},
   "outputs": [
    {
     "data": {
      "text/html": [
       "<div>\n",
       "<style scoped>\n",
       "    .dataframe tbody tr th:only-of-type {\n",
       "        vertical-align: middle;\n",
       "    }\n",
       "\n",
       "    .dataframe tbody tr th {\n",
       "        vertical-align: top;\n",
       "    }\n",
       "\n",
       "    .dataframe thead th {\n",
       "        text-align: right;\n",
       "    }\n",
       "</style>\n",
       "<table border=\"1\" class=\"dataframe\">\n",
       "  <thead>\n",
       "    <tr style=\"text-align: right;\">\n",
       "      <th></th>\n",
       "      <th>alcohol_percentage</th>\n",
       "      <th>wine_year</th>\n",
       "      <th>label</th>\n",
       "      <th>variety_code</th>\n",
       "      <th>winery_code</th>\n",
       "      <th>category_Red</th>\n",
       "      <th>category_Sparkling</th>\n",
       "      <th>category_White</th>\n",
       "      <th>experience_high</th>\n",
       "      <th>experience_medium</th>\n",
       "    </tr>\n",
       "  </thead>\n",
       "  <tbody>\n",
       "    <tr>\n",
       "      <th>19684</th>\n",
       "      <td>14.5</td>\n",
       "      <td>2012.0</td>\n",
       "      <td>0</td>\n",
       "      <td>41</td>\n",
       "      <td>5</td>\n",
       "      <td>1</td>\n",
       "      <td>0</td>\n",
       "      <td>0</td>\n",
       "      <td>0</td>\n",
       "      <td>1</td>\n",
       "    </tr>\n",
       "  </tbody>\n",
       "</table>\n",
       "</div>"
      ],
      "text/plain": [
       "       alcohol_percentage  wine_year  label  variety_code  winery_code  \\\n",
       "19684                14.5     2012.0      0            41            5   \n",
       "\n",
       "       category_Red  category_Sparkling  category_White  experience_high  \\\n",
       "19684             1                   0               0                0   \n",
       "\n",
       "       experience_medium  \n",
       "19684                  1  "
      ]
     },
     "execution_count": 21,
     "metadata": {},
     "output_type": "execute_result"
    }
   ],
   "source": [
    "reg_df.sample()"
   ]
  },
  {
   "cell_type": "code",
   "execution_count": 22,
   "metadata": {},
   "outputs": [],
   "source": [
    "# Creating the X and y variables\n",
    "X=reg_df[[\"alcohol_percentage\",\"wine_year\",\"category_Red\",\"category_White\",\"experience_high\",\"experience_medium\",\"variety_code\",\"winery_code\"]]"
   ]
  },
  {
   "cell_type": "code",
   "execution_count": 23,
   "metadata": {},
   "outputs": [],
   "source": [
    "y=reg_df[\"label\"]"
   ]
  },
  {
   "cell_type": "code",
   "execution_count": 24,
   "metadata": {},
   "outputs": [],
   "source": [
    "# splitting the dataset into test and train\n",
    "from sklearn.model_selection import train_test_split\n",
    "X_train, X_test, y_train, y_test=train_test_split(X,y,random_state=42)"
   ]
  },
  {
   "cell_type": "code",
   "execution_count": 25,
   "metadata": {},
   "outputs": [
    {
     "data": {
      "text/plain": [
       "(9292, 8)"
      ]
     },
     "execution_count": 25,
     "metadata": {},
     "output_type": "execute_result"
    }
   ],
   "source": [
    "X_train.shape"
   ]
  },
  {
   "cell_type": "code",
   "execution_count": 26,
   "metadata": {},
   "outputs": [
    {
     "data": {
      "text/plain": [
       "(9292,)"
      ]
     },
     "execution_count": 26,
     "metadata": {},
     "output_type": "execute_result"
    }
   ],
   "source": [
    "y_train.shape"
   ]
  },
  {
   "cell_type": "code",
   "execution_count": 27,
   "metadata": {},
   "outputs": [
    {
     "data": {
      "text/plain": [
       "(3098, 8)"
      ]
     },
     "execution_count": 27,
     "metadata": {},
     "output_type": "execute_result"
    }
   ],
   "source": [
    "X_test.shape"
   ]
  },
  {
   "cell_type": "code",
   "execution_count": 28,
   "metadata": {},
   "outputs": [
    {
     "data": {
      "text/plain": [
       "(3098,)"
      ]
     },
     "execution_count": 28,
     "metadata": {},
     "output_type": "execute_result"
    }
   ],
   "source": [
    "y_test.shape"
   ]
  },
  {
   "cell_type": "code",
   "execution_count": 29,
   "metadata": {},
   "outputs": [
    {
     "data": {
      "text/plain": [
       "0    8905\n",
       "1     387\n",
       "Name: label, dtype: int64"
      ]
     },
     "execution_count": 29,
     "metadata": {},
     "output_type": "execute_result"
    }
   ],
   "source": [
    "# Checking the distribution of the label in the train and test datasets\n",
    "y_train.value_counts()"
   ]
  },
  {
   "cell_type": "code",
   "execution_count": 30,
   "metadata": {},
   "outputs": [
    {
     "data": {
      "text/plain": [
       "0    2974\n",
       "1     124\n",
       "Name: label, dtype: int64"
      ]
     },
     "execution_count": 30,
     "metadata": {},
     "output_type": "execute_result"
    }
   ],
   "source": [
    "y_test.value_counts()"
   ]
  },
  {
   "cell_type": "code",
   "execution_count": 31,
   "metadata": {},
   "outputs": [],
   "source": [
    "#Fitting in the logistic regression model into the training dataset\n",
    "from sklearn.linear_model.logistic import LogisticRegression\n",
    "model=LogisticRegression(C=1e9, solver=\"lbfgs\",max_iter=4000)\n",
    "results=model.fit(X_train, y_train)"
   ]
  },
  {
   "cell_type": "code",
   "execution_count": 32,
   "metadata": {},
   "outputs": [
    {
     "data": {
      "text/html": [
       "<div>\n",
       "<style scoped>\n",
       "    .dataframe tbody tr th:only-of-type {\n",
       "        vertical-align: middle;\n",
       "    }\n",
       "\n",
       "    .dataframe tbody tr th {\n",
       "        vertical-align: top;\n",
       "    }\n",
       "\n",
       "    .dataframe thead th {\n",
       "        text-align: right;\n",
       "    }\n",
       "</style>\n",
       "<table border=\"1\" class=\"dataframe\">\n",
       "  <thead>\n",
       "    <tr style=\"text-align: right;\">\n",
       "      <th></th>\n",
       "      <th>Feature</th>\n",
       "      <th>Log Co-efficient</th>\n",
       "      <th>Odds-ratio</th>\n",
       "    </tr>\n",
       "  </thead>\n",
       "  <tbody>\n",
       "    <tr>\n",
       "      <th>5</th>\n",
       "      <td>experience_medium</td>\n",
       "      <td>0.172526</td>\n",
       "      <td>1.188303</td>\n",
       "    </tr>\n",
       "    <tr>\n",
       "      <th>0</th>\n",
       "      <td>alcohol_percentage</td>\n",
       "      <td>0.037621</td>\n",
       "      <td>1.038337</td>\n",
       "    </tr>\n",
       "    <tr>\n",
       "      <th>7</th>\n",
       "      <td>winery_code</td>\n",
       "      <td>0.000020</td>\n",
       "      <td>1.000020</td>\n",
       "    </tr>\n",
       "    <tr>\n",
       "      <th>1</th>\n",
       "      <td>wine_year</td>\n",
       "      <td>-0.001178</td>\n",
       "      <td>0.998822</td>\n",
       "    </tr>\n",
       "    <tr>\n",
       "      <th>6</th>\n",
       "      <td>variety_code</td>\n",
       "      <td>-0.001179</td>\n",
       "      <td>0.998822</td>\n",
       "    </tr>\n",
       "    <tr>\n",
       "      <th>4</th>\n",
       "      <td>experience_high</td>\n",
       "      <td>-0.044614</td>\n",
       "      <td>0.956367</td>\n",
       "    </tr>\n",
       "    <tr>\n",
       "      <th>2</th>\n",
       "      <td>category_Red</td>\n",
       "      <td>-1.316254</td>\n",
       "      <td>0.268138</td>\n",
       "    </tr>\n",
       "    <tr>\n",
       "      <th>3</th>\n",
       "      <td>category_White</td>\n",
       "      <td>-1.450068</td>\n",
       "      <td>0.234554</td>\n",
       "    </tr>\n",
       "  </tbody>\n",
       "</table>\n",
       "</div>"
      ],
      "text/plain": [
       "              Feature  Log Co-efficient  Odds-ratio\n",
       "5   experience_medium          0.172526    1.188303\n",
       "0  alcohol_percentage          0.037621    1.038337\n",
       "7         winery_code          0.000020    1.000020\n",
       "1           wine_year         -0.001178    0.998822\n",
       "6        variety_code         -0.001179    0.998822\n",
       "4     experience_high         -0.044614    0.956367\n",
       "2        category_Red         -1.316254    0.268138\n",
       "3      category_White         -1.450068    0.234554"
      ]
     },
     "execution_count": 32,
     "metadata": {},
     "output_type": "execute_result"
    }
   ],
   "source": [
    "pd.DataFrame({\n",
    "    \"Feature\":X_train.columns,\n",
    "    \"Log Co-efficient\":results.coef_[0],\n",
    "    \"Odds-ratio\":np.exp(results.coef_[0])\n",
    "}).sort_values(by=\"Log Co-efficient\", ascending=False)"
   ]
  },
  {
   "cell_type": "code",
   "execution_count": 33,
   "metadata": {},
   "outputs": [],
   "source": [
    "# Applying the model to the test dataset\n",
    "predictions=model.predict(X_test)\n",
    "probabilities=model.predict_proba(X_test)"
   ]
  },
  {
   "cell_type": "code",
   "execution_count": 34,
   "metadata": {},
   "outputs": [
    {
     "data": {
      "text/html": [
       "<div>\n",
       "<style scoped>\n",
       "    .dataframe tbody tr th:only-of-type {\n",
       "        vertical-align: middle;\n",
       "    }\n",
       "\n",
       "    .dataframe tbody tr th {\n",
       "        vertical-align: top;\n",
       "    }\n",
       "\n",
       "    .dataframe thead th {\n",
       "        text-align: right;\n",
       "    }\n",
       "</style>\n",
       "<table border=\"1\" class=\"dataframe\">\n",
       "  <thead>\n",
       "    <tr style=\"text-align: right;\">\n",
       "      <th></th>\n",
       "      <th>Predicted_0</th>\n",
       "      <th>Predicted_1</th>\n",
       "    </tr>\n",
       "  </thead>\n",
       "  <tbody>\n",
       "    <tr>\n",
       "      <th>Actual_0</th>\n",
       "      <td>2974</td>\n",
       "      <td>0</td>\n",
       "    </tr>\n",
       "    <tr>\n",
       "      <th>Actual_1</th>\n",
       "      <td>124</td>\n",
       "      <td>0</td>\n",
       "    </tr>\n",
       "  </tbody>\n",
       "</table>\n",
       "</div>"
      ],
      "text/plain": [
       "          Predicted_0  Predicted_1\n",
       "Actual_0         2974            0\n",
       "Actual_1          124            0"
      ]
     },
     "execution_count": 34,
     "metadata": {},
     "output_type": "execute_result"
    }
   ],
   "source": [
    "# Checking the model's performance\n",
    "from sklearn.metrics import confusion_matrix\n",
    "matrix=confusion_matrix(y_test, predictions)\n",
    "\n",
    "matrix=pd.DataFrame(matrix, index=[\"Actual_0\",\"Actual_1\"], columns=[\"Predicted_0\", \"Predicted_1\"])\n",
    "matrix"
   ]
  },
  {
   "cell_type": "code",
   "execution_count": 35,
   "metadata": {},
   "outputs": [
    {
     "name": "stdout",
     "output_type": "stream",
     "text": [
      "The accuracy percentage is 96.00%\n"
     ]
    }
   ],
   "source": [
    "# Accuracy\n",
    "print(f\"The accuracy percentage is {(2974)/(2974+124)*100:.2f}%\")"
   ]
  },
  {
   "cell_type": "markdown",
   "metadata": {},
   "source": [
    "#### Results:\n",
    "- The distribution of Classic vs. non-Classic wines was skewed towards non-classic wines in the dataset, which seems to be why the model is unable to predict classic  wines in the test dataset, while it predicts 100% of the non-Classic wines correctly.\n",
    "- Sensitivity/Recall is 0% and Specificity is 100%.\n",
    "- Winery and variety codes should ideally be narrowed down and coded as hot-encoded, but in this case, I retain them as numeric values as there are too many in number.\n",
    "- The model shows that (A) taster experience changes the odds of a wine's score. Tasters with the most experience are less likely to provide a high score (i.e., for every additional wine tasted by a taster, there is a ~4 point decrease in the outcome variable as compared to a taster with low experience. In other words, a taster with low experience is more likely to provide wine points that a taster with high experience. Tasters with medium experience however, provide 18% more points that tasters with low experience. (B) Other wines (Sparkling, Rose,etc) are more likely to be provided higher points than Red and White wines."
   ]
  },
  {
   "cell_type": "markdown",
   "metadata": {},
   "source": [
    "#### Trying the same with a decision tree"
   ]
  },
  {
   "cell_type": "code",
   "execution_count": 36,
   "metadata": {},
   "outputs": [],
   "source": [
    "from sklearn.tree import DecisionTreeClassifier"
   ]
  },
  {
   "cell_type": "code",
   "execution_count": 37,
   "metadata": {},
   "outputs": [],
   "source": [
    "model=DecisionTreeClassifier(max_depth=4)"
   ]
  },
  {
   "cell_type": "code",
   "execution_count": 38,
   "metadata": {},
   "outputs": [],
   "source": [
    "results=model.fit(X_train, y_train)"
   ]
  },
  {
   "cell_type": "code",
   "execution_count": 39,
   "metadata": {},
   "outputs": [],
   "source": [
    "predictions=results.predict(X_test)\n",
    "probabilities=results.predict_proba(X_test)"
   ]
  },
  {
   "cell_type": "code",
   "execution_count": 40,
   "metadata": {},
   "outputs": [],
   "source": [
    "from sklearn.metrics import confusion_matrix\n",
    "matrix=confusion_matrix(y_test, predictions)"
   ]
  },
  {
   "cell_type": "code",
   "execution_count": 41,
   "metadata": {},
   "outputs": [
    {
     "data": {
      "text/html": [
       "<div>\n",
       "<style scoped>\n",
       "    .dataframe tbody tr th:only-of-type {\n",
       "        vertical-align: middle;\n",
       "    }\n",
       "\n",
       "    .dataframe tbody tr th {\n",
       "        vertical-align: top;\n",
       "    }\n",
       "\n",
       "    .dataframe thead th {\n",
       "        text-align: right;\n",
       "    }\n",
       "</style>\n",
       "<table border=\"1\" class=\"dataframe\">\n",
       "  <thead>\n",
       "    <tr style=\"text-align: right;\">\n",
       "      <th></th>\n",
       "      <th>Predicted_0</th>\n",
       "      <th>Predicted_1</th>\n",
       "    </tr>\n",
       "  </thead>\n",
       "  <tbody>\n",
       "    <tr>\n",
       "      <th>Actual_0</th>\n",
       "      <td>2969</td>\n",
       "      <td>5</td>\n",
       "    </tr>\n",
       "    <tr>\n",
       "      <th>Actual_1</th>\n",
       "      <td>117</td>\n",
       "      <td>7</td>\n",
       "    </tr>\n",
       "  </tbody>\n",
       "</table>\n",
       "</div>"
      ],
      "text/plain": [
       "          Predicted_0  Predicted_1\n",
       "Actual_0         2969            5\n",
       "Actual_1          117            7"
      ]
     },
     "execution_count": 41,
     "metadata": {},
     "output_type": "execute_result"
    }
   ],
   "source": [
    "pd.DataFrame(matrix, index=[\"Actual_0\",\"Actual_1\"], columns=[\"Predicted_0\",\"Predicted_1\"])"
   ]
  },
  {
   "cell_type": "code",
   "execution_count": 42,
   "metadata": {},
   "outputs": [
    {
     "name": "stdout",
     "output_type": "stream",
     "text": [
      "The accuracy percentage is 96.06%\n"
     ]
    }
   ],
   "source": [
    "# Accuracy\n",
    "print(f\"The accuracy percentage is {(2969+7)/(2969+5+117+7)*100:.2f}%\")"
   ]
  },
  {
   "cell_type": "code",
   "execution_count": 43,
   "metadata": {},
   "outputs": [
    {
     "data": {
      "text/html": [
       "<div>\n",
       "<style scoped>\n",
       "    .dataframe tbody tr th:only-of-type {\n",
       "        vertical-align: middle;\n",
       "    }\n",
       "\n",
       "    .dataframe tbody tr th {\n",
       "        vertical-align: top;\n",
       "    }\n",
       "\n",
       "    .dataframe thead th {\n",
       "        text-align: right;\n",
       "    }\n",
       "</style>\n",
       "<table border=\"1\" class=\"dataframe\">\n",
       "  <thead>\n",
       "    <tr style=\"text-align: right;\">\n",
       "      <th></th>\n",
       "      <th>feature</th>\n",
       "      <th>pct_contribution</th>\n",
       "    </tr>\n",
       "  </thead>\n",
       "  <tbody>\n",
       "    <tr>\n",
       "      <th>1</th>\n",
       "      <td>wine_year</td>\n",
       "      <td>0.394267</td>\n",
       "    </tr>\n",
       "    <tr>\n",
       "      <th>0</th>\n",
       "      <td>alcohol_percentage</td>\n",
       "      <td>0.360377</td>\n",
       "    </tr>\n",
       "    <tr>\n",
       "      <th>3</th>\n",
       "      <td>category_White</td>\n",
       "      <td>0.156515</td>\n",
       "    </tr>\n",
       "    <tr>\n",
       "      <th>6</th>\n",
       "      <td>variety_code</td>\n",
       "      <td>0.041821</td>\n",
       "    </tr>\n",
       "    <tr>\n",
       "      <th>7</th>\n",
       "      <td>winery_code</td>\n",
       "      <td>0.024740</td>\n",
       "    </tr>\n",
       "    <tr>\n",
       "      <th>4</th>\n",
       "      <td>experience_high</td>\n",
       "      <td>0.022279</td>\n",
       "    </tr>\n",
       "    <tr>\n",
       "      <th>2</th>\n",
       "      <td>category_Red</td>\n",
       "      <td>0.000000</td>\n",
       "    </tr>\n",
       "    <tr>\n",
       "      <th>5</th>\n",
       "      <td>experience_medium</td>\n",
       "      <td>0.000000</td>\n",
       "    </tr>\n",
       "  </tbody>\n",
       "</table>\n",
       "</div>"
      ],
      "text/plain": [
       "              feature  pct_contribution\n",
       "1           wine_year          0.394267\n",
       "0  alcohol_percentage          0.360377\n",
       "3      category_White          0.156515\n",
       "6        variety_code          0.041821\n",
       "7         winery_code          0.024740\n",
       "4     experience_high          0.022279\n",
       "2        category_Red          0.000000\n",
       "5   experience_medium          0.000000"
      ]
     },
     "execution_count": 43,
     "metadata": {},
     "output_type": "execute_result"
    }
   ],
   "source": [
    "pd.DataFrame({\n",
    "    \"feature\":X_train.columns,\n",
    "    \"pct_contribution\":results.feature_importances_\n",
    "}).sort_values(by=\"pct_contribution\", ascending=False)"
   ]
  },
  {
   "cell_type": "code",
   "execution_count": 44,
   "metadata": {},
   "outputs": [
    {
     "name": "stdout",
     "output_type": "stream",
     "text": [
      "<graphviz.files.Source object at 0x15555590>\n"
     ]
    }
   ],
   "source": [
    "from sklearn import tree\n",
    "import graphviz\n",
    "\n",
    "label_names = ['not classic', 'classic']\n",
    "feature_names = X_train.columns\n",
    "\n",
    "dot_data = tree.export_graphviz(model,feature_names=feature_names,filled=True,class_names=label_names)  \n",
    "\n",
    "graph = graphviz.Source(dot_data)  \n",
    "\n",
    "print(graph)"
   ]
  },
  {
   "cell_type": "markdown",
   "metadata": {},
   "source": [
    "#### Results:\n",
    "- The decision tree has an accuracy rate of 96.06% - .06% higher than the logistic regression model. Taster experience is not the most important feature here. Th tree has the age of the wine and its alchohol percenatge at its root to predict if wine will be rated as classic or not."
   ]
  },
  {
   "cell_type": "markdown",
   "metadata": {},
   "source": [
    "#### Running the same analysis with a random forest"
   ]
  },
  {
   "cell_type": "code",
   "execution_count": 60,
   "metadata": {},
   "outputs": [],
   "source": [
    "from sklearn.ensemble import RandomForestClassifier\n",
    "model=RandomForestClassifier(n_estimators=100, max_depth = 10)\n",
    "results=model.fit(X_train, y_train)"
   ]
  },
  {
   "cell_type": "code",
   "execution_count": 61,
   "metadata": {},
   "outputs": [],
   "source": [
    "predictions=model.predict(X_test)"
   ]
  },
  {
   "cell_type": "code",
   "execution_count": 62,
   "metadata": {},
   "outputs": [],
   "source": [
    "matrix=confusion_matrix(y_test, predictions)"
   ]
  },
  {
   "cell_type": "code",
   "execution_count": 63,
   "metadata": {},
   "outputs": [
    {
     "data": {
      "text/html": [
       "<div>\n",
       "<style scoped>\n",
       "    .dataframe tbody tr th:only-of-type {\n",
       "        vertical-align: middle;\n",
       "    }\n",
       "\n",
       "    .dataframe tbody tr th {\n",
       "        vertical-align: top;\n",
       "    }\n",
       "\n",
       "    .dataframe thead th {\n",
       "        text-align: right;\n",
       "    }\n",
       "</style>\n",
       "<table border=\"1\" class=\"dataframe\">\n",
       "  <thead>\n",
       "    <tr style=\"text-align: right;\">\n",
       "      <th></th>\n",
       "      <th>Predicted_0</th>\n",
       "      <th>Predicted_1</th>\n",
       "    </tr>\n",
       "  </thead>\n",
       "  <tbody>\n",
       "    <tr>\n",
       "      <th>Actual_0</th>\n",
       "      <td>2969</td>\n",
       "      <td>5</td>\n",
       "    </tr>\n",
       "    <tr>\n",
       "      <th>Actual_1</th>\n",
       "      <td>116</td>\n",
       "      <td>8</td>\n",
       "    </tr>\n",
       "  </tbody>\n",
       "</table>\n",
       "</div>"
      ],
      "text/plain": [
       "          Predicted_0  Predicted_1\n",
       "Actual_0         2969            5\n",
       "Actual_1          116            8"
      ]
     },
     "execution_count": 63,
     "metadata": {},
     "output_type": "execute_result"
    }
   ],
   "source": [
    "pd.DataFrame(matrix, index=[\"Actual_0\", \"Actual_1\"], columns=[\"Predicted_0\", \"Predicted_1\"])"
   ]
  },
  {
   "cell_type": "code",
   "execution_count": 64,
   "metadata": {},
   "outputs": [
    {
     "name": "stdout",
     "output_type": "stream",
     "text": [
      "The accuracy is  96.22%.\n"
     ]
    }
   ],
   "source": [
    "# Accuracy\n",
    "print(f\"The accuracy is {(2971+10)/(2971+3+114+10)*100: .2f}%.\")"
   ]
  },
  {
   "cell_type": "code",
   "execution_count": 65,
   "metadata": {},
   "outputs": [
    {
     "data": {
      "text/html": [
       "<div>\n",
       "<style scoped>\n",
       "    .dataframe tbody tr th:only-of-type {\n",
       "        vertical-align: middle;\n",
       "    }\n",
       "\n",
       "    .dataframe tbody tr th {\n",
       "        vertical-align: top;\n",
       "    }\n",
       "\n",
       "    .dataframe thead th {\n",
       "        text-align: right;\n",
       "    }\n",
       "</style>\n",
       "<table border=\"1\" class=\"dataframe\">\n",
       "  <thead>\n",
       "    <tr style=\"text-align: right;\">\n",
       "      <th></th>\n",
       "      <th>Feature_name</th>\n",
       "      <th>pct_contribution</th>\n",
       "    </tr>\n",
       "  </thead>\n",
       "  <tbody>\n",
       "    <tr>\n",
       "      <th>0</th>\n",
       "      <td>alcohol_percentage</td>\n",
       "      <td>0.292426</td>\n",
       "    </tr>\n",
       "    <tr>\n",
       "      <th>7</th>\n",
       "      <td>winery_code</td>\n",
       "      <td>0.249610</td>\n",
       "    </tr>\n",
       "    <tr>\n",
       "      <th>1</th>\n",
       "      <td>wine_year</td>\n",
       "      <td>0.196105</td>\n",
       "    </tr>\n",
       "    <tr>\n",
       "      <th>6</th>\n",
       "      <td>variety_code</td>\n",
       "      <td>0.182835</td>\n",
       "    </tr>\n",
       "    <tr>\n",
       "      <th>3</th>\n",
       "      <td>category_White</td>\n",
       "      <td>0.030898</td>\n",
       "    </tr>\n",
       "    <tr>\n",
       "      <th>2</th>\n",
       "      <td>category_Red</td>\n",
       "      <td>0.020274</td>\n",
       "    </tr>\n",
       "    <tr>\n",
       "      <th>4</th>\n",
       "      <td>experience_high</td>\n",
       "      <td>0.014776</td>\n",
       "    </tr>\n",
       "    <tr>\n",
       "      <th>5</th>\n",
       "      <td>experience_medium</td>\n",
       "      <td>0.013076</td>\n",
       "    </tr>\n",
       "  </tbody>\n",
       "</table>\n",
       "</div>"
      ],
      "text/plain": [
       "         Feature_name  pct_contribution\n",
       "0  alcohol_percentage          0.292426\n",
       "7         winery_code          0.249610\n",
       "1           wine_year          0.196105\n",
       "6        variety_code          0.182835\n",
       "3      category_White          0.030898\n",
       "2        category_Red          0.020274\n",
       "4     experience_high          0.014776\n",
       "5   experience_medium          0.013076"
      ]
     },
     "execution_count": 65,
     "metadata": {},
     "output_type": "execute_result"
    }
   ],
   "source": [
    "pd.DataFrame({\n",
    "    \"Feature_name\": X_train.columns,\n",
    "    \"pct_contribution\":model.feature_importances_\n",
    "}).sort_values(by=\"pct_contribution\", ascending=False)"
   ]
  },
  {
   "cell_type": "markdown",
   "metadata": {},
   "source": [
    "#### Results:\n",
    "- The random forest has a slightly higher accuracy rate than the logistic regression and decision tree (~0.22%).\n",
    "- It identifies alcohol percentage and winery code as more important in predicting whether the wine is scored as a classic \n",
    "or not. The experience of the taster is ranked low, in line with the decision tree."
   ]
  },
  {
   "cell_type": "markdown",
   "metadata": {},
   "source": [
    "#### The End!"
   ]
  }
 ],
 "metadata": {
  "kernelspec": {
   "display_name": "Python 3",
   "language": "python",
   "name": "python3"
  },
  "language_info": {
   "codemirror_mode": {
    "name": "ipython",
    "version": 3
   },
   "file_extension": ".py",
   "mimetype": "text/x-python",
   "name": "python",
   "nbconvert_exporter": "python",
   "pygments_lexer": "ipython3",
   "version": "3.7.3"
  }
 },
 "nbformat": 4,
 "nbformat_minor": 2
}
