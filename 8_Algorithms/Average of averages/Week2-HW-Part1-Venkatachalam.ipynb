{
 "cells": [
  {
   "cell_type": "code",
   "execution_count": 2,
   "metadata": {},
   "outputs": [],
   "source": [
    "import pandas as pd\n",
    "import matplotlib.pyplot as plt\n",
    "import seaborn as sns\n",
    "import numpy as np"
   ]
  },
  {
   "cell_type": "markdown",
   "metadata": {},
   "source": [
    "# Pandas Review"
   ]
  },
  {
   "cell_type": "markdown",
   "metadata": {},
   "source": [
    "This HW covers the concepts simple pandas concepts introduced in class using NBA Players Stats - 2014-2015 data\n",
    "To find out more about the data follow the link: https://www.kaggle.com/drgilermo/nba-players-stats-20142015/version/1"
   ]
  },
  {
   "cell_type": "markdown",
   "metadata": {},
   "source": [
    "## Load `players_stats.csv`"
   ]
  },
  {
   "cell_type": "code",
   "execution_count": 3,
   "metadata": {},
   "outputs": [],
   "source": [
    "df=pd.read_csv(\"players_stats.csv\")"
   ]
  },
  {
   "cell_type": "markdown",
   "metadata": {},
   "source": [
    "## Explore the data in 3 different ways (using 3 different methods)\n",
    "Hint: you want to use methods that show the size and shape of your dataframe"
   ]
  },
  {
   "cell_type": "code",
   "execution_count": 4,
   "metadata": {},
   "outputs": [
    {
     "data": {
      "text/plain": [
       "Index(['Name', 'Games Played', 'MIN', 'PTS', 'FGM', 'FGA', 'FG%', '3PM', '3PA',\n",
       "       '3P%', 'FTM', 'FTA', 'FT%', 'OREB', 'DREB', 'REB', 'AST', 'STL', 'BLK',\n",
       "       'TOV', 'PF', 'EFF', 'AST/TOV', 'STL/TOV', 'Age', 'Birth_Place',\n",
       "       'Birthdate', 'Collage', 'Experience', 'Height', 'Pos', 'Team', 'Weight',\n",
       "       'BMI'],\n",
       "      dtype='object')"
      ]
     },
     "execution_count": 4,
     "metadata": {},
     "output_type": "execute_result"
    }
   ],
   "source": [
    "#Way 1\n",
    "df.columns"
   ]
  },
  {
   "cell_type": "code",
   "execution_count": 5,
   "metadata": {},
   "outputs": [
    {
     "data": {
      "text/html": [
       "<div>\n",
       "<style scoped>\n",
       "    .dataframe tbody tr th:only-of-type {\n",
       "        vertical-align: middle;\n",
       "    }\n",
       "\n",
       "    .dataframe tbody tr th {\n",
       "        vertical-align: top;\n",
       "    }\n",
       "\n",
       "    .dataframe thead th {\n",
       "        text-align: right;\n",
       "    }\n",
       "</style>\n",
       "<table border=\"1\" class=\"dataframe\">\n",
       "  <thead>\n",
       "    <tr style=\"text-align: right;\">\n",
       "      <th></th>\n",
       "      <th>Name</th>\n",
       "      <th>Games Played</th>\n",
       "      <th>MIN</th>\n",
       "      <th>PTS</th>\n",
       "      <th>FGM</th>\n",
       "      <th>FGA</th>\n",
       "      <th>FG%</th>\n",
       "      <th>3PM</th>\n",
       "      <th>3PA</th>\n",
       "      <th>3P%</th>\n",
       "      <th>...</th>\n",
       "      <th>Age</th>\n",
       "      <th>Birth_Place</th>\n",
       "      <th>Birthdate</th>\n",
       "      <th>Collage</th>\n",
       "      <th>Experience</th>\n",
       "      <th>Height</th>\n",
       "      <th>Pos</th>\n",
       "      <th>Team</th>\n",
       "      <th>Weight</th>\n",
       "      <th>BMI</th>\n",
       "    </tr>\n",
       "  </thead>\n",
       "  <tbody>\n",
       "    <tr>\n",
       "      <th>0</th>\n",
       "      <td>AJ Price</td>\n",
       "      <td>26</td>\n",
       "      <td>324</td>\n",
       "      <td>133</td>\n",
       "      <td>51</td>\n",
       "      <td>137</td>\n",
       "      <td>37.2</td>\n",
       "      <td>15</td>\n",
       "      <td>57</td>\n",
       "      <td>26.3</td>\n",
       "      <td>...</td>\n",
       "      <td>29.0</td>\n",
       "      <td>us</td>\n",
       "      <td>October 7, 1986</td>\n",
       "      <td>University of Connecticut</td>\n",
       "      <td>5</td>\n",
       "      <td>185.0</td>\n",
       "      <td>PG</td>\n",
       "      <td>PHO</td>\n",
       "      <td>81.45</td>\n",
       "      <td>23.798393</td>\n",
       "    </tr>\n",
       "    <tr>\n",
       "      <th>1</th>\n",
       "      <td>Aaron Brooks</td>\n",
       "      <td>82</td>\n",
       "      <td>1885</td>\n",
       "      <td>954</td>\n",
       "      <td>344</td>\n",
       "      <td>817</td>\n",
       "      <td>42.1</td>\n",
       "      <td>121</td>\n",
       "      <td>313</td>\n",
       "      <td>38.7</td>\n",
       "      <td>...</td>\n",
       "      <td>30.0</td>\n",
       "      <td>us</td>\n",
       "      <td>January 14, 1985</td>\n",
       "      <td>University of Oregon</td>\n",
       "      <td>6</td>\n",
       "      <td>180.0</td>\n",
       "      <td>PG</td>\n",
       "      <td>CHI</td>\n",
       "      <td>72.45</td>\n",
       "      <td>22.361111</td>\n",
       "    </tr>\n",
       "    <tr>\n",
       "      <th>2</th>\n",
       "      <td>Aaron Gordon</td>\n",
       "      <td>47</td>\n",
       "      <td>797</td>\n",
       "      <td>243</td>\n",
       "      <td>93</td>\n",
       "      <td>208</td>\n",
       "      <td>44.7</td>\n",
       "      <td>13</td>\n",
       "      <td>48</td>\n",
       "      <td>27.1</td>\n",
       "      <td>...</td>\n",
       "      <td>20.0</td>\n",
       "      <td>us</td>\n",
       "      <td>September 16, 1995</td>\n",
       "      <td>University of Arizona</td>\n",
       "      <td>R</td>\n",
       "      <td>202.5</td>\n",
       "      <td>PF</td>\n",
       "      <td>ORL</td>\n",
       "      <td>99.00</td>\n",
       "      <td>24.142661</td>\n",
       "    </tr>\n",
       "    <tr>\n",
       "      <th>3</th>\n",
       "      <td>Adreian Payne</td>\n",
       "      <td>32</td>\n",
       "      <td>740</td>\n",
       "      <td>213</td>\n",
       "      <td>91</td>\n",
       "      <td>220</td>\n",
       "      <td>41.4</td>\n",
       "      <td>1</td>\n",
       "      <td>9</td>\n",
       "      <td>11.1</td>\n",
       "      <td>...</td>\n",
       "      <td>24.0</td>\n",
       "      <td>us</td>\n",
       "      <td>February 19, 1991</td>\n",
       "      <td>Michigan State University</td>\n",
       "      <td>R</td>\n",
       "      <td>205.0</td>\n",
       "      <td>PF</td>\n",
       "      <td>ATL</td>\n",
       "      <td>106.65</td>\n",
       "      <td>25.377751</td>\n",
       "    </tr>\n",
       "    <tr>\n",
       "      <th>4</th>\n",
       "      <td>Al Horford</td>\n",
       "      <td>76</td>\n",
       "      <td>2318</td>\n",
       "      <td>1156</td>\n",
       "      <td>519</td>\n",
       "      <td>965</td>\n",
       "      <td>53.8</td>\n",
       "      <td>11</td>\n",
       "      <td>36</td>\n",
       "      <td>30.6</td>\n",
       "      <td>...</td>\n",
       "      <td>29.0</td>\n",
       "      <td>do</td>\n",
       "      <td>June 3, 1986</td>\n",
       "      <td>University of Florida</td>\n",
       "      <td>7</td>\n",
       "      <td>205.0</td>\n",
       "      <td>C</td>\n",
       "      <td>ATL</td>\n",
       "      <td>110.25</td>\n",
       "      <td>26.234384</td>\n",
       "    </tr>\n",
       "  </tbody>\n",
       "</table>\n",
       "<p>5 rows × 34 columns</p>\n",
       "</div>"
      ],
      "text/plain": [
       "            Name  Games Played   MIN   PTS  FGM  FGA   FG%  3PM  3PA   3P%  \\\n",
       "0       AJ Price            26   324   133   51  137  37.2   15   57  26.3   \n",
       "1   Aaron Brooks            82  1885   954  344  817  42.1  121  313  38.7   \n",
       "2   Aaron Gordon            47   797   243   93  208  44.7   13   48  27.1   \n",
       "3  Adreian Payne            32   740   213   91  220  41.4    1    9  11.1   \n",
       "4     Al Horford            76  2318  1156  519  965  53.8   11   36  30.6   \n",
       "\n",
       "   ...   Age  Birth_Place           Birthdate                    Collage  \\\n",
       "0  ...  29.0           us     October 7, 1986  University of Connecticut   \n",
       "1  ...  30.0           us    January 14, 1985       University of Oregon   \n",
       "2  ...  20.0           us  September 16, 1995      University of Arizona   \n",
       "3  ...  24.0           us   February 19, 1991  Michigan State University   \n",
       "4  ...  29.0           do        June 3, 1986      University of Florida   \n",
       "\n",
       "   Experience  Height  Pos  Team  Weight        BMI  \n",
       "0           5   185.0   PG   PHO   81.45  23.798393  \n",
       "1           6   180.0   PG   CHI   72.45  22.361111  \n",
       "2           R   202.5   PF   ORL   99.00  24.142661  \n",
       "3           R   205.0   PF   ATL  106.65  25.377751  \n",
       "4           7   205.0    C   ATL  110.25  26.234384  \n",
       "\n",
       "[5 rows x 34 columns]"
      ]
     },
     "execution_count": 5,
     "metadata": {},
     "output_type": "execute_result"
    }
   ],
   "source": [
    "#Way 2\n",
    "df.head()"
   ]
  },
  {
   "cell_type": "code",
   "execution_count": 6,
   "metadata": {},
   "outputs": [
    {
     "data": {
      "text/html": [
       "<div>\n",
       "<style scoped>\n",
       "    .dataframe tbody tr th:only-of-type {\n",
       "        vertical-align: middle;\n",
       "    }\n",
       "\n",
       "    .dataframe tbody tr th {\n",
       "        vertical-align: top;\n",
       "    }\n",
       "\n",
       "    .dataframe thead th {\n",
       "        text-align: right;\n",
       "    }\n",
       "</style>\n",
       "<table border=\"1\" class=\"dataframe\">\n",
       "  <thead>\n",
       "    <tr style=\"text-align: right;\">\n",
       "      <th></th>\n",
       "      <th>Name</th>\n",
       "      <th>Games Played</th>\n",
       "      <th>MIN</th>\n",
       "      <th>PTS</th>\n",
       "      <th>FGM</th>\n",
       "      <th>FGA</th>\n",
       "      <th>FG%</th>\n",
       "      <th>3PM</th>\n",
       "      <th>3PA</th>\n",
       "      <th>3P%</th>\n",
       "      <th>...</th>\n",
       "      <th>Age</th>\n",
       "      <th>Birth_Place</th>\n",
       "      <th>Birthdate</th>\n",
       "      <th>Collage</th>\n",
       "      <th>Experience</th>\n",
       "      <th>Height</th>\n",
       "      <th>Pos</th>\n",
       "      <th>Team</th>\n",
       "      <th>Weight</th>\n",
       "      <th>BMI</th>\n",
       "    </tr>\n",
       "  </thead>\n",
       "  <tbody>\n",
       "    <tr>\n",
       "      <th>485</th>\n",
       "      <td>Xavier Henry</td>\n",
       "      <td>9</td>\n",
       "      <td>86</td>\n",
       "      <td>20</td>\n",
       "      <td>3</td>\n",
       "      <td>13</td>\n",
       "      <td>23.1</td>\n",
       "      <td>0</td>\n",
       "      <td>0</td>\n",
       "      <td>0.0</td>\n",
       "      <td>...</td>\n",
       "      <td>24.0</td>\n",
       "      <td>be</td>\n",
       "      <td>March 15, 1991</td>\n",
       "      <td>University of Kansas</td>\n",
       "      <td>4</td>\n",
       "      <td>195.0</td>\n",
       "      <td>SF</td>\n",
       "      <td>LAL</td>\n",
       "      <td>99.00</td>\n",
       "      <td>26.035503</td>\n",
       "    </tr>\n",
       "    <tr>\n",
       "      <th>486</th>\n",
       "      <td>Zach LaVine</td>\n",
       "      <td>77</td>\n",
       "      <td>1902</td>\n",
       "      <td>778</td>\n",
       "      <td>286</td>\n",
       "      <td>677</td>\n",
       "      <td>42.2</td>\n",
       "      <td>57</td>\n",
       "      <td>167</td>\n",
       "      <td>34.1</td>\n",
       "      <td>...</td>\n",
       "      <td>20.0</td>\n",
       "      <td>us</td>\n",
       "      <td>March 10, 1995</td>\n",
       "      <td>University of California, Los Angeles</td>\n",
       "      <td>R</td>\n",
       "      <td>192.5</td>\n",
       "      <td>PG</td>\n",
       "      <td>MIN</td>\n",
       "      <td>85.05</td>\n",
       "      <td>22.951594</td>\n",
       "    </tr>\n",
       "    <tr>\n",
       "      <th>487</th>\n",
       "      <td>Zach Randolph</td>\n",
       "      <td>71</td>\n",
       "      <td>2304</td>\n",
       "      <td>1143</td>\n",
       "      <td>454</td>\n",
       "      <td>932</td>\n",
       "      <td>48.7</td>\n",
       "      <td>7</td>\n",
       "      <td>20</td>\n",
       "      <td>35.0</td>\n",
       "      <td>...</td>\n",
       "      <td>34.0</td>\n",
       "      <td>us</td>\n",
       "      <td>July 16, 1981</td>\n",
       "      <td>Michigan State University</td>\n",
       "      <td>13</td>\n",
       "      <td>202.5</td>\n",
       "      <td>PF</td>\n",
       "      <td>MEM</td>\n",
       "      <td>117.00</td>\n",
       "      <td>28.532236</td>\n",
       "    </tr>\n",
       "    <tr>\n",
       "      <th>488</th>\n",
       "      <td>Zaza Pachulia</td>\n",
       "      <td>73</td>\n",
       "      <td>1730</td>\n",
       "      <td>606</td>\n",
       "      <td>240</td>\n",
       "      <td>529</td>\n",
       "      <td>45.4</td>\n",
       "      <td>0</td>\n",
       "      <td>3</td>\n",
       "      <td>0.0</td>\n",
       "      <td>...</td>\n",
       "      <td>31.0</td>\n",
       "      <td>ge</td>\n",
       "      <td>February 10, 1984</td>\n",
       "      <td>NaN</td>\n",
       "      <td>11</td>\n",
       "      <td>207.5</td>\n",
       "      <td>C</td>\n",
       "      <td>MIL</td>\n",
       "      <td>121.50</td>\n",
       "      <td>28.218900</td>\n",
       "    </tr>\n",
       "    <tr>\n",
       "      <th>489</th>\n",
       "      <td>Zoran Dragic</td>\n",
       "      <td>16</td>\n",
       "      <td>75</td>\n",
       "      <td>28</td>\n",
       "      <td>11</td>\n",
       "      <td>30</td>\n",
       "      <td>36.7</td>\n",
       "      <td>3</td>\n",
       "      <td>14</td>\n",
       "      <td>21.4</td>\n",
       "      <td>...</td>\n",
       "      <td>26.0</td>\n",
       "      <td>si</td>\n",
       "      <td>June 22, 1989</td>\n",
       "      <td>NaN</td>\n",
       "      <td>R</td>\n",
       "      <td>192.5</td>\n",
       "      <td>SG</td>\n",
       "      <td>PHO</td>\n",
       "      <td>90.00</td>\n",
       "      <td>24.287401</td>\n",
       "    </tr>\n",
       "  </tbody>\n",
       "</table>\n",
       "<p>5 rows × 34 columns</p>\n",
       "</div>"
      ],
      "text/plain": [
       "              Name  Games Played   MIN   PTS  FGM  FGA   FG%  3PM  3PA   3P%  \\\n",
       "485   Xavier Henry             9    86    20    3   13  23.1    0    0   0.0   \n",
       "486    Zach LaVine            77  1902   778  286  677  42.2   57  167  34.1   \n",
       "487  Zach Randolph            71  2304  1143  454  932  48.7    7   20  35.0   \n",
       "488  Zaza Pachulia            73  1730   606  240  529  45.4    0    3   0.0   \n",
       "489   Zoran Dragic            16    75    28   11   30  36.7    3   14  21.4   \n",
       "\n",
       "     ...   Age  Birth_Place          Birthdate  \\\n",
       "485  ...  24.0           be     March 15, 1991   \n",
       "486  ...  20.0           us     March 10, 1995   \n",
       "487  ...  34.0           us      July 16, 1981   \n",
       "488  ...  31.0           ge  February 10, 1984   \n",
       "489  ...  26.0           si      June 22, 1989   \n",
       "\n",
       "                                   Collage  Experience  Height  Pos  Team  \\\n",
       "485                   University of Kansas           4   195.0   SF   LAL   \n",
       "486  University of California, Los Angeles           R   192.5   PG   MIN   \n",
       "487              Michigan State University          13   202.5   PF   MEM   \n",
       "488                                    NaN          11   207.5    C   MIL   \n",
       "489                                    NaN           R   192.5   SG   PHO   \n",
       "\n",
       "     Weight        BMI  \n",
       "485   99.00  26.035503  \n",
       "486   85.05  22.951594  \n",
       "487  117.00  28.532236  \n",
       "488  121.50  28.218900  \n",
       "489   90.00  24.287401  \n",
       "\n",
       "[5 rows x 34 columns]"
      ]
     },
     "execution_count": 6,
     "metadata": {},
     "output_type": "execute_result"
    }
   ],
   "source": [
    "#Way 3\n",
    "df.tail()"
   ]
  },
  {
   "cell_type": "code",
   "execution_count": 7,
   "metadata": {},
   "outputs": [
    {
     "data": {
      "text/plain": [
       "(490, 34)"
      ]
     },
     "execution_count": 7,
     "metadata": {},
     "output_type": "execute_result"
    }
   ],
   "source": [
    "#Way 4\n",
    "df.shape"
   ]
  },
  {
   "cell_type": "code",
   "execution_count": 8,
   "metadata": {},
   "outputs": [
    {
     "data": {
      "text/plain": [
       "Name             object\n",
       "Games Played      int64\n",
       "MIN               int64\n",
       "PTS               int64\n",
       "FGM               int64\n",
       "FGA               int64\n",
       "FG%             float64\n",
       "3PM               int64\n",
       "3PA               int64\n",
       "3P%             float64\n",
       "FTM               int64\n",
       "FTA               int64\n",
       "FT%             float64\n",
       "OREB              int64\n",
       "DREB              int64\n",
       "REB               int64\n",
       "AST               int64\n",
       "STL               int64\n",
       "BLK               int64\n",
       "TOV               int64\n",
       "PF                int64\n",
       "EFF               int64\n",
       "AST/TOV         float64\n",
       "STL/TOV         float64\n",
       "Age             float64\n",
       "Birth_Place      object\n",
       "Birthdate        object\n",
       "Collage          object\n",
       "Experience       object\n",
       "Height          float64\n",
       "Pos              object\n",
       "Team             object\n",
       "Weight          float64\n",
       "BMI             float64\n",
       "dtype: object"
      ]
     },
     "execution_count": 8,
     "metadata": {},
     "output_type": "execute_result"
    }
   ],
   "source": [
    "#Way 5\n",
    "df.dtypes"
   ]
  },
  {
   "cell_type": "markdown",
   "metadata": {},
   "source": [
    "## Introduction to Statistics \n",
    "#### Calculate the mean, mode and median of `MIN` and `PTS` fields\n"
   ]
  },
  {
   "cell_type": "code",
   "execution_count": 9,
   "metadata": {},
   "outputs": [
    {
     "name": "stdout",
     "output_type": "stream",
     "text": [
      "For the variable MIN - The mean is 1214.71, the median is 1193.00, and the modes are 0      23\n",
      "1      43\n",
      "2    2455\n",
      "dtype: int64.\n"
     ]
    }
   ],
   "source": [
    "print(f\"For the variable MIN - The mean is {df.MIN.describe()[1]:.2f}, the median is {df.MIN.describe()[5]:.2f}, and the modes are {df.MIN.mode()}.\")"
   ]
  },
  {
   "cell_type": "code",
   "execution_count": 10,
   "metadata": {},
   "outputs": [
    {
     "name": "stdout",
     "output_type": "stream",
     "text": [
      "For the variable PTS - The mean is 502.11, the median is 423.00, and the mode is 0.00.\n"
     ]
    }
   ],
   "source": [
    "print(f\"For the variable PTS - The mean is {df.PTS.describe()[1]:.2f}, the median is {df.PTS.describe()[5]:.2f}, and the mode is {df.PTS.mode().item():.2f}.\")"
   ]
  },
  {
   "cell_type": "markdown",
   "metadata": {},
   "source": [
    "#### From the description of the data find out what information is contained in the `MIN` and `PTS` fields"
   ]
  },
  {
   "cell_type": "code",
   "execution_count": 40,
   "metadata": {},
   "outputs": [
    {
     "name": "stdout",
     "output_type": "stream",
     "text": [
      "MIN shows the minutes played by each player, and PTS shows the points acquired by each player.\n"
     ]
    }
   ],
   "source": [
    "print(f\"MIN shows the minutes played by each player, and PTS shows the points acquired by each player.\")"
   ]
  },
  {
   "cell_type": "markdown",
   "metadata": {},
   "source": [
    "### Compute the average number of minutes all the players spend on the field"
   ]
  },
  {
   "cell_type": "code",
   "execution_count": 69,
   "metadata": {},
   "outputs": [
    {
     "data": {
      "text/plain": [
       "1214.7142857142858"
      ]
     },
     "execution_count": 69,
     "metadata": {},
     "output_type": "execute_result"
    }
   ],
   "source": [
    "df.MIN.mean()\n"
   ]
  },
  {
   "cell_type": "markdown",
   "metadata": {},
   "source": [
    "### Now compute the average number of minutes each team spends on the field "
   ]
  },
  {
   "cell_type": "code",
   "execution_count": 71,
   "metadata": {},
   "outputs": [
    {
     "data": {
      "text/plain": [
       "Team\n",
       "ATL    1358.466667\n",
       "BOS    1450.875000\n",
       "CHA    1321.500000\n",
       "CHI    1420.071429\n",
       "CLE    1195.583333\n",
       "DAL    1414.666667\n",
       "DEN    1231.272727\n",
       "DET    1276.818182\n",
       "GSW    1432.400000\n",
       "HOU    1271.636364\n",
       "IND    1376.066667\n",
       "LAC    1258.285714\n",
       "LAL    1136.937500\n",
       "MEM    1392.142857\n",
       "MIA     970.916667\n",
       "MIL    1282.500000\n",
       "MIN     964.375000\n",
       "NJN    1165.461538\n",
       "NOH    1345.062500\n",
       "NYK    1197.312500\n",
       "OKC    1346.600000\n",
       "ORL    1317.000000\n",
       "PHI     976.400000\n",
       "PHO    1133.062500\n",
       "POR    1374.312500\n",
       "SAC    1168.307692\n",
       "SAS    1254.062500\n",
       "TOR    1264.214286\n",
       "UTA    1071.750000\n",
       "WAS    1127.125000\n",
       "Name: MIN, dtype: float64"
      ]
     },
     "execution_count": 71,
     "metadata": {},
     "output_type": "execute_result"
    }
   ],
   "source": [
    "df.groupby(by=\"Team\").MIN.mean()"
   ]
  },
  {
   "cell_type": "markdown",
   "metadata": {},
   "source": [
    "###  Why is it different? What is the right way to calculate the Average of averages?\n",
    "Please use classwork as a reference\n",
    "### Calculate the average number of minutes all teams spend on the field"
   ]
  },
  {
   "cell_type": "code",
   "execution_count": 89,
   "metadata": {},
   "outputs": [
    {
     "name": "stdout",
     "output_type": "stream",
     "text": [
      "The weighted mean when is 1246.649289099526. This is different from the mean minutes of all the players because not all players have teams.\n",
      "If we compute the mean after dropping players without a team assignment, we will get the same mean as the weighted mean as demonstrated below:\n"
     ]
    },
    {
     "data": {
      "text/plain": [
       "1246.649289099526"
      ]
     },
     "execution_count": 89,
     "metadata": {},
     "output_type": "execute_result"
    }
   ],
   "source": [
    "series=[\n",
    "df.groupby(by=\"Team\").MIN.mean(),\n",
    "df.groupby(by=\"Team\").Name.count()\n",
    "]\n",
    "\n",
    "group_df=pd.concat(series, axis=1)\n",
    "group_df.reset_index(inplace=True)\n",
    "\n",
    "group_df.columns=[\"Team\", \"Mean_minutes\", \"Number_of_players\"]\n",
    "\n",
    "df.groupby(by=\"Team\").Name.count()\n",
    "\n",
    "group_df[\"x\"]=group_df[\"Mean_minutes\"]*group_df[\"Number_of_players\"]\n",
    "\n",
    "summation_x=group_df[\"x\"].sum()\n",
    "\n",
    "N=group_df[\"Number_of_players\"].sum()\n",
    "\n",
    "weighted_avg=summation_x/N\n",
    "\n",
    "print(f\"The weighted mean when is {weighted_avg}. This is different from the mean minutes of all the players because not all players have teams.\")\n",
    "\n",
    "print(f\"If we compute the mean after dropping players without a team assignment, we will get the same mean as the weighted mean as demonstrated below:\")\n",
    "\n",
    "df[df[\"Team\"].isna()==False].MIN.mean()"
   ]
  },
  {
   "cell_type": "markdown",
   "metadata": {},
   "source": [
    "#### The End!"
   ]
  }
 ],
 "metadata": {
  "kernelspec": {
   "display_name": "Python 3",
   "language": "python",
   "name": "python3"
  },
  "language_info": {
   "codemirror_mode": {
    "name": "ipython",
    "version": 3
   },
   "file_extension": ".py",
   "mimetype": "text/x-python",
   "name": "python",
   "nbconvert_exporter": "python",
   "pygments_lexer": "ipython3",
   "version": "3.7.3"
  }
 },
 "nbformat": 4,
 "nbformat_minor": 2
}
