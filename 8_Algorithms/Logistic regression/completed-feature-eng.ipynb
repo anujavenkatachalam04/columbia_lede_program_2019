{
 "cells": [
  {
   "cell_type": "markdown",
   "metadata": {},
   "source": [
    "# Feature selection and feature engineering\n",
    "\n",
    "This isn't based on a news article, exactly, it's from a paper. You can see the paper in `/data/`."
   ]
  },
  {
   "cell_type": "code",
   "execution_count": 1,
   "metadata": {},
   "outputs": [],
   "source": [
    "import pandas as pd\n",
    "import numpy as np\n",
    "%matplotlib inline\n",
    "\n",
    "import matplotlib.pyplot as plt\n",
    "\n",
    "from sklearn.linear_model import LogisticRegression\n",
    "\n",
    "\n",
    "pd.set_option(\"display.max_columns\", 200)\n",
    "pd.set_option(\"display.max_colwidth\", 200)\n",
    "%matplotlib inline"
   ]
  },
  {
   "cell_type": "code",
   "execution_count": 2,
   "metadata": {},
   "outputs": [],
   "source": [
    "#saving file paths\n"
   ]
  },
  {
   "cell_type": "markdown",
   "metadata": {},
   "source": [
    "# Reading in our data\n",
    "\n",
    "## Every single person in a crash\n",
    "\n",
    "We'll start by reading in the list of people who were involved in an accident.\n",
    "\n",
    "**Call this dataframe `people`.**"
   ]
  },
  {
   "cell_type": "code",
   "execution_count": 3,
   "metadata": {},
   "outputs": [
    {
     "name": "stderr",
     "output_type": "stream",
     "text": [
      "C:\\Users\\Anuja\\AppData\\Local\\Programs\\Python\\Python37-32\\lib\\site-packages\\IPython\\core\\interactiveshell.py:3049: DtypeWarning: Columns (26) have mixed types. Specify dtype option on import or set low_memory=False.\n",
      "  interactivity=interactivity, compiler=compiler, result=result)\n"
     ]
    }
   ],
   "source": [
    "#Only importing necessary columns to save memory\n",
    "people=pd.read_csv(\"combined-person-data.csv\", usecols=[\"SEX_CODE\",\"INJ_SEVER_CODE\",\"REPORT_NO\",\"VEHICLE_ID\"])"
   ]
  },
  {
   "cell_type": "markdown",
   "metadata": {},
   "source": [
    "How often did each severity of injury show up? (e.g. not injured, non-incapacitating injury, etc)"
   ]
  },
  {
   "cell_type": "code",
   "execution_count": 4,
   "metadata": {},
   "outputs": [
    {
     "data": {
      "text/plain": [
       "1    716806\n",
       "2     82642\n",
       "3     76801\n",
       "4     10353\n",
       "5      1681\n",
       "Name: INJ_SEVER_CODE, dtype: int64"
      ]
     },
     "execution_count": 4,
     "metadata": {},
     "output_type": "execute_result"
    }
   ],
   "source": [
    "people[\"INJ_SEVER_CODE\"].value_counts()"
   ]
  },
  {
   "cell_type": "markdown",
   "metadata": {},
   "source": [
    "We're only interested in fatalities, so let's create a new `had_fatality` column for when people received a fatal injury.\n",
    "\n",
    "**Confirm there were 1681 people with fatal injuries.**"
   ]
  },
  {
   "cell_type": "code",
   "execution_count": 5,
   "metadata": {},
   "outputs": [
    {
     "data": {
      "text/plain": [
       "0    886602\n",
       "1      1681\n",
       "Name: had_fatality, dtype: int64"
      ]
     },
     "execution_count": 5,
     "metadata": {},
     "output_type": "execute_result"
    }
   ],
   "source": [
    "people[\"had_fatality\"]=people[\"INJ_SEVER_CODE\"]\n",
    "people.had_fatality=np.where(people.had_fatality==5,1,0)\n",
    "people.had_fatality.value_counts()"
   ]
  },
  {
   "cell_type": "code",
   "execution_count": 6,
   "metadata": {},
   "outputs": [
    {
     "data": {
      "text/plain": [
       "Index(['INJ_SEVER_CODE', 'REPORT_NO', 'SEX_CODE', 'VEHICLE_ID',\n",
       "       'had_fatality'],\n",
       "      dtype='object')"
      ]
     },
     "execution_count": 6,
     "metadata": {},
     "output_type": "execute_result"
    }
   ],
   "source": [
    "people.columns"
   ]
  },
  {
   "cell_type": "markdown",
   "metadata": {},
   "source": [
    "## Working on Features\n",
    "\n",
    "### Starting our analysis\n",
    "\n",
    "We're going to run a regression on the impact of being **male vs female on crash fatalities**. Prepare a dataframe called `train_df` with the appropriate information in it.\n",
    "\n",
    "* **Tip:** What column(s) are your input, and what is your output? Aka independent and dependent variables\n",
    "* **Tip:** You'll need to convert your input column into something numeric, I suggest using `.replace`\n",
    "* **Tip:** We aren't interested in the \"Unknown\" sex - either filtering or `np.nan` + `.dropna()` might be useful ways to get rid of those columns"
   ]
  },
  {
   "cell_type": "code",
   "execution_count": 7,
   "metadata": {},
   "outputs": [
    {
     "name": "stderr",
     "output_type": "stream",
     "text": [
      "C:\\Users\\Anuja\\AppData\\Local\\Programs\\Python\\Python37-32\\lib\\site-packages\\ipykernel_launcher.py:2: SettingWithCopyWarning: \n",
      "A value is trying to be set on a copy of a slice from a DataFrame.\n",
      "Try using .loc[row_indexer,col_indexer] = value instead\n",
      "\n",
      "See the caveats in the documentation: http://pandas.pydata.org/pandas-docs/stable/indexing.html#indexing-view-versus-copy\n",
      "  \n"
     ]
    }
   ],
   "source": [
    "train_df=people[[\"SEX_CODE\",\"had_fatality\"]]\n",
    "train_df[\"SEX_CODE\"]=train_df[\"SEX_CODE\"].replace(\"U\",np.nan)"
   ]
  },
  {
   "cell_type": "code",
   "execution_count": 8,
   "metadata": {},
   "outputs": [],
   "source": [
    "train_df=train_df.dropna(subset=[\"SEX_CODE\"])"
   ]
  },
  {
   "cell_type": "code",
   "execution_count": 9,
   "metadata": {},
   "outputs": [],
   "source": [
    "train_df=pd.get_dummies(train_df.SEX_CODE, prefix=\"sex_\").join(train_df).drop(columns=[\"sex__M\",\"SEX_CODE\"])"
   ]
  },
  {
   "cell_type": "code",
   "execution_count": 10,
   "metadata": {},
   "outputs": [
    {
     "data": {
      "text/plain": [
       "(815827, 2)"
      ]
     },
     "execution_count": 10,
     "metadata": {},
     "output_type": "execute_result"
    }
   ],
   "source": [
    "train_df.shape"
   ]
  },
  {
   "cell_type": "markdown",
   "metadata": {},
   "source": [
    "Confirm that your `train_df` has two columns and 815,827 rows.\n",
    "\n",
    "> **Tip:** If you have more rows, make sure you dropped all of the rows with Unknown sex.\n",
    ">\n",
    "> **Tip:** If you have more columns, make sure you only have your input and output columns."
   ]
  },
  {
   "cell_type": "code",
   "execution_count": 11,
   "metadata": {},
   "outputs": [],
   "source": [
    "#Creating my X and y variables\n",
    "X=train_df[[\"sex__F\"]]\n",
    "y=train_df.had_fatality"
   ]
  },
  {
   "cell_type": "markdown",
   "metadata": {},
   "source": [
    "### Run your regression\n",
    "\n",
    "See the effect of sex on whether the person's injuries are fatal or not. After we train the regression, we can use my ✨favorite technique✨ to display features and their odds ratios:\n",
    "    \n",
    "```python\n",
    "feature_names = X.columns\n",
    "coefficients = clf.coef_[0]\n",
    "\n",
    "pd.DataFrame({\n",
    "    'feature': feature_names,\n",
    "    'coefficient (log odds ratio)': coefficients,\n",
    "    'odds ratio': np.exp(coefficients).round(4)\n",
    "}).sort_values(by='odds ratio', ascending=False)\n",
    "```"
   ]
  },
  {
   "cell_type": "code",
   "execution_count": 12,
   "metadata": {},
   "outputs": [
    {
     "data": {
      "text/html": [
       "<div>\n",
       "<style scoped>\n",
       "    .dataframe tbody tr th:only-of-type {\n",
       "        vertical-align: middle;\n",
       "    }\n",
       "\n",
       "    .dataframe tbody tr th {\n",
       "        vertical-align: top;\n",
       "    }\n",
       "\n",
       "    .dataframe thead th {\n",
       "        text-align: right;\n",
       "    }\n",
       "</style>\n",
       "<table border=\"1\" class=\"dataframe\">\n",
       "  <thead>\n",
       "    <tr style=\"text-align: right;\">\n",
       "      <th></th>\n",
       "      <th>feature</th>\n",
       "      <th>odds_ratio</th>\n",
       "      <th>intercept</th>\n",
       "    </tr>\n",
       "  </thead>\n",
       "  <tbody>\n",
       "    <tr>\n",
       "      <th>0</th>\n",
       "      <td>sex__F</td>\n",
       "      <td>0.489285</td>\n",
       "      <td>-5.934307</td>\n",
       "    </tr>\n",
       "  </tbody>\n",
       "</table>\n",
       "</div>"
      ],
      "text/plain": [
       "  feature  odds_ratio  intercept\n",
       "0  sex__F    0.489285  -5.934307"
      ]
     },
     "execution_count": 12,
     "metadata": {},
     "output_type": "execute_result"
    }
   ],
   "source": [
    "#Creating a model with the training dataset\n",
    "model=LogisticRegression(C=1e9, solver=\"lbfgs\",max_iter=4000)\n",
    "results=model.fit(X, y)\n",
    "log_coeff=model.coef_[0]\n",
    "coeff=np.exp(log_coeff)\n",
    "\n",
    "pd.DataFrame({\n",
    "    \"feature\":X.columns,\n",
    "    \"odds_ratio\":coeff,\n",
    "    \"intercept\":model.intercept_\n",
    "})\n"
   ]
  },
  {
   "cell_type": "markdown",
   "metadata": {},
   "source": [
    "### Use words to interpret this result"
   ]
  },
  {
   "cell_type": "code",
   "execution_count": 13,
   "metadata": {},
   "outputs": [],
   "source": [
    "# The odds ratio is 0.489. This means that being female makes it ~50% less likely to die in an accident than being male.\n"
   ]
  },
  {
   "cell_type": "markdown",
   "metadata": {},
   "source": [
    "## Adding more features\n",
    "\n",
    "The actual crash data has more details - whether it was snowy/icy, whether it was a highway, etc. \n",
    "\n",
    "Read in `combined-crash-data.csv`, calling it **`crashes`**, and merge it with our people dataset. I'll save you a lookup: the `REPORT_NO` is what matches between the two."
   ]
  },
  {
   "cell_type": "code",
   "execution_count": 14,
   "metadata": {},
   "outputs": [],
   "source": [
    "#Only importing the necessary columns to save memory\n",
    "crashes=pd.read_csv(\"combined-crash-data.csv\", usecols=[\"REPORT_NO\",\"SURF_COND_CODE\"])"
   ]
  },
  {
   "cell_type": "code",
   "execution_count": 15,
   "metadata": {},
   "outputs": [],
   "source": [
    "merged=crashes.merge(people, on=\"REPORT_NO\")"
   ]
  },
  {
   "cell_type": "markdown",
   "metadata": {},
   "source": [
    "### Examining more possible features\n",
    "\n",
    "How often was it wet, dry, snowy, icy, etc? **What was the most common surfce condition?**\n",
    "\n",
    "* **Tip:** We're interested in surface condition, _not_ road condition, _not_ weather condition"
   ]
  },
  {
   "cell_type": "code",
   "execution_count": 16,
   "metadata": {},
   "outputs": [
    {
     "data": {
      "text/plain": [
       "2.00     619569\n",
       "1.00     147803\n",
       "0.00      30921\n",
       "3.00       9418\n",
       "4.00       9111\n",
       "99.00      3616\n",
       "6.03       1697\n",
       "88.00      1064\n",
       "5.00        447\n",
       "7.01        258\n",
       "9.88        141\n",
       "8.05         36\n",
       "Name: SURF_COND_CODE, dtype: int64"
      ]
     },
     "execution_count": 16,
     "metadata": {},
     "output_type": "execute_result"
    }
   ],
   "source": [
    "merged.SURF_COND_CODE.value_counts()\n",
    "\n",
    "#Ans: Dry"
   ]
  },
  {
   "cell_type": "markdown",
   "metadata": {},
   "source": [
    "Do you feel that a **Dry** road condition should be the average of **Wet** and **Snow?**"
   ]
  },
  {
   "cell_type": "code",
   "execution_count": 17,
   "metadata": {},
   "outputs": [],
   "source": [
    "#No - these are categorical variables"
   ]
  },
  {
   "cell_type": "markdown",
   "metadata": {},
   "source": [
    "The answer to that should be *no*, which means we can't use this data as numeric data. We want a different coefficient for each of these - I want to know the impact of dry, the impact of wet, the impact of snow, all separately.\n",
    "\n",
    "Start by **replacing each code with a proper description.** I'll even include them here:\n",
    "\n",
    "* `00` - Not Applicable\n",
    "* `01`\t- Wet\n",
    "* `02`\t- Dry\n",
    "* `03`\t- Snow\n",
    "* `04`\t- Ice\n",
    "* `05`\t- Mud, Dirt, Gravel\n",
    "* `06`\t- Slush\n",
    "* `07`\t- Water (standing/moving)\n",
    "* `08`\t- Sand\n",
    "* `09`\t- Oil\n",
    "* `88`\t- Other\n",
    "* `99`\t- Unknown\n",
    "\n",
    "But watch out, pandas read the column in as numbers so they might have come through a little differently than their codes."
   ]
  },
  {
   "cell_type": "code",
   "execution_count": 18,
   "metadata": {},
   "outputs": [],
   "source": [
    "merged.SURF_COND_CODE=merged.SURF_COND_CODE.replace({\n",
    "    0.00:\"Not Applicable\",\n",
    "    1.00:\"Wet\",\n",
    "    2.00:\"Dry\",\n",
    "    3.00:\"Snow\",\n",
    "    4.00:\"Ice\",\n",
    "    5.00:\"Mud,Dirt,Gravel\",\n",
    "    6.00:\"Slush\",\n",
    "    7.00:\"Water\",\n",
    "    8.00:\"Sand\",\n",
    "    9.00:\"Oil\",\n",
    "    88.00:\"Other\",\n",
    "    99.00:np.nan,\n",
    "    6.03:\"Other\",\n",
    "    7.01:\"Other\",\n",
    "    8.05:\"Other\",\n",
    "    9.88:\"Other\"  \n",
    "})"
   ]
  },
  {
   "cell_type": "code",
   "execution_count": 19,
   "metadata": {},
   "outputs": [
    {
     "data": {
      "text/plain": [
       "Dry                619569\n",
       "Wet                147803\n",
       "Not Applicable      30921\n",
       "Snow                 9418\n",
       "Ice                  9111\n",
       "Other                3196\n",
       "Mud,Dirt,Gravel       447\n",
       "Name: SURF_COND_CODE, dtype: int64"
      ]
     },
     "execution_count": 19,
     "metadata": {},
     "output_type": "execute_result"
    }
   ],
   "source": [
    "merged.SURF_COND_CODE.value_counts()"
   ]
  },
  {
   "cell_type": "code",
   "execution_count": 20,
   "metadata": {},
   "outputs": [
    {
     "data": {
      "text/plain": [
       "Index(['REPORT_NO', 'SURF_COND_CODE', 'INJ_SEVER_CODE', 'SEX_CODE',\n",
       "       'VEHICLE_ID', 'had_fatality'],\n",
       "      dtype='object')"
      ]
     },
     "execution_count": 20,
     "metadata": {},
     "output_type": "execute_result"
    }
   ],
   "source": [
    "merged.columns"
   ]
  },
  {
   "cell_type": "markdown",
   "metadata": {},
   "source": [
    "Confirm you have 147,803 wet, and a few codes you can't understand, like `6.03` and `7.01`."
   ]
  },
  {
   "cell_type": "code",
   "execution_count": 21,
   "metadata": {},
   "outputs": [],
   "source": [
    "#Yes"
   ]
  },
  {
   "cell_type": "markdown",
   "metadata": {},
   "source": [
    "Replace the codes you don't understand with `Other`."
   ]
  },
  {
   "cell_type": "code",
   "execution_count": 22,
   "metadata": {},
   "outputs": [],
   "source": [
    "#done above"
   ]
  },
  {
   "cell_type": "markdown",
   "metadata": {},
   "source": [
    "Confirm you have 3,196 'Other'."
   ]
  },
  {
   "cell_type": "code",
   "execution_count": 23,
   "metadata": {},
   "outputs": [],
   "source": [
    "#Yes"
   ]
  },
  {
   "cell_type": "markdown",
   "metadata": {},
   "source": [
    "## One-hot encoding\n",
    "\n",
    "We're going to use `pd.get_dummies` to build a variable you'll call `surf_dummies`. Each surface condition should be a `0` or `1` as to whether it was that condition (dry, icy, wet, etc).\n",
    "\n",
    "Use a `prefix=` so we know they are **surface** conditions.\n",
    "\n",
    "You'll want to drop the column you'll use as the reference category.\n",
    "\n",
    "**Before we do this: which column works best as the reference?**"
   ]
  },
  {
   "cell_type": "markdown",
   "metadata": {},
   "source": [
    "Now build your `surf_dummies` variable."
   ]
  },
  {
   "cell_type": "code",
   "execution_count": 24,
   "metadata": {},
   "outputs": [],
   "source": [
    "#Directly joining merged\n",
    "merged=pd.get_dummies(merged.SURF_COND_CODE, prefix=\"surf_dummies\").drop(columns=\"surf_dummies_Not Applicable\").join(merged)\n"
   ]
  },
  {
   "cell_type": "markdown",
   "metadata": {},
   "source": [
    "Confirm your `surf_dummies` looks roughly like this:\n",
    "\n",
    "|surface_Ice|Surce_Mud, Dirt, Gravel|surface_Not Applicable|...|surface_Wet|\n",
    "|---|---|---|---|---|\n",
    "|0|0|0|...|0|\n",
    "|0|0|0|...|0|\n",
    "|0|0|1|...|0|\n",
    "|0|0|1|...|0|\n",
    "|0|0|0|...|1|"
   ]
  },
  {
   "cell_type": "markdown",
   "metadata": {},
   "source": [
    "## Another regression\n",
    "\n",
    "Let's run another regression to see the impact of both **sex and surface condition** on fatalities.\n",
    "\n",
    "### Build your `train_df`\n",
    "\n",
    "To build your `train_df`, I recommend doing it either of these two ways. They both first select the important columns, then add in the one-hot encoded `surf_dummies` columns.\n",
    "\n",
    "```python\n",
    "train_df = pd.DataFrame({\n",
    "    'col1': merged.col1,\n",
    "    'col2': merged.col2,\n",
    "    'col3': merged.col3,\n",
    "})\n",
    "train_df = train_df.join(surf_dummies)\n",
    "train_df = train_df.dropna()\n",
    "train_df.head()\n",
    "```\n",
    "\n",
    "or like this:\n",
    "\n",
    "```python\n",
    "train_df = train_df[['col1','col2','col3']].copy()\n",
    "train_df = train_df.join(surf_dummies)\n",
    "train_df = train_df.dropna()\n",
    "train_df.head()\n",
    "```\n",
    "\n",
    "The second one is shorter, but the first one makes it easier to use comments to remove columns later.\n"
   ]
  },
  {
   "cell_type": "code",
   "execution_count": 25,
   "metadata": {},
   "outputs": [],
   "source": [
    "train_df2=merged.copy()\n",
    "\n",
    "train_df2[\"SEX_CODE\"]=train_df2['SEX_CODE'].replace(\"U\",np.nan)\n",
    "\n",
    "train_df2=train_df2.dropna(subset=[\"SEX_CODE\"])\n",
    "train_df2=pd.get_dummies(train_df2.SEX_CODE, prefix=\"sex_\").drop(columns=[\"sex__M\"]).join(train_df2)\n"
   ]
  },
  {
   "cell_type": "code",
   "execution_count": 26,
   "metadata": {},
   "outputs": [],
   "source": [
    "train_df2=train_df2.loc[:,\"sex__F\":\"surf_dummies_Wet\"].join(train_df2.loc[:,\"had_fatality\"])"
   ]
  },
  {
   "cell_type": "code",
   "execution_count": 27,
   "metadata": {},
   "outputs": [
    {
     "data": {
      "text/plain": [
       "(815843, 8)"
      ]
     },
     "execution_count": 27,
     "metadata": {},
     "output_type": "execute_result"
    }
   ],
   "source": [
    "train_df2.shape"
   ]
  },
  {
   "cell_type": "code",
   "execution_count": 28,
   "metadata": {},
   "outputs": [
    {
     "data": {
      "text/plain": [
       "Index(['sex__F', 'surf_dummies_Dry', 'surf_dummies_Ice',\n",
       "       'surf_dummies_Mud,Dirt,Gravel', 'surf_dummies_Other',\n",
       "       'surf_dummies_Snow', 'surf_dummies_Wet', 'had_fatality'],\n",
       "      dtype='object')"
      ]
     },
     "execution_count": 28,
     "metadata": {},
     "output_type": "execute_result"
    }
   ],
   "source": [
    "train_df2.columns"
   ]
  },
  {
   "cell_type": "markdown",
   "metadata": {},
   "source": [
    "### Run your regression and check your odds ratios\n",
    "\n",
    "Actually no, wait, first - what kind of surface do you think will have the **highest fatality rate?**"
   ]
  },
  {
   "cell_type": "code",
   "execution_count": 29,
   "metadata": {},
   "outputs": [],
   "source": [
    "#Dry"
   ]
  },
  {
   "cell_type": "markdown",
   "metadata": {},
   "source": [
    "Confirm your `train_df` has 815,843 rows and 9 columns.\n",
    "\n",
    "* **Tip:** When you run your regression, if you get an error about not knowing what to do with `U`, it's because you didn't convert your sex to numbers (or if you did, you didn't do it in your original dataframe)"
   ]
  },
  {
   "cell_type": "code",
   "execution_count": 30,
   "metadata": {},
   "outputs": [],
   "source": [
    "X=train_df2.loc[:,\"sex__F\":\"surf_dummies_Wet\"]\n",
    "y=train_df2[\"had_fatality\"]\n",
    "model=LogisticRegression(C=1e9, solver=\"lbfgs\", max_iter=4000)\n",
    "result=model.fit(X,y)"
   ]
  },
  {
   "cell_type": "code",
   "execution_count": 31,
   "metadata": {},
   "outputs": [
    {
     "data": {
      "text/html": [
       "<div>\n",
       "<style scoped>\n",
       "    .dataframe tbody tr th:only-of-type {\n",
       "        vertical-align: middle;\n",
       "    }\n",
       "\n",
       "    .dataframe tbody tr th {\n",
       "        vertical-align: top;\n",
       "    }\n",
       "\n",
       "    .dataframe thead th {\n",
       "        text-align: right;\n",
       "    }\n",
       "</style>\n",
       "<table border=\"1\" class=\"dataframe\">\n",
       "  <thead>\n",
       "    <tr style=\"text-align: right;\">\n",
       "      <th></th>\n",
       "      <th>feature</th>\n",
       "      <th>co-eff</th>\n",
       "    </tr>\n",
       "  </thead>\n",
       "  <tbody>\n",
       "    <tr>\n",
       "      <th>3</th>\n",
       "      <td>surf_dummies_Mud,Dirt,Gravel</td>\n",
       "      <td>8.605214</td>\n",
       "    </tr>\n",
       "    <tr>\n",
       "      <th>4</th>\n",
       "      <td>surf_dummies_Other</td>\n",
       "      <td>5.110614</td>\n",
       "    </tr>\n",
       "    <tr>\n",
       "      <th>1</th>\n",
       "      <td>surf_dummies_Dry</td>\n",
       "      <td>2.994156</td>\n",
       "    </tr>\n",
       "    <tr>\n",
       "      <th>6</th>\n",
       "      <td>surf_dummies_Wet</td>\n",
       "      <td>2.551186</td>\n",
       "    </tr>\n",
       "    <tr>\n",
       "      <th>2</th>\n",
       "      <td>surf_dummies_Ice</td>\n",
       "      <td>1.611827</td>\n",
       "    </tr>\n",
       "    <tr>\n",
       "      <th>5</th>\n",
       "      <td>surf_dummies_Snow</td>\n",
       "      <td>1.465479</td>\n",
       "    </tr>\n",
       "    <tr>\n",
       "      <th>0</th>\n",
       "      <td>sex__F</td>\n",
       "      <td>0.488427</td>\n",
       "    </tr>\n",
       "  </tbody>\n",
       "</table>\n",
       "</div>"
      ],
      "text/plain": [
       "                        feature    co-eff\n",
       "3  surf_dummies_Mud,Dirt,Gravel  8.605214\n",
       "4            surf_dummies_Other  5.110614\n",
       "1              surf_dummies_Dry  2.994156\n",
       "6              surf_dummies_Wet  2.551186\n",
       "2              surf_dummies_Ice  1.611827\n",
       "5             surf_dummies_Snow  1.465479\n",
       "0                        sex__F  0.488427"
      ]
     },
     "execution_count": 31,
     "metadata": {},
     "output_type": "execute_result"
    }
   ],
   "source": [
    "pd.DataFrame({\n",
    "    \"feature\":X.columns,\n",
    "    \"co-eff\":np.exp(result.coef_[0])\n",
    "}).sort_values(by=\"co-eff\", ascending=False)"
   ]
  },
  {
   "cell_type": "markdown",
   "metadata": {},
   "source": [
    "**Is this what you expected?** Why do you think this result might be the case?"
   ]
  },
  {
   "cell_type": "code",
   "execution_count": 32,
   "metadata": {},
   "outputs": [],
   "source": [
    "# Yes, because the regression results show that the surface condition is more relevant in predicting fatalities as compared to \n",
    "##sex.\n",
    "\n",
    "# No, because with value_counts,one would expect a dry surface to have caused more accidents. However, unlike probability,\n",
    "## odds-ratio measures the likelihood of an accident occuring on a dry surface as compared to accidents not occuring on \n",
    "## a dry surface. Dry surface pops up in your value counts, simply because of the absolute number of accidents on dry surfaces.\n",
    "## However, the regression shows that there are simply more cars being driven on dry surfaces. Accidents are more likely to\n",
    "## occur on mud, dirt and gravel surfaces."
   ]
  },
  {
   "cell_type": "markdown",
   "metadata": {},
   "source": [
    "# More features: Vehicles\n",
    "\n",
    "Maybe the car they're in is related to the car they were in. Luckily, we have this information - **read in `combined_vehicle_data` as `vehicles`.**"
   ]
  },
  {
   "cell_type": "code",
   "execution_count": 33,
   "metadata": {},
   "outputs": [],
   "source": [
    "#Only importing a few columns to save memory\n",
    "vehicles=pd.read_csv(\"combined-vehicle-data.csv\", usecols=[\"VIN_NO\",\"VEHICLE_ID\",\"REPORT_NO\",\"SPEED_LIMIT\",\"BODY_TYPE_CODE\"])"
   ]
  },
  {
   "cell_type": "markdown",
   "metadata": {},
   "source": [
    "## Weights of those cars\n",
    "\n",
    "The car weights are stored in **another file** since the info had to come from an API. I looked up the VINs - vehicle identification numbers - in a government database to try to get data for each of them.\n",
    "\n",
    "**Read them and build a new dataframe that is both the vehicle data along with their weights.** You can call it `vehicles` since you don't need the original weightless vehicle data any more."
   ]
  },
  {
   "cell_type": "code",
   "execution_count": 34,
   "metadata": {},
   "outputs": [],
   "source": [
    "vehicles=pd.read_csv(\"vins_and_weights.csv\").merge(vehicles, left_on=\"VIN\", right_on=\"VIN_NO\")"
   ]
  },
  {
   "cell_type": "code",
   "execution_count": 35,
   "metadata": {},
   "outputs": [
    {
     "data": {
      "text/plain": [
       "(534436, 10)"
      ]
     },
     "execution_count": 35,
     "metadata": {},
     "output_type": "execute_result"
    }
   ],
   "source": [
    "vehicles.shape"
   ]
  },
  {
   "cell_type": "markdown",
   "metadata": {},
   "source": [
    "Confirm that your combined `vehicles` dataset should have 534,436 rows and 35 columns. And yes, that's less than we were working with before - you haven't combined it with the people/crashes dataset yet."
   ]
  },
  {
   "cell_type": "code",
   "execution_count": 36,
   "metadata": {},
   "outputs": [],
   "source": [
    "#Yes, except columns - I only imported a few"
   ]
  },
  {
   "cell_type": "markdown",
   "metadata": {},
   "source": [
    "### Filter your data\n",
    "\n",
    "We only want vehicles that are \"normal\" - somewhere between 1500 and 6000 pounds. Filter your vehicles to only include those in that weight range."
   ]
  },
  {
   "cell_type": "code",
   "execution_count": 37,
   "metadata": {},
   "outputs": [],
   "source": [
    "vehicles=vehicles[(vehicles[\"weight\"]>=1500) & (vehicles[\"weight\"]<=6000)]"
   ]
  },
  {
   "cell_type": "markdown",
   "metadata": {},
   "source": [
    "Confirm that you have 532,370 vehicles in the dataset."
   ]
  },
  {
   "cell_type": "code",
   "execution_count": 38,
   "metadata": {},
   "outputs": [
    {
     "data": {
      "text/plain": [
       "(532370, 10)"
      ]
     },
     "execution_count": 38,
     "metadata": {},
     "output_type": "execute_result"
    }
   ],
   "source": [
    "vehicles.shape\n",
    "#Yes"
   ]
  },
  {
   "cell_type": "markdown",
   "metadata": {},
   "source": [
    "## Add this vehicle information to your merged data\n",
    "\n",
    "Now we'll have a dataframe that contains information on:\n",
    "\n",
    "* The people themselves and their injuries\n",
    "* The crash\n",
    "* The vehicles\n",
    "\n",
    "Every person came with a `VEHICLE_ID` column that is the vehicle they were in. You'll want to merge on that."
   ]
  },
  {
   "cell_type": "markdown",
   "metadata": {},
   "source": [
    "Confirm you have 99 columns and 616,212 rows. **That is a lot of possible features!**"
   ]
  },
  {
   "cell_type": "code",
   "execution_count": 39,
   "metadata": {},
   "outputs": [],
   "source": [
    "merged_df2=merged.merge(vehicles, on=\"VEHICLE_ID\", indicator=True)\n"
   ]
  },
  {
   "cell_type": "markdown",
   "metadata": {},
   "source": [
    "## Another regression, because we can't get enough\n",
    "\n",
    "Build another `train_df` and run another regression about **how car weight impacts the chance of fatalities**. You'll want to confirm that your dataset has 616,212 and 2 columns."
   ]
  },
  {
   "cell_type": "code",
   "execution_count": 40,
   "metadata": {},
   "outputs": [],
   "source": [
    "train_df3=merged_df2[[\"weight\",\"had_fatality\"]]"
   ]
  },
  {
   "cell_type": "code",
   "execution_count": 41,
   "metadata": {},
   "outputs": [
    {
     "data": {
      "text/plain": [
       "(616212, 2)"
      ]
     },
     "execution_count": 41,
     "metadata": {},
     "output_type": "execute_result"
    }
   ],
   "source": [
    "train_df3.shape\n",
    "#Yes"
   ]
  },
  {
   "cell_type": "code",
   "execution_count": 42,
   "metadata": {},
   "outputs": [],
   "source": [
    "X=train_df3[[\"weight\"]]\n",
    "y=train_df3[\"had_fatality\"]\n",
    "model=LogisticRegression(C=1e9, solver=\"lbfgs\",max_iter=4000)\n",
    "result=model.fit(X,y)"
   ]
  },
  {
   "cell_type": "code",
   "execution_count": 43,
   "metadata": {},
   "outputs": [
    {
     "data": {
      "text/plain": [
       "(array([1.66800e+04, 2.50090e+04, 6.77870e+04, 7.38000e+04, 1.00107e+05,\n",
       "        1.72279e+05, 9.75380e+04, 5.71270e+04, 5.71900e+03, 1.66000e+02]),\n",
       " array([0.00092499, 0.0010059 , 0.0010868 , 0.00116771, 0.00124861,\n",
       "        0.00132952, 0.00141042, 0.00149133, 0.00157223, 0.00165314,\n",
       "        0.00173404]),\n",
       " <a list of 10 Patch objects>)"
      ]
     },
     "execution_count": 43,
     "metadata": {},
     "output_type": "execute_result"
    },
    {
     "data": {
      "image/png": "[encoded data removed]",
      "text/plain": [
       "<Figure size 432x288 with 1 Axes>"
      ]
     },
     "metadata": {
      "needs_background": "light"
     },
     "output_type": "display_data"
    }
   ],
   "source": [
    "plt.hist(result.predict_proba(X)[:,1])"
   ]
  },
  {
   "cell_type": "code",
   "execution_count": 44,
   "metadata": {},
   "outputs": [
    {
     "data": {
      "text/html": [
       "<div>\n",
       "<style scoped>\n",
       "    .dataframe tbody tr th:only-of-type {\n",
       "        vertical-align: middle;\n",
       "    }\n",
       "\n",
       "    .dataframe tbody tr th {\n",
       "        vertical-align: top;\n",
       "    }\n",
       "\n",
       "    .dataframe thead th {\n",
       "        text-align: right;\n",
       "    }\n",
       "</style>\n",
       "<table border=\"1\" class=\"dataframe\">\n",
       "  <thead>\n",
       "    <tr style=\"text-align: right;\">\n",
       "      <th></th>\n",
       "      <th>feature</th>\n",
       "      <th>co-eff</th>\n",
       "    </tr>\n",
       "  </thead>\n",
       "  <tbody>\n",
       "    <tr>\n",
       "      <th>0</th>\n",
       "      <td>weight</td>\n",
       "      <td>0.999853</td>\n",
       "    </tr>\n",
       "  </tbody>\n",
       "</table>\n",
       "</div>"
      ],
      "text/plain": [
       "  feature    co-eff\n",
       "0  weight  0.999853"
      ]
     },
     "execution_count": 44,
     "metadata": {},
     "output_type": "execute_result"
    }
   ],
   "source": [
    "pd.DataFrame({\n",
    "    \"feature\":X.columns,\n",
    "    \"co-eff\":np.exp(result.coef_[0])\n",
    "})\n"
   ]
  },
  {
   "cell_type": "markdown",
   "metadata": {},
   "source": [
    "**Can you translate that into plain English?** Remember weight is in **pounds**."
   ]
  },
  {
   "cell_type": "code",
   "execution_count": 54,
   "metadata": {},
   "outputs": [],
   "source": [
    "#For every pound increase in the weight of the car, the odds of a fatality occuring is 1% less. "
   ]
  },
  {
   "cell_type": "markdown",
   "metadata": {},
   "source": [
    "I feel like pounds isn't the best measure for something like this. Remember how we had to adjust percentages with AP and life expecntancy, and then change around the way we said things? It sounded like this:\n",
    "\n",
    "> Every 10% increase in unemployment translates to a year and a half loss of life expectancy\n",
    "\n",
    "Instead of every single pound, maybe we could do every... some other number of pounds? One hundred? One thousand?\n",
    "\n",
    "**Run another regression with weight in thousands of pounds.** Get another odds ratio. Give me another sentence English."
   ]
  },
  {
   "cell_type": "code",
   "execution_count": 55,
   "metadata": {},
   "outputs": [
    {
     "name": "stderr",
     "output_type": "stream",
     "text": [
      "C:\\Users\\Anuja\\AppData\\Local\\Programs\\Python\\Python37-32\\lib\\site-packages\\ipykernel_launcher.py:4: SettingWithCopyWarning: \n",
      "A value is trying to be set on a copy of a slice from a DataFrame.\n",
      "Try using .loc[row_indexer,col_indexer] = value instead\n",
      "\n",
      "See the caveats in the documentation: http://pandas.pydata.org/pandas-docs/stable/indexing.html#indexing-view-versus-copy\n",
      "  after removing the cwd from sys.path.\n"
     ]
    },
    {
     "data": {
      "text/html": [
       "<div>\n",
       "<style scoped>\n",
       "    .dataframe tbody tr th:only-of-type {\n",
       "        vertical-align: middle;\n",
       "    }\n",
       "\n",
       "    .dataframe tbody tr th {\n",
       "        vertical-align: top;\n",
       "    }\n",
       "\n",
       "    .dataframe thead th {\n",
       "        text-align: right;\n",
       "    }\n",
       "</style>\n",
       "<table border=\"1\" class=\"dataframe\">\n",
       "  <thead>\n",
       "    <tr style=\"text-align: right;\">\n",
       "      <th></th>\n",
       "      <th>feature</th>\n",
       "      <th>co-eff</th>\n",
       "    </tr>\n",
       "  </thead>\n",
       "  <tbody>\n",
       "    <tr>\n",
       "      <th>0</th>\n",
       "      <td>weight</td>\n",
       "      <td>0.863397</td>\n",
       "    </tr>\n",
       "  </tbody>\n",
       "</table>\n",
       "</div>"
      ],
      "text/plain": [
       "  feature    co-eff\n",
       "0  weight  0.863397"
      ]
     },
     "execution_count": 55,
     "metadata": {},
     "output_type": "execute_result"
    }
   ],
   "source": [
    "#Note: \n",
    "\n",
    "X1=train_df3[[\"weight\"]]\n",
    "X1[\"weight\"]=X1[\"weight\"]/1000\n",
    "y=train_df3[\"had_fatality\"]\n",
    "\n",
    "model=LogisticRegression(C=1e9, solver=\"lbfgs\",max_iter=4000)\n",
    "results=model.fit(X1,y)\n",
    "\n",
    "pd.DataFrame({\n",
    "    \"feature\":X1.columns,\n",
    "    \"co-eff\":np.exp(results.coef_[0])\n",
    "})"
   ]
  },
  {
   "cell_type": "code",
   "execution_count": 56,
   "metadata": {},
   "outputs": [],
   "source": [
    "# Every thousand pounds heavier your car is increase translates to a 15% decrease in fatalities\n",
    "##Yes"
   ]
  },
  {
   "cell_type": "markdown",
   "metadata": {},
   "source": [
    "# Two-car accidents, struck and striker\n",
    "\n",
    "Here's the thing, though: **it isn't just the weight of your car.** It's the weight of both cars! If I'm in a big car and I have a wreck with a smaller car, it's the smaller car that's in trouble.\n",
    "\n",
    "To get that value, we need to do some **feature engineering**, some calculating of *new* variables from our *existing* variables.\n",
    "\n",
    "We need to jump through some hoops to do that.\n",
    "\n",
    "##  Two-car accidents\n",
    "\n",
    "First we're going to count how many vehicles were in each accident. Since we're looking to compare the weight of two cars hitting each other, **we're only going to want crashes with only two cars.**"
   ]
  },
  {
   "cell_type": "code",
   "execution_count": 57,
   "metadata": {},
   "outputs": [
    {
     "data": {
      "text/plain": [
       "CB53480003      28\n",
       "MDTA1229000H    26\n",
       "AS0286000B      14\n",
       "CE4636002C      14\n",
       "MSP67460095     13\n",
       "MSP6063006C     13\n",
       "MSP63070049     12\n",
       "AE5607002W      12\n",
       "CC0237003W      12\n",
       "DA3276000V      11\n",
       "Name: REPORT_NO, dtype: int64"
      ]
     },
     "execution_count": 57,
     "metadata": {},
     "output_type": "execute_result"
    }
   ],
   "source": [
    "counted=vehicles.REPORT_NO.value_counts()\n",
    "counted.head(10)"
   ]
  },
  {
   "cell_type": "markdown",
   "metadata": {},
   "source": [
    "By using `.value_counts` I can see how many cars were in each crash, and now I'm going to filter to get a list of all of the ones with two vehicles."
   ]
  },
  {
   "cell_type": "code",
   "execution_count": 58,
   "metadata": {},
   "outputs": [
    {
     "data": {
      "text/plain": [
       "Index(['MSP56310050', 'AE5714002M', 'ADE459000Q', 'AE4538001N', 'MCP2582001R',\n",
       "       'MSP6062003W', 'MSP0848000L', 'DA3871002M', 'MCP21980041',\n",
       "       'MSP5656003Y',\n",
       "       ...\n",
       "       'ZJ0466000L', 'MSP6548002G', 'ADJ1970003', 'DA34130011', 'ZG09770004',\n",
       "       'AE4424000J', 'HM0137000R', 'DA30510004', 'AE4851002R', 'AE4124007P'],\n",
       "      dtype='object', length=137214)"
      ]
     },
     "execution_count": 58,
     "metadata": {},
     "output_type": "execute_result"
    }
   ],
   "source": [
    "two_car_report_nos = counted[counted == 2].index\n",
    "two_car_report_nos"
   ]
  },
  {
   "cell_type": "markdown",
   "metadata": {},
   "source": [
    "And now we'll filter my vehicles so we only have those that were in two-vehicle crashes."
   ]
  },
  {
   "cell_type": "code",
   "execution_count": 59,
   "metadata": {},
   "outputs": [
    {
     "data": {
      "text/html": [
       "<div>\n",
       "<style scoped>\n",
       "    .dataframe tbody tr th:only-of-type {\n",
       "        vertical-align: middle;\n",
       "    }\n",
       "\n",
       "    .dataframe tbody tr th {\n",
       "        vertical-align: top;\n",
       "    }\n",
       "\n",
       "    .dataframe thead th {\n",
       "        text-align: right;\n",
       "    }\n",
       "</style>\n",
       "<table border=\"1\" class=\"dataframe\">\n",
       "  <thead>\n",
       "    <tr style=\"text-align: right;\">\n",
       "      <th></th>\n",
       "      <th>VIN</th>\n",
       "      <th>Make</th>\n",
       "      <th>Model</th>\n",
       "      <th>ModelYear</th>\n",
       "      <th>weight</th>\n",
       "      <th>BODY_TYPE_CODE</th>\n",
       "      <th>REPORT_NO</th>\n",
       "      <th>SPEED_LIMIT</th>\n",
       "      <th>VEHICLE_ID</th>\n",
       "      <th>VIN_NO</th>\n",
       "    </tr>\n",
       "  </thead>\n",
       "  <tbody>\n",
       "    <tr>\n",
       "      <th>1</th>\n",
       "      <td>2G1WC5E37E1120089</td>\n",
       "      <td>CHEVROLET</td>\n",
       "      <td>IMPALA</td>\n",
       "      <td>2014</td>\n",
       "      <td>3618.0</td>\n",
       "      <td>2.00</td>\n",
       "      <td>ADJ268000T</td>\n",
       "      <td>25</td>\n",
       "      <td>ff6bfb11-c56a-495f-a750-5bcded4c1322</td>\n",
       "      <td>2G1WC5E37E1120089</td>\n",
       "    </tr>\n",
       "    <tr>\n",
       "      <th>2</th>\n",
       "      <td>5J6RE4H55AL053951</td>\n",
       "      <td>HONDA</td>\n",
       "      <td>CR-V</td>\n",
       "      <td>2010</td>\n",
       "      <td>3389.0</td>\n",
       "      <td>23.08</td>\n",
       "      <td>ADJ6580018</td>\n",
       "      <td>25</td>\n",
       "      <td>ff6d4345-edc5-46ad-b83e-4460694eae5f</td>\n",
       "      <td>5J6RE4H55AL053951</td>\n",
       "    </tr>\n",
       "    <tr>\n",
       "      <th>5</th>\n",
       "      <td>JTHCK262075010440</td>\n",
       "      <td>LEXUS</td>\n",
       "      <td>IS</td>\n",
       "      <td>2007</td>\n",
       "      <td>3527.0</td>\n",
       "      <td>2.00</td>\n",
       "      <td>AE57500027</td>\n",
       "      <td>30</td>\n",
       "      <td>b13fe432-8f69-442b-b4e1-471ae18de9eb</td>\n",
       "      <td>JTHCK262075010440</td>\n",
       "    </tr>\n",
       "    <tr>\n",
       "      <th>6</th>\n",
       "      <td>1N4AL2AP2CN414560</td>\n",
       "      <td>NISSAN</td>\n",
       "      <td>ALTIMA</td>\n",
       "      <td>2012</td>\n",
       "      <td>3189.0</td>\n",
       "      <td>2.00</td>\n",
       "      <td>AJ01220010</td>\n",
       "      <td>35</td>\n",
       "      <td>ff725f1b-501d-4191-b0a1-7e7867069f5d</td>\n",
       "      <td>1N4AL2AP2CN414560</td>\n",
       "    </tr>\n",
       "    <tr>\n",
       "      <th>8</th>\n",
       "      <td>5FNYF4H58DB014518</td>\n",
       "      <td>HONDA</td>\n",
       "      <td>PILOT</td>\n",
       "      <td>2013</td>\n",
       "      <td>4306.0</td>\n",
       "      <td>23.08</td>\n",
       "      <td>AE54190042</td>\n",
       "      <td>30</td>\n",
       "      <td>ff79ce6b-c568-4b4c-9c9d-90bf51be1fac</td>\n",
       "      <td>5FNYF4H58DB014518</td>\n",
       "    </tr>\n",
       "  </tbody>\n",
       "</table>\n",
       "</div>"
      ],
      "text/plain": [
       "                 VIN       Make   Model  ModelYear  weight  BODY_TYPE_CODE  \\\n",
       "1  2G1WC5E37E1120089  CHEVROLET  IMPALA       2014  3618.0            2.00   \n",
       "2  5J6RE4H55AL053951      HONDA    CR-V       2010  3389.0           23.08   \n",
       "5  JTHCK262075010440      LEXUS      IS       2007  3527.0            2.00   \n",
       "6  1N4AL2AP2CN414560     NISSAN  ALTIMA       2012  3189.0            2.00   \n",
       "8  5FNYF4H58DB014518      HONDA   PILOT       2013  4306.0           23.08   \n",
       "\n",
       "    REPORT_NO  SPEED_LIMIT                            VEHICLE_ID  \\\n",
       "1  ADJ268000T           25  ff6bfb11-c56a-495f-a750-5bcded4c1322   \n",
       "2  ADJ6580018           25  ff6d4345-edc5-46ad-b83e-4460694eae5f   \n",
       "5  AE57500027           30  b13fe432-8f69-442b-b4e1-471ae18de9eb   \n",
       "6  AJ01220010           35  ff725f1b-501d-4191-b0a1-7e7867069f5d   \n",
       "8  AE54190042           30  ff79ce6b-c568-4b4c-9c9d-90bf51be1fac   \n",
       "\n",
       "              VIN_NO  \n",
       "1  2G1WC5E37E1120089  \n",
       "2  5J6RE4H55AL053951  \n",
       "5  JTHCK262075010440  \n",
       "6  1N4AL2AP2CN414560  \n",
       "8  5FNYF4H58DB014518  "
      ]
     },
     "execution_count": 59,
     "metadata": {},
     "output_type": "execute_result"
    }
   ],
   "source": [
    "vehicles = vehicles[vehicles.REPORT_NO.isin(two_car_report_nos)]\n",
    "vehicles.head()"
   ]
  },
  {
   "cell_type": "markdown",
   "metadata": {},
   "source": [
    "### Struck and striker\n",
    "\n",
    "To do the math correctly, we need both the risk of someone dying in the smaller car _and_ the risk of someone dying in the bigger car. To do this we need to separate our cars into two groups:\n",
    "\n",
    "* The 'struck' vehicle: did the person die inside?\n",
    "* The 'striker' vehicle: how much heavier was it than the struck car?\n",
    "\n",
    "But we don't know which car was which, so we have to try out both versions - pretending car A was the striker, then pretending car B was the striker. It's hard to explain, but you can read `Pounds That Kill - The External Costs of Vehicle Weight.pdf` for more details on how it works."
   ]
  },
  {
   "cell_type": "code",
   "execution_count": 60,
   "metadata": {},
   "outputs": [],
   "source": [
    "cars_1 = vehicles.drop_duplicates(subset='REPORT_NO', keep='first')\n",
    "cars_2 = vehicles.drop_duplicates(subset='REPORT_NO', keep='last')"
   ]
  },
  {
   "cell_type": "code",
   "execution_count": 61,
   "metadata": {},
   "outputs": [
    {
     "data": {
      "text/html": [
       "<div>\n",
       "<style scoped>\n",
       "    .dataframe tbody tr th:only-of-type {\n",
       "        vertical-align: middle;\n",
       "    }\n",
       "\n",
       "    .dataframe tbody tr th {\n",
       "        vertical-align: top;\n",
       "    }\n",
       "\n",
       "    .dataframe thead th {\n",
       "        text-align: right;\n",
       "    }\n",
       "</style>\n",
       "<table border=\"1\" class=\"dataframe\">\n",
       "  <thead>\n",
       "    <tr style=\"text-align: right;\">\n",
       "      <th></th>\n",
       "      <th>VIN_striker</th>\n",
       "      <th>Make_striker</th>\n",
       "      <th>Model_striker</th>\n",
       "      <th>ModelYear_striker</th>\n",
       "      <th>weight_striker</th>\n",
       "      <th>BODY_TYPE_CODE_striker</th>\n",
       "      <th>REPORT_NO</th>\n",
       "      <th>SPEED_LIMIT_striker</th>\n",
       "      <th>VEHICLE_ID_striker</th>\n",
       "      <th>VIN_NO_striker</th>\n",
       "      <th>VIN_struck</th>\n",
       "      <th>Make_struck</th>\n",
       "      <th>Model_struck</th>\n",
       "      <th>ModelYear_struck</th>\n",
       "      <th>weight_struck</th>\n",
       "      <th>BODY_TYPE_CODE_struck</th>\n",
       "      <th>SPEED_LIMIT_struck</th>\n",
       "      <th>VEHICLE_ID_struck</th>\n",
       "      <th>VIN_NO_struck</th>\n",
       "    </tr>\n",
       "  </thead>\n",
       "  <tbody>\n",
       "    <tr>\n",
       "      <th>0</th>\n",
       "      <td>2G1WC5E37E1120089</td>\n",
       "      <td>CHEVROLET</td>\n",
       "      <td>IMPALA</td>\n",
       "      <td>2014</td>\n",
       "      <td>3618.0</td>\n",
       "      <td>2.00</td>\n",
       "      <td>ADJ268000T</td>\n",
       "      <td>25</td>\n",
       "      <td>ff6bfb11-c56a-495f-a750-5bcded4c1322</td>\n",
       "      <td>2G1WC5E37E1120089</td>\n",
       "      <td>JH4KA96624C006147</td>\n",
       "      <td>ACURA</td>\n",
       "      <td>RL</td>\n",
       "      <td>2004</td>\n",
       "      <td>3920.0</td>\n",
       "      <td>2.0</td>\n",
       "      <td>5</td>\n",
       "      <td>d6679a90-7ded-412d-91c1-9eedae56685c</td>\n",
       "      <td>JH4KA96624C006147</td>\n",
       "    </tr>\n",
       "    <tr>\n",
       "      <th>1</th>\n",
       "      <td>5J6RE4H55AL053951</td>\n",
       "      <td>HONDA</td>\n",
       "      <td>CR-V</td>\n",
       "      <td>2010</td>\n",
       "      <td>3389.0</td>\n",
       "      <td>23.08</td>\n",
       "      <td>ADJ6580018</td>\n",
       "      <td>25</td>\n",
       "      <td>ff6d4345-edc5-46ad-b83e-4460694eae5f</td>\n",
       "      <td>5J6RE4H55AL053951</td>\n",
       "      <td>JNKCV54E44M821620</td>\n",
       "      <td>INFINITI</td>\n",
       "      <td>G35</td>\n",
       "      <td>2004</td>\n",
       "      <td>3468.0</td>\n",
       "      <td>2.0</td>\n",
       "      <td>25</td>\n",
       "      <td>0ccc2fb4-d893-4e2e-afe5-51324a649bb4</td>\n",
       "      <td>JNKCV54E44M821620</td>\n",
       "    </tr>\n",
       "    <tr>\n",
       "      <th>2</th>\n",
       "      <td>JTHCK262075010440</td>\n",
       "      <td>LEXUS</td>\n",
       "      <td>IS</td>\n",
       "      <td>2007</td>\n",
       "      <td>3527.0</td>\n",
       "      <td>2.00</td>\n",
       "      <td>AE57500027</td>\n",
       "      <td>30</td>\n",
       "      <td>b13fe432-8f69-442b-b4e1-471ae18de9eb</td>\n",
       "      <td>JTHCK262075010440</td>\n",
       "      <td>1N6ED27Y91C303504</td>\n",
       "      <td>NISSAN</td>\n",
       "      <td>FRONTIER</td>\n",
       "      <td>2001</td>\n",
       "      <td>3137.0</td>\n",
       "      <td>20.0</td>\n",
       "      <td>30</td>\n",
       "      <td>2eb314a9-eef4-4c65-a413-209f919fcdb5</td>\n",
       "      <td>1N6ED27Y91C303504</td>\n",
       "    </tr>\n",
       "    <tr>\n",
       "      <th>3</th>\n",
       "      <td>1N4AL2AP2CN414560</td>\n",
       "      <td>NISSAN</td>\n",
       "      <td>ALTIMA</td>\n",
       "      <td>2012</td>\n",
       "      <td>3189.0</td>\n",
       "      <td>2.00</td>\n",
       "      <td>AJ01220010</td>\n",
       "      <td>35</td>\n",
       "      <td>ff725f1b-501d-4191-b0a1-7e7867069f5d</td>\n",
       "      <td>1N4AL2AP2CN414560</td>\n",
       "      <td>5NPEC4AC2BH142305</td>\n",
       "      <td>HYUNDAI</td>\n",
       "      <td>SONATA</td>\n",
       "      <td>2011</td>\n",
       "      <td>3199.0</td>\n",
       "      <td>2.0</td>\n",
       "      <td>35</td>\n",
       "      <td>d0e83934-f5ac-4aa9-ae73-c21b2618aec5</td>\n",
       "      <td>5NPEC4AC2BH142305</td>\n",
       "    </tr>\n",
       "    <tr>\n",
       "      <th>4</th>\n",
       "      <td>5FNYF4H58DB014518</td>\n",
       "      <td>HONDA</td>\n",
       "      <td>PILOT</td>\n",
       "      <td>2013</td>\n",
       "      <td>4306.0</td>\n",
       "      <td>23.08</td>\n",
       "      <td>AE54190042</td>\n",
       "      <td>30</td>\n",
       "      <td>ff79ce6b-c568-4b4c-9c9d-90bf51be1fac</td>\n",
       "      <td>5FNYF4H58DB014518</td>\n",
       "      <td>4T1BE32K25U986105</td>\n",
       "      <td>TOYOTA</td>\n",
       "      <td>CAMRY</td>\n",
       "      <td>2005</td>\n",
       "      <td>3450.0</td>\n",
       "      <td>2.0</td>\n",
       "      <td>30</td>\n",
       "      <td>503879b1-d51a-403c-98b5-195d890ad1de</td>\n",
       "      <td>4T1BE32K25U986105</td>\n",
       "    </tr>\n",
       "  </tbody>\n",
       "</table>\n",
       "</div>"
      ],
      "text/plain": [
       "         VIN_striker Make_striker Model_striker  ModelYear_striker  \\\n",
       "0  2G1WC5E37E1120089    CHEVROLET        IMPALA               2014   \n",
       "1  5J6RE4H55AL053951        HONDA          CR-V               2010   \n",
       "2  JTHCK262075010440        LEXUS            IS               2007   \n",
       "3  1N4AL2AP2CN414560       NISSAN        ALTIMA               2012   \n",
       "4  5FNYF4H58DB014518        HONDA         PILOT               2013   \n",
       "\n",
       "   weight_striker  BODY_TYPE_CODE_striker   REPORT_NO  SPEED_LIMIT_striker  \\\n",
       "0          3618.0                    2.00  ADJ268000T                   25   \n",
       "1          3389.0                   23.08  ADJ6580018                   25   \n",
       "2          3527.0                    2.00  AE57500027                   30   \n",
       "3          3189.0                    2.00  AJ01220010                   35   \n",
       "4          4306.0                   23.08  AE54190042                   30   \n",
       "\n",
       "                     VEHICLE_ID_striker     VIN_NO_striker         VIN_struck  \\\n",
       "0  ff6bfb11-c56a-495f-a750-5bcded4c1322  2G1WC5E37E1120089  JH4KA96624C006147   \n",
       "1  ff6d4345-edc5-46ad-b83e-4460694eae5f  5J6RE4H55AL053951  JNKCV54E44M821620   \n",
       "2  b13fe432-8f69-442b-b4e1-471ae18de9eb  JTHCK262075010440  1N6ED27Y91C303504   \n",
       "3  ff725f1b-501d-4191-b0a1-7e7867069f5d  1N4AL2AP2CN414560  5NPEC4AC2BH142305   \n",
       "4  ff79ce6b-c568-4b4c-9c9d-90bf51be1fac  5FNYF4H58DB014518  4T1BE32K25U986105   \n",
       "\n",
       "  Make_struck Model_struck  ModelYear_struck  weight_struck  \\\n",
       "0       ACURA           RL              2004         3920.0   \n",
       "1    INFINITI          G35              2004         3468.0   \n",
       "2      NISSAN     FRONTIER              2001         3137.0   \n",
       "3     HYUNDAI       SONATA              2011         3199.0   \n",
       "4      TOYOTA        CAMRY              2005         3450.0   \n",
       "\n",
       "   BODY_TYPE_CODE_struck  SPEED_LIMIT_struck  \\\n",
       "0                    2.0                   5   \n",
       "1                    2.0                  25   \n",
       "2                   20.0                  30   \n",
       "3                    2.0                  35   \n",
       "4                    2.0                  30   \n",
       "\n",
       "                      VEHICLE_ID_struck      VIN_NO_struck  \n",
       "0  d6679a90-7ded-412d-91c1-9eedae56685c  JH4KA96624C006147  \n",
       "1  0ccc2fb4-d893-4e2e-afe5-51324a649bb4  JNKCV54E44M821620  \n",
       "2  2eb314a9-eef4-4c65-a413-209f919fcdb5  1N6ED27Y91C303504  \n",
       "3  d0e83934-f5ac-4aa9-ae73-c21b2618aec5  5NPEC4AC2BH142305  \n",
       "4  503879b1-d51a-403c-98b5-195d890ad1de  4T1BE32K25U986105  "
      ]
     },
     "execution_count": 61,
     "metadata": {},
     "output_type": "execute_result"
    }
   ],
   "source": [
    "cars_merged_1 = cars_1.merge(cars_2, on='REPORT_NO', suffixes=['_striker', '_struck'])\n",
    "cars_merged_2 = cars_2.merge(cars_1, on='REPORT_NO', suffixes=['_striker', '_struck'])\n",
    "vehicles_complete = pd.concat([cars_merged_1, cars_merged_2])\n",
    "vehicles_complete.head()\n"
   ]
  },
  {
   "cell_type": "markdown",
   "metadata": {},
   "source": [
    "## Put people in their cars\n",
    "\n",
    "Which car was each person in? We'll assign that now."
   ]
  },
  {
   "cell_type": "code",
   "execution_count": 62,
   "metadata": {},
   "outputs": [
    {
     "data": {
      "text/html": [
       "<div>\n",
       "<style scoped>\n",
       "    .dataframe tbody tr th:only-of-type {\n",
       "        vertical-align: middle;\n",
       "    }\n",
       "\n",
       "    .dataframe tbody tr th {\n",
       "        vertical-align: top;\n",
       "    }\n",
       "\n",
       "    .dataframe thead th {\n",
       "        text-align: right;\n",
       "    }\n",
       "</style>\n",
       "<table border=\"1\" class=\"dataframe\">\n",
       "  <thead>\n",
       "    <tr style=\"text-align: right;\">\n",
       "      <th></th>\n",
       "      <th>INJ_SEVER_CODE</th>\n",
       "      <th>REPORT_NO_x</th>\n",
       "      <th>SEX_CODE</th>\n",
       "      <th>VEHICLE_ID</th>\n",
       "      <th>had_fatality</th>\n",
       "      <th>VIN_striker</th>\n",
       "      <th>Make_striker</th>\n",
       "      <th>Model_striker</th>\n",
       "      <th>ModelYear_striker</th>\n",
       "      <th>weight_striker</th>\n",
       "      <th>BODY_TYPE_CODE_striker</th>\n",
       "      <th>REPORT_NO_y</th>\n",
       "      <th>SPEED_LIMIT_striker</th>\n",
       "      <th>VEHICLE_ID_striker</th>\n",
       "      <th>VIN_NO_striker</th>\n",
       "      <th>VIN_struck</th>\n",
       "      <th>Make_struck</th>\n",
       "      <th>Model_struck</th>\n",
       "      <th>ModelYear_struck</th>\n",
       "      <th>weight_struck</th>\n",
       "      <th>BODY_TYPE_CODE_struck</th>\n",
       "      <th>SPEED_LIMIT_struck</th>\n",
       "      <th>VEHICLE_ID_struck</th>\n",
       "      <th>VIN_NO_struck</th>\n",
       "    </tr>\n",
       "  </thead>\n",
       "  <tbody>\n",
       "    <tr>\n",
       "      <th>0</th>\n",
       "      <td>1</td>\n",
       "      <td>AB4313000X</td>\n",
       "      <td>F</td>\n",
       "      <td>b463eb20-2f01-4200-9d6f-b18888ce2593</td>\n",
       "      <td>0</td>\n",
       "      <td>2T2HA31U24C031048</td>\n",
       "      <td>LEXUS</td>\n",
       "      <td>RX</td>\n",
       "      <td>2004</td>\n",
       "      <td>3900.0</td>\n",
       "      <td>2.0</td>\n",
       "      <td>AB4313000X</td>\n",
       "      <td>25</td>\n",
       "      <td>3c8629d0-d524-47c1-bfbc-b18e07f3087e</td>\n",
       "      <td>2T2HA31U24C031048</td>\n",
       "      <td>2CNDL13F576252855</td>\n",
       "      <td>CHEVROLET</td>\n",
       "      <td>EQUINOX</td>\n",
       "      <td>2007</td>\n",
       "      <td>3776.0</td>\n",
       "      <td>2.00</td>\n",
       "      <td>25</td>\n",
       "      <td>b463eb20-2f01-4200-9d6f-b18888ce2593</td>\n",
       "      <td>2CNDL13F576252855</td>\n",
       "    </tr>\n",
       "    <tr>\n",
       "      <th>1</th>\n",
       "      <td>1</td>\n",
       "      <td>AB4313000X</td>\n",
       "      <td>F</td>\n",
       "      <td>3c8629d0-d524-47c1-bfbc-b18e07f3087e</td>\n",
       "      <td>0</td>\n",
       "      <td>2CNDL13F576252855</td>\n",
       "      <td>CHEVROLET</td>\n",
       "      <td>EQUINOX</td>\n",
       "      <td>2007</td>\n",
       "      <td>3776.0</td>\n",
       "      <td>2.0</td>\n",
       "      <td>AB4313000X</td>\n",
       "      <td>25</td>\n",
       "      <td>b463eb20-2f01-4200-9d6f-b18888ce2593</td>\n",
       "      <td>2CNDL13F576252855</td>\n",
       "      <td>2T2HA31U24C031048</td>\n",
       "      <td>LEXUS</td>\n",
       "      <td>RX</td>\n",
       "      <td>2004</td>\n",
       "      <td>3900.0</td>\n",
       "      <td>2.00</td>\n",
       "      <td>25</td>\n",
       "      <td>3c8629d0-d524-47c1-bfbc-b18e07f3087e</td>\n",
       "      <td>2T2HA31U24C031048</td>\n",
       "    </tr>\n",
       "    <tr>\n",
       "      <th>2</th>\n",
       "      <td>1</td>\n",
       "      <td>AB5218001Y</td>\n",
       "      <td>F</td>\n",
       "      <td>4dea42c3-e02c-4c6b-8ea0-c2f8c17f147f</td>\n",
       "      <td>0</td>\n",
       "      <td>1LNHM82W53Y644084</td>\n",
       "      <td>LINCOLN</td>\n",
       "      <td>TOWN CAR</td>\n",
       "      <td>2003</td>\n",
       "      <td>4000.0</td>\n",
       "      <td>2.0</td>\n",
       "      <td>AB5218001Y</td>\n",
       "      <td>25</td>\n",
       "      <td>057a3e63-3009-4d07-b956-78f53a0ca992</td>\n",
       "      <td>1LNHM82W53Y644084</td>\n",
       "      <td>5NMSG3AB9AH400386</td>\n",
       "      <td>HYUNDAI</td>\n",
       "      <td>SANTA FE</td>\n",
       "      <td>2010</td>\n",
       "      <td>3900.0</td>\n",
       "      <td>23.08</td>\n",
       "      <td>25</td>\n",
       "      <td>4dea42c3-e02c-4c6b-8ea0-c2f8c17f147f</td>\n",
       "      <td>5NMSG3AB9AH400386</td>\n",
       "    </tr>\n",
       "  </tbody>\n",
       "</table>\n",
       "</div>"
      ],
      "text/plain": [
       "   INJ_SEVER_CODE REPORT_NO_x SEX_CODE                            VEHICLE_ID  \\\n",
       "0               1  AB4313000X        F  b463eb20-2f01-4200-9d6f-b18888ce2593   \n",
       "1               1  AB4313000X        F  3c8629d0-d524-47c1-bfbc-b18e07f3087e   \n",
       "2               1  AB5218001Y        F  4dea42c3-e02c-4c6b-8ea0-c2f8c17f147f   \n",
       "\n",
       "   had_fatality        VIN_striker Make_striker Model_striker  \\\n",
       "0             0  2T2HA31U24C031048        LEXUS            RX   \n",
       "1             0  2CNDL13F576252855    CHEVROLET       EQUINOX   \n",
       "2             0  1LNHM82W53Y644084      LINCOLN      TOWN CAR   \n",
       "\n",
       "   ModelYear_striker  weight_striker  BODY_TYPE_CODE_striker REPORT_NO_y  \\\n",
       "0               2004          3900.0                     2.0  AB4313000X   \n",
       "1               2007          3776.0                     2.0  AB4313000X   \n",
       "2               2003          4000.0                     2.0  AB5218001Y   \n",
       "\n",
       "   SPEED_LIMIT_striker                    VEHICLE_ID_striker  \\\n",
       "0                   25  3c8629d0-d524-47c1-bfbc-b18e07f3087e   \n",
       "1                   25  b463eb20-2f01-4200-9d6f-b18888ce2593   \n",
       "2                   25  057a3e63-3009-4d07-b956-78f53a0ca992   \n",
       "\n",
       "      VIN_NO_striker         VIN_struck Make_struck Model_struck  \\\n",
       "0  2T2HA31U24C031048  2CNDL13F576252855   CHEVROLET      EQUINOX   \n",
       "1  2CNDL13F576252855  2T2HA31U24C031048       LEXUS           RX   \n",
       "2  1LNHM82W53Y644084  5NMSG3AB9AH400386     HYUNDAI     SANTA FE   \n",
       "\n",
       "   ModelYear_struck  weight_struck  BODY_TYPE_CODE_struck  SPEED_LIMIT_struck  \\\n",
       "0              2007         3776.0                   2.00                  25   \n",
       "1              2004         3900.0                   2.00                  25   \n",
       "2              2010         3900.0                  23.08                  25   \n",
       "\n",
       "                      VEHICLE_ID_struck      VIN_NO_struck  \n",
       "0  b463eb20-2f01-4200-9d6f-b18888ce2593  2CNDL13F576252855  \n",
       "1  3c8629d0-d524-47c1-bfbc-b18e07f3087e  2T2HA31U24C031048  \n",
       "2  4dea42c3-e02c-4c6b-8ea0-c2f8c17f147f  5NMSG3AB9AH400386  "
      ]
     },
     "execution_count": 62,
     "metadata": {},
     "output_type": "execute_result"
    }
   ],
   "source": [
    "merged2 = people.merge(vehicles_complete, left_on='VEHICLE_ID', right_on='VEHICLE_ID_struck')\n",
    "merged2.head(3)"
   ]
  },
  {
   "cell_type": "markdown",
   "metadata": {},
   "source": [
    "# Add the crash details\n",
    "\n",
    "You did this already! I'm going to do it for you. We're merging on `REPORT_NO_x` because there are so many `REPORT_NO` columns duplicated across our files that pandas started giving them weird names."
   ]
  },
  {
   "cell_type": "code",
   "execution_count": 63,
   "metadata": {},
   "outputs": [
    {
     "data": {
      "text/html": [
       "<div>\n",
       "<style scoped>\n",
       "    .dataframe tbody tr th:only-of-type {\n",
       "        vertical-align: middle;\n",
       "    }\n",
       "\n",
       "    .dataframe tbody tr th {\n",
       "        vertical-align: top;\n",
       "    }\n",
       "\n",
       "    .dataframe thead th {\n",
       "        text-align: right;\n",
       "    }\n",
       "</style>\n",
       "<table border=\"1\" class=\"dataframe\">\n",
       "  <thead>\n",
       "    <tr style=\"text-align: right;\">\n",
       "      <th></th>\n",
       "      <th>INJ_SEVER_CODE</th>\n",
       "      <th>REPORT_NO_x</th>\n",
       "      <th>SEX_CODE</th>\n",
       "      <th>VEHICLE_ID</th>\n",
       "      <th>had_fatality</th>\n",
       "      <th>VIN_striker</th>\n",
       "      <th>Make_striker</th>\n",
       "      <th>Model_striker</th>\n",
       "      <th>ModelYear_striker</th>\n",
       "      <th>weight_striker</th>\n",
       "      <th>BODY_TYPE_CODE_striker</th>\n",
       "      <th>REPORT_NO_y</th>\n",
       "      <th>SPEED_LIMIT_striker</th>\n",
       "      <th>VEHICLE_ID_striker</th>\n",
       "      <th>VIN_NO_striker</th>\n",
       "      <th>VIN_struck</th>\n",
       "      <th>Make_struck</th>\n",
       "      <th>Model_struck</th>\n",
       "      <th>ModelYear_struck</th>\n",
       "      <th>weight_struck</th>\n",
       "      <th>BODY_TYPE_CODE_struck</th>\n",
       "      <th>SPEED_LIMIT_struck</th>\n",
       "      <th>VEHICLE_ID_struck</th>\n",
       "      <th>VIN_NO_struck</th>\n",
       "      <th>REPORT_NO</th>\n",
       "      <th>SURF_COND_CODE</th>\n",
       "    </tr>\n",
       "  </thead>\n",
       "  <tbody>\n",
       "    <tr>\n",
       "      <th>0</th>\n",
       "      <td>1</td>\n",
       "      <td>AB4313000X</td>\n",
       "      <td>F</td>\n",
       "      <td>b463eb20-2f01-4200-9d6f-b18888ce2593</td>\n",
       "      <td>0</td>\n",
       "      <td>2T2HA31U24C031048</td>\n",
       "      <td>LEXUS</td>\n",
       "      <td>RX</td>\n",
       "      <td>2004</td>\n",
       "      <td>3900.0</td>\n",
       "      <td>2.0</td>\n",
       "      <td>AB4313000X</td>\n",
       "      <td>25</td>\n",
       "      <td>3c8629d0-d524-47c1-bfbc-b18e07f3087e</td>\n",
       "      <td>2T2HA31U24C031048</td>\n",
       "      <td>2CNDL13F576252855</td>\n",
       "      <td>CHEVROLET</td>\n",
       "      <td>EQUINOX</td>\n",
       "      <td>2007</td>\n",
       "      <td>3776.0</td>\n",
       "      <td>2.00</td>\n",
       "      <td>25</td>\n",
       "      <td>b463eb20-2f01-4200-9d6f-b18888ce2593</td>\n",
       "      <td>2CNDL13F576252855</td>\n",
       "      <td>AB4313000X</td>\n",
       "      <td>0.0</td>\n",
       "    </tr>\n",
       "    <tr>\n",
       "      <th>1</th>\n",
       "      <td>1</td>\n",
       "      <td>AB4313000X</td>\n",
       "      <td>F</td>\n",
       "      <td>3c8629d0-d524-47c1-bfbc-b18e07f3087e</td>\n",
       "      <td>0</td>\n",
       "      <td>2CNDL13F576252855</td>\n",
       "      <td>CHEVROLET</td>\n",
       "      <td>EQUINOX</td>\n",
       "      <td>2007</td>\n",
       "      <td>3776.0</td>\n",
       "      <td>2.0</td>\n",
       "      <td>AB4313000X</td>\n",
       "      <td>25</td>\n",
       "      <td>b463eb20-2f01-4200-9d6f-b18888ce2593</td>\n",
       "      <td>2CNDL13F576252855</td>\n",
       "      <td>2T2HA31U24C031048</td>\n",
       "      <td>LEXUS</td>\n",
       "      <td>RX</td>\n",
       "      <td>2004</td>\n",
       "      <td>3900.0</td>\n",
       "      <td>2.00</td>\n",
       "      <td>25</td>\n",
       "      <td>3c8629d0-d524-47c1-bfbc-b18e07f3087e</td>\n",
       "      <td>2T2HA31U24C031048</td>\n",
       "      <td>AB4313000X</td>\n",
       "      <td>0.0</td>\n",
       "    </tr>\n",
       "    <tr>\n",
       "      <th>2</th>\n",
       "      <td>1</td>\n",
       "      <td>AB5218001Y</td>\n",
       "      <td>F</td>\n",
       "      <td>4dea42c3-e02c-4c6b-8ea0-c2f8c17f147f</td>\n",
       "      <td>0</td>\n",
       "      <td>1LNHM82W53Y644084</td>\n",
       "      <td>LINCOLN</td>\n",
       "      <td>TOWN CAR</td>\n",
       "      <td>2003</td>\n",
       "      <td>4000.0</td>\n",
       "      <td>2.0</td>\n",
       "      <td>AB5218001Y</td>\n",
       "      <td>25</td>\n",
       "      <td>057a3e63-3009-4d07-b956-78f53a0ca992</td>\n",
       "      <td>1LNHM82W53Y644084</td>\n",
       "      <td>5NMSG3AB9AH400386</td>\n",
       "      <td>HYUNDAI</td>\n",
       "      <td>SANTA FE</td>\n",
       "      <td>2010</td>\n",
       "      <td>3900.0</td>\n",
       "      <td>23.08</td>\n",
       "      <td>25</td>\n",
       "      <td>4dea42c3-e02c-4c6b-8ea0-c2f8c17f147f</td>\n",
       "      <td>5NMSG3AB9AH400386</td>\n",
       "      <td>AB5218001Y</td>\n",
       "      <td>2.0</td>\n",
       "    </tr>\n",
       "  </tbody>\n",
       "</table>\n",
       "</div>"
      ],
      "text/plain": [
       "   INJ_SEVER_CODE REPORT_NO_x SEX_CODE                            VEHICLE_ID  \\\n",
       "0               1  AB4313000X        F  b463eb20-2f01-4200-9d6f-b18888ce2593   \n",
       "1               1  AB4313000X        F  3c8629d0-d524-47c1-bfbc-b18e07f3087e   \n",
       "2               1  AB5218001Y        F  4dea42c3-e02c-4c6b-8ea0-c2f8c17f147f   \n",
       "\n",
       "   had_fatality        VIN_striker Make_striker Model_striker  \\\n",
       "0             0  2T2HA31U24C031048        LEXUS            RX   \n",
       "1             0  2CNDL13F576252855    CHEVROLET       EQUINOX   \n",
       "2             0  1LNHM82W53Y644084      LINCOLN      TOWN CAR   \n",
       "\n",
       "   ModelYear_striker  weight_striker  BODY_TYPE_CODE_striker REPORT_NO_y  \\\n",
       "0               2004          3900.0                     2.0  AB4313000X   \n",
       "1               2007          3776.0                     2.0  AB4313000X   \n",
       "2               2003          4000.0                     2.0  AB5218001Y   \n",
       "\n",
       "   SPEED_LIMIT_striker                    VEHICLE_ID_striker  \\\n",
       "0                   25  3c8629d0-d524-47c1-bfbc-b18e07f3087e   \n",
       "1                   25  b463eb20-2f01-4200-9d6f-b18888ce2593   \n",
       "2                   25  057a3e63-3009-4d07-b956-78f53a0ca992   \n",
       "\n",
       "      VIN_NO_striker         VIN_struck Make_struck Model_struck  \\\n",
       "0  2T2HA31U24C031048  2CNDL13F576252855   CHEVROLET      EQUINOX   \n",
       "1  2CNDL13F576252855  2T2HA31U24C031048       LEXUS           RX   \n",
       "2  1LNHM82W53Y644084  5NMSG3AB9AH400386     HYUNDAI     SANTA FE   \n",
       "\n",
       "   ModelYear_struck  weight_struck  BODY_TYPE_CODE_struck  SPEED_LIMIT_struck  \\\n",
       "0              2007         3776.0                   2.00                  25   \n",
       "1              2004         3900.0                   2.00                  25   \n",
       "2              2010         3900.0                  23.08                  25   \n",
       "\n",
       "                      VEHICLE_ID_struck      VIN_NO_struck   REPORT_NO  \\\n",
       "0  b463eb20-2f01-4200-9d6f-b18888ce2593  2CNDL13F576252855  AB4313000X   \n",
       "1  3c8629d0-d524-47c1-bfbc-b18e07f3087e  2T2HA31U24C031048  AB4313000X   \n",
       "2  4dea42c3-e02c-4c6b-8ea0-c2f8c17f147f  5NMSG3AB9AH400386  AB5218001Y   \n",
       "\n",
       "   SURF_COND_CODE  \n",
       "0             0.0  \n",
       "1             0.0  \n",
       "2             2.0  "
      ]
     },
     "execution_count": 63,
     "metadata": {},
     "output_type": "execute_result"
    }
   ],
   "source": [
    "merged2 = merged2.merge(crashes, left_on='REPORT_NO_x', right_on='REPORT_NO')\n",
    "merged2.head(3)"
   ]
  },
  {
   "cell_type": "markdown",
   "metadata": {},
   "source": [
    "## Filter\n",
    "\n",
    "We already filtered out vehicles by weight, so we don't have to do that again."
   ]
  },
  {
   "cell_type": "markdown",
   "metadata": {},
   "source": [
    "# Calculated features\n",
    "\n",
    "I'm sure you forgot what all the features are, so we'll bring back whether there was a fatality or not"
   ]
  },
  {
   "cell_type": "markdown",
   "metadata": {},
   "source": [
    "## Feature: Accident was fatal"
   ]
  },
  {
   "cell_type": "code",
   "execution_count": 64,
   "metadata": {},
   "outputs": [
    {
     "data": {
      "text/plain": [
       "0    333707\n",
       "1       689\n",
       "Name: had_fatality, dtype: int64"
      ]
     },
     "execution_count": 64,
     "metadata": {},
     "output_type": "execute_result"
    }
   ],
   "source": [
    "merged2['had_fatality'] = (merged.INJ_SEVER_CODE == 5).astype(int)\n",
    "merged2.had_fatality.value_counts()"
   ]
  },
  {
   "cell_type": "markdown",
   "metadata": {},
   "source": [
    "## Feature: Weight difference\n",
    "\n",
    "**Remove everything missing weights for strikers or struck vehicles.** You might need to `merged.columns` to remind yourself what the column names are."
   ]
  },
  {
   "cell_type": "code",
   "execution_count": 65,
   "metadata": {},
   "outputs": [],
   "source": [
    "merged2=merged2.dropna(subset=[\"weight_striker\",\"weight_struck\"])"
   ]
  },
  {
   "cell_type": "markdown",
   "metadata": {},
   "source": [
    "Confirm your dataset has roughly 335,000 rows."
   ]
  },
  {
   "cell_type": "code",
   "execution_count": 66,
   "metadata": {},
   "outputs": [
    {
     "data": {
      "text/plain": [
       "(334396, 26)"
      ]
     },
     "execution_count": 66,
     "metadata": {},
     "output_type": "execute_result"
    }
   ],
   "source": [
    "merged2.shape"
   ]
  },
  {
   "cell_type": "markdown",
   "metadata": {},
   "source": [
    "Create a new feature called `weight_diff` about how much heavier the striking car was compared to the struck car. **Make sure you've done the math correctly!**"
   ]
  },
  {
   "cell_type": "code",
   "execution_count": 67,
   "metadata": {},
   "outputs": [],
   "source": [
    "merged2[\"weight_diff\"]=merged2[\"weight_striker\"]-merged2[\"weight_struck\"]"
   ]
  },
  {
   "cell_type": "markdown",
   "metadata": {},
   "source": [
    "### Feature adjustment\n",
    "\n",
    "Make all of your weight columns in **thousands of pounds** instead of just in pounds. It'll help you interpret your results much better."
   ]
  },
  {
   "cell_type": "markdown",
   "metadata": {},
   "source": [
    "# Another regression!!!\n",
    "\n",
    "**What is the impact of weight difference on fatality rate?** Create your `train_df`, drop missing values, run your regression, analyze your odds ratios."
   ]
  },
  {
   "cell_type": "code",
   "execution_count": 68,
   "metadata": {},
   "outputs": [
    {
     "data": {
      "text/html": [
       "<div>\n",
       "<style scoped>\n",
       "    .dataframe tbody tr th:only-of-type {\n",
       "        vertical-align: middle;\n",
       "    }\n",
       "\n",
       "    .dataframe tbody tr th {\n",
       "        vertical-align: top;\n",
       "    }\n",
       "\n",
       "    .dataframe thead th {\n",
       "        text-align: right;\n",
       "    }\n",
       "</style>\n",
       "<table border=\"1\" class=\"dataframe\">\n",
       "  <thead>\n",
       "    <tr style=\"text-align: right;\">\n",
       "      <th></th>\n",
       "      <th>feature</th>\n",
       "      <th>co-eff</th>\n",
       "    </tr>\n",
       "  </thead>\n",
       "  <tbody>\n",
       "    <tr>\n",
       "      <th>0</th>\n",
       "      <td>weight_diff</td>\n",
       "      <td>0.993059</td>\n",
       "    </tr>\n",
       "  </tbody>\n",
       "</table>\n",
       "</div>"
      ],
      "text/plain": [
       "       feature    co-eff\n",
       "0  weight_diff  0.993059"
      ]
     },
     "execution_count": 68,
     "metadata": {},
     "output_type": "execute_result"
    }
   ],
   "source": [
    "merged2[\"weight_diff\"]=merged2[\"weight_diff\"]/1000\n",
    "merged2=merged2.dropna(subset=[\"weight_diff\",\"had_fatality\"])\n",
    "X=merged2[[\"weight_diff\"]]\n",
    "y=merged2[\"had_fatality\"]\n",
    "model=LogisticRegression(C=1e9, solver=\"lbfgs\",max_iter=4000)\n",
    "results=model.fit(X,y)\n",
    "pd.DataFrame({\n",
    "    \"feature\":X.columns,\n",
    "    \"co-eff\":np.exp(results.coef_[0])\n",
    "})"
   ]
  },
  {
   "cell_type": "markdown",
   "metadata": {},
   "source": [
    "Please translate your odds ratio into plain English."
   ]
  },
  {
   "cell_type": "code",
   "execution_count": 69,
   "metadata": {},
   "outputs": [],
   "source": [
    "# For every thousand pounds increase in the marginal weight of the striker car, there is a ~61% increase in fatalities."
   ]
  },
  {
   "cell_type": "markdown",
   "metadata": {},
   "source": [
    "## Adding in more features\n",
    "\n",
    "How about speed limit? That's important, right? We can add the speed limit of the striking vehicle with `SPEED_LIMIT_striker`."
   ]
  },
  {
   "cell_type": "code",
   "execution_count": 70,
   "metadata": {},
   "outputs": [
    {
     "data": {
      "text/plain": [
       "Index(['INJ_SEVER_CODE', 'REPORT_NO_x', 'SEX_CODE', 'VEHICLE_ID',\n",
       "       'had_fatality', 'VIN_striker', 'Make_striker', 'Model_striker',\n",
       "       'ModelYear_striker', 'weight_striker', 'BODY_TYPE_CODE_striker',\n",
       "       'REPORT_NO_y', 'SPEED_LIMIT_striker', 'VEHICLE_ID_striker',\n",
       "       'VIN_NO_striker', 'VIN_struck', 'Make_struck', 'Model_struck',\n",
       "       'ModelYear_struck', 'weight_struck', 'BODY_TYPE_CODE_struck',\n",
       "       'SPEED_LIMIT_struck', 'VEHICLE_ID_struck', 'VIN_NO_struck', 'REPORT_NO',\n",
       "       'SURF_COND_CODE', 'weight_diff'],\n",
       "      dtype='object')"
      ]
     },
     "execution_count": 70,
     "metadata": {},
     "output_type": "execute_result"
    }
   ],
   "source": [
    "merged2.columns"
   ]
  },
  {
   "cell_type": "code",
   "execution_count": 71,
   "metadata": {},
   "outputs": [
    {
     "data": {
      "text/html": [
       "<div>\n",
       "<style scoped>\n",
       "    .dataframe tbody tr th:only-of-type {\n",
       "        vertical-align: middle;\n",
       "    }\n",
       "\n",
       "    .dataframe tbody tr th {\n",
       "        vertical-align: top;\n",
       "    }\n",
       "\n",
       "    .dataframe thead th {\n",
       "        text-align: right;\n",
       "    }\n",
       "</style>\n",
       "<table border=\"1\" class=\"dataframe\">\n",
       "  <thead>\n",
       "    <tr style=\"text-align: right;\">\n",
       "      <th></th>\n",
       "      <th>feature</th>\n",
       "      <th>co-eff</th>\n",
       "    </tr>\n",
       "  </thead>\n",
       "  <tbody>\n",
       "    <tr>\n",
       "      <th>0</th>\n",
       "      <td>weight_diff</td>\n",
       "      <td>0.993243</td>\n",
       "    </tr>\n",
       "    <tr>\n",
       "      <th>1</th>\n",
       "      <td>SPEED_LIMIT_striker</td>\n",
       "      <td>1.002355</td>\n",
       "    </tr>\n",
       "  </tbody>\n",
       "</table>\n",
       "</div>"
      ],
      "text/plain": [
       "               feature    co-eff\n",
       "0          weight_diff  0.993243\n",
       "1  SPEED_LIMIT_striker  1.002355"
      ]
     },
     "execution_count": 71,
     "metadata": {},
     "output_type": "execute_result"
    }
   ],
   "source": [
    "X1=merged2[[\"weight_diff\",\"SPEED_LIMIT_striker\"]]\n",
    "y=merged2[\"had_fatality\"]\n",
    "model=LogisticRegression(C=1e9, solver=\"lbfgs\",max_iter=4000)\n",
    "results=model.fit(X1,y)\n",
    "pd.DataFrame({\n",
    "    \"feature\":X1.columns,\n",
    "    \"co-eff\":np.exp(results.coef_[0])\n",
    "})"
   ]
  },
  {
   "cell_type": "markdown",
   "metadata": {},
   "source": [
    "Can you translate the speed limit odds ratio into plain English?"
   ]
  },
  {
   "cell_type": "code",
   "execution_count": 72,
   "metadata": {},
   "outputs": [],
   "source": [
    "# The speed limit of the striker car has an effect on fatalty - \n",
    "##with every unit increase in the speed of the striker car, there is a ~5% increase in fatality.\n",
    "##After accounting for the speed limit, an increase in the weight of the striker car by 1000 thousands results in a ~59% \n",
    "##increase in fatality."
   ]
  },
  {
   "cell_type": "markdown",
   "metadata": {},
   "source": [
    "### Feature engineering: Speed limits\n",
    "\n",
    "Honestly, that's a pretty bad way to go about things. What's more fun is if we **translate speed limits into bins.**\n",
    "\n",
    "First, we'll use `pd.cut` to assign each speed limit a category."
   ]
  },
  {
   "cell_type": "code",
   "execution_count": 73,
   "metadata": {},
   "outputs": [
    {
     "data": {
      "text/html": [
       "<div>\n",
       "<style scoped>\n",
       "    .dataframe tbody tr th:only-of-type {\n",
       "        vertical-align: middle;\n",
       "    }\n",
       "\n",
       "    .dataframe tbody tr th {\n",
       "        vertical-align: top;\n",
       "    }\n",
       "\n",
       "    .dataframe thead th {\n",
       "        text-align: right;\n",
       "    }\n",
       "</style>\n",
       "<table border=\"1\" class=\"dataframe\">\n",
       "  <thead>\n",
       "    <tr style=\"text-align: right;\">\n",
       "      <th></th>\n",
       "      <th>SPEED_LIMIT_striker</th>\n",
       "      <th>speed_bin</th>\n",
       "    </tr>\n",
       "  </thead>\n",
       "  <tbody>\n",
       "    <tr>\n",
       "      <th>0</th>\n",
       "      <td>25</td>\n",
       "      <td>(20.0, 30.0]</td>\n",
       "    </tr>\n",
       "    <tr>\n",
       "      <th>1</th>\n",
       "      <td>25</td>\n",
       "      <td>(20.0, 30.0]</td>\n",
       "    </tr>\n",
       "    <tr>\n",
       "      <th>2</th>\n",
       "      <td>25</td>\n",
       "      <td>(20.0, 30.0]</td>\n",
       "    </tr>\n",
       "    <tr>\n",
       "      <th>3</th>\n",
       "      <td>25</td>\n",
       "      <td>(20.0, 30.0]</td>\n",
       "    </tr>\n",
       "    <tr>\n",
       "      <th>4</th>\n",
       "      <td>25</td>\n",
       "      <td>(20.0, 30.0]</td>\n",
       "    </tr>\n",
       "    <tr>\n",
       "      <th>5</th>\n",
       "      <td>5</td>\n",
       "      <td>(-inf, 10.0]</td>\n",
       "    </tr>\n",
       "    <tr>\n",
       "      <th>6</th>\n",
       "      <td>45</td>\n",
       "      <td>(40.0, 50.0]</td>\n",
       "    </tr>\n",
       "    <tr>\n",
       "      <th>7</th>\n",
       "      <td>45</td>\n",
       "      <td>(40.0, 50.0]</td>\n",
       "    </tr>\n",
       "    <tr>\n",
       "      <th>8</th>\n",
       "      <td>45</td>\n",
       "      <td>(40.0, 50.0]</td>\n",
       "    </tr>\n",
       "    <tr>\n",
       "      <th>9</th>\n",
       "      <td>45</td>\n",
       "      <td>(40.0, 50.0]</td>\n",
       "    </tr>\n",
       "  </tbody>\n",
       "</table>\n",
       "</div>"
      ],
      "text/plain": [
       "   SPEED_LIMIT_striker     speed_bin\n",
       "0                   25  (20.0, 30.0]\n",
       "1                   25  (20.0, 30.0]\n",
       "2                   25  (20.0, 30.0]\n",
       "3                   25  (20.0, 30.0]\n",
       "4                   25  (20.0, 30.0]\n",
       "5                    5  (-inf, 10.0]\n",
       "6                   45  (40.0, 50.0]\n",
       "7                   45  (40.0, 50.0]\n",
       "8                   45  (40.0, 50.0]\n",
       "9                   45  (40.0, 50.0]"
      ]
     },
     "execution_count": 73,
     "metadata": {},
     "output_type": "execute_result"
    }
   ],
   "source": [
    "speed_bins = [-np.inf, 10, 20, 30, 40, 50, np.inf]\n",
    "merged2['speed_bin'] = pd.cut(merged2.SPEED_LIMIT_struck, bins=speed_bins)\n",
    "merged2[['SPEED_LIMIT_striker', 'speed_bin']].head(10)"
   ]
  },
  {
   "cell_type": "markdown",
   "metadata": {},
   "source": [
    "Then we'll one-hot encode around 20-30mph speed limits."
   ]
  },
  {
   "cell_type": "code",
   "execution_count": 74,
   "metadata": {},
   "outputs": [
    {
     "data": {
      "text/html": [
       "<div>\n",
       "<style scoped>\n",
       "    .dataframe tbody tr th:only-of-type {\n",
       "        vertical-align: middle;\n",
       "    }\n",
       "\n",
       "    .dataframe tbody tr th {\n",
       "        vertical-align: top;\n",
       "    }\n",
       "\n",
       "    .dataframe thead th {\n",
       "        text-align: right;\n",
       "    }\n",
       "</style>\n",
       "<table border=\"1\" class=\"dataframe\">\n",
       "  <thead>\n",
       "    <tr style=\"text-align: right;\">\n",
       "      <th></th>\n",
       "      <th>speed_(-inf, 10.0]</th>\n",
       "      <th>speed_(10.0, 20.0]</th>\n",
       "      <th>speed_(30.0, 40.0]</th>\n",
       "      <th>speed_(40.0, 50.0]</th>\n",
       "      <th>speed_(50.0, inf]</th>\n",
       "    </tr>\n",
       "  </thead>\n",
       "  <tbody>\n",
       "    <tr>\n",
       "      <th>0</th>\n",
       "      <td>0</td>\n",
       "      <td>0</td>\n",
       "      <td>0</td>\n",
       "      <td>0</td>\n",
       "      <td>0</td>\n",
       "    </tr>\n",
       "    <tr>\n",
       "      <th>1</th>\n",
       "      <td>0</td>\n",
       "      <td>0</td>\n",
       "      <td>0</td>\n",
       "      <td>0</td>\n",
       "      <td>0</td>\n",
       "    </tr>\n",
       "    <tr>\n",
       "      <th>2</th>\n",
       "      <td>0</td>\n",
       "      <td>0</td>\n",
       "      <td>0</td>\n",
       "      <td>0</td>\n",
       "      <td>0</td>\n",
       "    </tr>\n",
       "    <tr>\n",
       "      <th>3</th>\n",
       "      <td>0</td>\n",
       "      <td>0</td>\n",
       "      <td>0</td>\n",
       "      <td>0</td>\n",
       "      <td>0</td>\n",
       "    </tr>\n",
       "    <tr>\n",
       "      <th>4</th>\n",
       "      <td>0</td>\n",
       "      <td>0</td>\n",
       "      <td>0</td>\n",
       "      <td>0</td>\n",
       "      <td>0</td>\n",
       "    </tr>\n",
       "  </tbody>\n",
       "</table>\n",
       "</div>"
      ],
      "text/plain": [
       "   speed_(-inf, 10.0]  speed_(10.0, 20.0]  speed_(30.0, 40.0]  \\\n",
       "0                   0                   0                   0   \n",
       "1                   0                   0                   0   \n",
       "2                   0                   0                   0   \n",
       "3                   0                   0                   0   \n",
       "4                   0                   0                   0   \n",
       "\n",
       "   speed_(40.0, 50.0]  speed_(50.0, inf]  \n",
       "0                   0                  0  \n",
       "1                   0                  0  \n",
       "2                   0                  0  \n",
       "3                   0                  0  \n",
       "4                   0                  0  "
      ]
     },
     "execution_count": 74,
     "metadata": {},
     "output_type": "execute_result"
    }
   ],
   "source": [
    "speed_dummies = pd.get_dummies(merged2.speed_bin, \n",
    "                               prefix='speed').drop('speed_(20.0, 30.0]', axis=1)\n",
    "speed_dummies.head()"
   ]
  },
  {
   "cell_type": "markdown",
   "metadata": {},
   "source": [
    "## Running a regression\n",
    "\n",
    "I like this layout for creating `train_df`, it allows us to easily add dummies and do a little replacing/encoding when we're building binary features like for sex.\n",
    "\n",
    "> If the below gives you an error, it's because `SEX_CODE` is already a number. In that case, just remove `.replace({'M': 1, 'F': 0, 'U': np.nan })`."
   ]
  },
  {
   "cell_type": "code",
   "execution_count": 75,
   "metadata": {},
   "outputs": [
    {
     "data": {
      "text/html": [
       "<div>\n",
       "<style scoped>\n",
       "    .dataframe tbody tr th:only-of-type {\n",
       "        vertical-align: middle;\n",
       "    }\n",
       "\n",
       "    .dataframe tbody tr th {\n",
       "        vertical-align: top;\n",
       "    }\n",
       "\n",
       "    .dataframe thead th {\n",
       "        text-align: right;\n",
       "    }\n",
       "</style>\n",
       "<table border=\"1\" class=\"dataframe\">\n",
       "  <thead>\n",
       "    <tr style=\"text-align: right;\">\n",
       "      <th></th>\n",
       "      <th>weight_diff</th>\n",
       "      <th>sex</th>\n",
       "      <th>had_fatality</th>\n",
       "      <th>speed_(-inf, 10.0]</th>\n",
       "      <th>speed_(10.0, 20.0]</th>\n",
       "      <th>speed_(30.0, 40.0]</th>\n",
       "      <th>speed_(40.0, 50.0]</th>\n",
       "      <th>speed_(50.0, inf]</th>\n",
       "      <th>surf_dummies_Dry</th>\n",
       "      <th>surf_dummies_Ice</th>\n",
       "      <th>surf_dummies_Mud,Dirt,Gravel</th>\n",
       "      <th>surf_dummies_Other</th>\n",
       "      <th>surf_dummies_Snow</th>\n",
       "      <th>surf_dummies_Wet</th>\n",
       "    </tr>\n",
       "  </thead>\n",
       "  <tbody>\n",
       "    <tr>\n",
       "      <th>0</th>\n",
       "      <td>0.124</td>\n",
       "      <td>0.0</td>\n",
       "      <td>0</td>\n",
       "      <td>0</td>\n",
       "      <td>0</td>\n",
       "      <td>0</td>\n",
       "      <td>0</td>\n",
       "      <td>0</td>\n",
       "      <td>1</td>\n",
       "      <td>0</td>\n",
       "      <td>0</td>\n",
       "      <td>0</td>\n",
       "      <td>0</td>\n",
       "      <td>0</td>\n",
       "    </tr>\n",
       "    <tr>\n",
       "      <th>1</th>\n",
       "      <td>-0.124</td>\n",
       "      <td>0.0</td>\n",
       "      <td>0</td>\n",
       "      <td>0</td>\n",
       "      <td>0</td>\n",
       "      <td>0</td>\n",
       "      <td>0</td>\n",
       "      <td>0</td>\n",
       "      <td>1</td>\n",
       "      <td>0</td>\n",
       "      <td>0</td>\n",
       "      <td>0</td>\n",
       "      <td>0</td>\n",
       "      <td>0</td>\n",
       "    </tr>\n",
       "    <tr>\n",
       "      <th>2</th>\n",
       "      <td>0.100</td>\n",
       "      <td>0.0</td>\n",
       "      <td>0</td>\n",
       "      <td>0</td>\n",
       "      <td>0</td>\n",
       "      <td>0</td>\n",
       "      <td>0</td>\n",
       "      <td>0</td>\n",
       "      <td>1</td>\n",
       "      <td>0</td>\n",
       "      <td>0</td>\n",
       "      <td>0</td>\n",
       "      <td>0</td>\n",
       "      <td>0</td>\n",
       "    </tr>\n",
       "    <tr>\n",
       "      <th>3</th>\n",
       "      <td>-0.100</td>\n",
       "      <td>0.0</td>\n",
       "      <td>0</td>\n",
       "      <td>0</td>\n",
       "      <td>0</td>\n",
       "      <td>0</td>\n",
       "      <td>0</td>\n",
       "      <td>0</td>\n",
       "      <td>1</td>\n",
       "      <td>0</td>\n",
       "      <td>0</td>\n",
       "      <td>0</td>\n",
       "      <td>0</td>\n",
       "      <td>0</td>\n",
       "    </tr>\n",
       "    <tr>\n",
       "      <th>4</th>\n",
       "      <td>-0.100</td>\n",
       "      <td>1.0</td>\n",
       "      <td>0</td>\n",
       "      <td>0</td>\n",
       "      <td>0</td>\n",
       "      <td>0</td>\n",
       "      <td>0</td>\n",
       "      <td>0</td>\n",
       "      <td>1</td>\n",
       "      <td>0</td>\n",
       "      <td>0</td>\n",
       "      <td>0</td>\n",
       "      <td>0</td>\n",
       "      <td>0</td>\n",
       "    </tr>\n",
       "  </tbody>\n",
       "</table>\n",
       "</div>"
      ],
      "text/plain": [
       "   weight_diff  sex  had_fatality  speed_(-inf, 10.0]  speed_(10.0, 20.0]  \\\n",
       "0        0.124  0.0             0                   0                   0   \n",
       "1       -0.124  0.0             0                   0                   0   \n",
       "2        0.100  0.0             0                   0                   0   \n",
       "3       -0.100  0.0             0                   0                   0   \n",
       "4       -0.100  1.0             0                   0                   0   \n",
       "\n",
       "   speed_(30.0, 40.0]  speed_(40.0, 50.0]  speed_(50.0, inf]  \\\n",
       "0                   0                   0                  0   \n",
       "1                   0                   0                  0   \n",
       "2                   0                   0                  0   \n",
       "3                   0                   0                  0   \n",
       "4                   0                   0                  0   \n",
       "\n",
       "   surf_dummies_Dry  surf_dummies_Ice  surf_dummies_Mud,Dirt,Gravel  \\\n",
       "0                 1                 0                             0   \n",
       "1                 1                 0                             0   \n",
       "2                 1                 0                             0   \n",
       "3                 1                 0                             0   \n",
       "4                 1                 0                             0   \n",
       "\n",
       "   surf_dummies_Other  surf_dummies_Snow  surf_dummies_Wet  \n",
       "0                   0                  0                 0  \n",
       "1                   0                  0                 0  \n",
       "2                   0                  0                 0  \n",
       "3                   0                  0                 0  \n",
       "4                   0                  0                 0  "
      ]
     },
     "execution_count": 75,
     "metadata": {},
     "output_type": "execute_result"
    }
   ],
   "source": [
    "# Start with our normal features\n",
    "train_df4 = pd.DataFrame({\n",
    "    'weight_diff': merged2.weight_diff,\n",
    "    'sex': merged2.SEX_CODE.replace({'M': 1, 'F': 0, 'U': np.nan }),\n",
    "    'had_fatality': merged2.had_fatality,\n",
    "})\n",
    "# Add the one-hot encoded features\n",
    "train_df4 = train_df4.join(speed_dummies)\n",
    "surf_dummies=merged[['surf_dummies_Dry', 'surf_dummies_Ice', 'surf_dummies_Mud,Dirt,Gravel','surf_dummies_Other', 'surf_dummies_Snow', 'surf_dummies_Wet']]\n",
    "train_df4 = train_df4.join(surf_dummies)\n",
    "\n",
    "# Drop missing values\n",
    "train_df4 = train_df4.dropna()\n",
    "train_df4.head()"
   ]
  },
  {
   "cell_type": "code",
   "execution_count": 76,
   "metadata": {},
   "outputs": [
    {
     "data": {
      "text/html": [
       "<div>\n",
       "<style scoped>\n",
       "    .dataframe tbody tr th:only-of-type {\n",
       "        vertical-align: middle;\n",
       "    }\n",
       "\n",
       "    .dataframe tbody tr th {\n",
       "        vertical-align: top;\n",
       "    }\n",
       "\n",
       "    .dataframe thead th {\n",
       "        text-align: right;\n",
       "    }\n",
       "</style>\n",
       "<table border=\"1\" class=\"dataframe\">\n",
       "  <thead>\n",
       "    <tr style=\"text-align: right;\">\n",
       "      <th></th>\n",
       "      <th>feature</th>\n",
       "      <th>coeff</th>\n",
       "    </tr>\n",
       "  </thead>\n",
       "  <tbody>\n",
       "    <tr>\n",
       "      <th>10</th>\n",
       "      <td>surf_dummies_Other</td>\n",
       "      <td>11.385657</td>\n",
       "    </tr>\n",
       "    <tr>\n",
       "      <th>9</th>\n",
       "      <td>surf_dummies_Mud,Dirt,Gravel</td>\n",
       "      <td>7.469658</td>\n",
       "    </tr>\n",
       "    <tr>\n",
       "      <th>7</th>\n",
       "      <td>surf_dummies_Dry</td>\n",
       "      <td>3.607917</td>\n",
       "    </tr>\n",
       "    <tr>\n",
       "      <th>12</th>\n",
       "      <td>surf_dummies_Wet</td>\n",
       "      <td>3.037426</td>\n",
       "    </tr>\n",
       "    <tr>\n",
       "      <th>8</th>\n",
       "      <td>surf_dummies_Ice</td>\n",
       "      <td>2.971510</td>\n",
       "    </tr>\n",
       "    <tr>\n",
       "      <th>11</th>\n",
       "      <td>surf_dummies_Snow</td>\n",
       "      <td>1.542611</td>\n",
       "    </tr>\n",
       "    <tr>\n",
       "      <th>5</th>\n",
       "      <td>speed_(40.0, 50.0]</td>\n",
       "      <td>1.071110</td>\n",
       "    </tr>\n",
       "    <tr>\n",
       "      <th>2</th>\n",
       "      <td>speed_(-inf, 10.0]</td>\n",
       "      <td>0.997230</td>\n",
       "    </tr>\n",
       "    <tr>\n",
       "      <th>0</th>\n",
       "      <td>weight_diff</td>\n",
       "      <td>0.987504</td>\n",
       "    </tr>\n",
       "    <tr>\n",
       "      <th>1</th>\n",
       "      <td>sex</td>\n",
       "      <td>0.946173</td>\n",
       "    </tr>\n",
       "    <tr>\n",
       "      <th>4</th>\n",
       "      <td>speed_(30.0, 40.0]</td>\n",
       "      <td>0.943591</td>\n",
       "    </tr>\n",
       "    <tr>\n",
       "      <th>6</th>\n",
       "      <td>speed_(50.0, inf]</td>\n",
       "      <td>0.903597</td>\n",
       "    </tr>\n",
       "    <tr>\n",
       "      <th>3</th>\n",
       "      <td>speed_(10.0, 20.0]</td>\n",
       "      <td>0.777882</td>\n",
       "    </tr>\n",
       "  </tbody>\n",
       "</table>\n",
       "</div>"
      ],
      "text/plain": [
       "                         feature      coeff\n",
       "10            surf_dummies_Other  11.385657\n",
       "9   surf_dummies_Mud,Dirt,Gravel   7.469658\n",
       "7               surf_dummies_Dry   3.607917\n",
       "12              surf_dummies_Wet   3.037426\n",
       "8               surf_dummies_Ice   2.971510\n",
       "11             surf_dummies_Snow   1.542611\n",
       "5             speed_(40.0, 50.0]   1.071110\n",
       "2             speed_(-inf, 10.0]   0.997230\n",
       "0                    weight_diff   0.987504\n",
       "1                            sex   0.946173\n",
       "4             speed_(30.0, 40.0]   0.943591\n",
       "6              speed_(50.0, inf]   0.903597\n",
       "3             speed_(10.0, 20.0]   0.777882"
      ]
     },
     "execution_count": 76,
     "metadata": {},
     "output_type": "execute_result"
    }
   ],
   "source": [
    "X=train_df4.drop(columns=\"had_fatality\")\n",
    "y=train_df4[\"had_fatality\"]\n",
    "model=LogisticRegression(C=1e9, solver=\"lbfgs\",max_iter=4000)\n",
    "result=model.fit(X,y)\n",
    "\n",
    "pd.DataFrame({\n",
    "    \"feature\":X.columns,\n",
    "    \"coeff\":np.exp(result.coef_[0])\n",
    "}).sort_values(by=\"coeff\", ascending=False)"
   ]
  },
  {
   "cell_type": "markdown",
   "metadata": {},
   "source": [
    "Describe the impact of the different variables in simple language. What has the largest impact?"
   ]
  },
  {
   "cell_type": "code",
   "execution_count": 77,
   "metadata": {},
   "outputs": [],
   "source": [
    "# Surface variables have a greater impact on fatality than non-surface variables. After controlling for factors\n",
    "# such as the speed and weight of the car that struck, and the sex of the driver, the odds of an accident\n",
    "# occuring on a mud, dirt and gravel surface was double the odds of a fatality occuring in a surface marked as not applicable."
   ]
  },
  {
   "cell_type": "markdown",
   "metadata": {},
   "source": [
    "## Now you pick the features\n",
    "\n",
    "Up above you have examples of:\n",
    "\n",
    "* Creating features from numbers (speed limits)\n",
    "* Creating features from 0/1 (sex)\n",
    "* Creating features from binning numbers that are one-hot encoded (speed limit bins - `speed_bins`)\n",
    "* Creating features from categories that are one-hot encoded (surface - `surf_dummies`\n",
    "\n",
    "What else do you think matters? Try to plug in more features and see if you can get anything interesting.\n",
    "\n",
    "> * **Hot tip:** The funniest/most interesting thing feature you can add is also the dumbest. Ask me about it in #algorithms if you end up getting down here."
   ]
  },
  {
   "cell_type": "code",
   "execution_count": 78,
   "metadata": {},
   "outputs": [],
   "source": [
    "# Looking at whether passenger cars have greater odds of fatalities - The model shows it doesn't - \n",
    "## being in a passenger car might be more safe than being in another vehicle\n",
    "\n",
    "merged_df2.BODY_TYPE_CODE=merged_df2.BODY_TYPE_CODE.replace({\n",
    "    2.00:\"Passenger Car\"\n",
    "})\n",
    "\n",
    "merged_df2.BODY_TYPE_CODE=np.where(merged_df2.BODY_TYPE_CODE!=\"Passenger Car\", 0,1)"
   ]
  },
  {
   "cell_type": "code",
   "execution_count": 79,
   "metadata": {},
   "outputs": [],
   "source": [
    "add=merged_df2[[\"BODY_TYPE_CODE\",\"had_fatality\"]]\n",
    "add=add.rename(columns={\n",
    "    \"BODY_TYPE_CODE\":\"Passenger_vechicle\"\n",
    "})"
   ]
  },
  {
   "cell_type": "code",
   "execution_count": 80,
   "metadata": {},
   "outputs": [
    {
     "data": {
      "text/html": [
       "<div>\n",
       "<style scoped>\n",
       "    .dataframe tbody tr th:only-of-type {\n",
       "        vertical-align: middle;\n",
       "    }\n",
       "\n",
       "    .dataframe tbody tr th {\n",
       "        vertical-align: top;\n",
       "    }\n",
       "\n",
       "    .dataframe thead th {\n",
       "        text-align: right;\n",
       "    }\n",
       "</style>\n",
       "<table border=\"1\" class=\"dataframe\">\n",
       "  <thead>\n",
       "    <tr style=\"text-align: right;\">\n",
       "      <th></th>\n",
       "      <th>feature</th>\n",
       "      <th>coeff</th>\n",
       "    </tr>\n",
       "  </thead>\n",
       "  <tbody>\n",
       "    <tr>\n",
       "      <th>0</th>\n",
       "      <td>Passenger_vechicle</td>\n",
       "      <td>0.86722</td>\n",
       "    </tr>\n",
       "  </tbody>\n",
       "</table>\n",
       "</div>"
      ],
      "text/plain": [
       "              feature    coeff\n",
       "0  Passenger_vechicle  0.86722"
      ]
     },
     "execution_count": 80,
     "metadata": {},
     "output_type": "execute_result"
    }
   ],
   "source": [
    "X=add.drop(columns=\"had_fatality\")\n",
    "y=add[\"had_fatality\"]\n",
    "model=LogisticRegression(C=1e9, solver=\"lbfgs\",max_iter=4000)\n",
    "result=model.fit(X,y)\n",
    "\n",
    "pd.DataFrame({\n",
    "    \"feature\":X.columns,\n",
    "    \"coeff\":np.exp(result.coef_[0])\n",
    "}).sort_values(by=\"coeff\", ascending=False)"
   ]
  },
  {
   "cell_type": "markdown",
   "metadata": {},
   "source": [
    "### The End!"
   ]
  }
 ],
 "metadata": {
  "kernelspec": {
   "display_name": "Python 3",
   "language": "python",
   "name": "python3"
  },
  "language_info": {
   "codemirror_mode": {
    "name": "ipython",
    "version": 3
   },
   "file_extension": ".py",
   "mimetype": "text/x-python",
   "name": "python",
   "nbconvert_exporter": "python",
   "pygments_lexer": "ipython3",
   "version": "3.7.3"
  }
 },
 "nbformat": 4,
 "nbformat_minor": 2
}
